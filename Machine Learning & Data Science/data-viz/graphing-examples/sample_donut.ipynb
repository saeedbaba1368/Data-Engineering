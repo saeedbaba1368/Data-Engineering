{
 "cells": [
  {
   "cell_type": "code",
   "execution_count": 1,
   "id": "ac85f95a-e4b0-419e-96ad-f79088fa524d",
   "metadata": {},
   "outputs": [],
   "source": [
    "from graphing_libraries import SubplotDonutPlotter\n",
    "from data_generators import data_for_3d\n",
    "\n",
    "import pandas as pd"
   ]
  },
  {
   "cell_type": "code",
   "execution_count": 2,
   "id": "bee082c3-9f4b-4f30-b6e4-f35f7849f75d",
   "metadata": {},
   "outputs": [],
   "source": [
    "dataframes = {f\"df_{i}\":data_for_3d() for i in range(3)}\n",
    "scale_factor_df = pd.DataFrame({\n",
    "    'scale': [\"scale1\", \"scale2\", \"scale3\", \"scale4\",\"\"],\n",
    "    'factor': [0.5, 1.0, 1.5, 2.0,0.0]\n",
    "})\n",
    "scale_factor_df = scale_factor_df.set_index(\"scale\")"
   ]
  },
  {
   "cell_type": "code",
   "execution_count": 3,
   "id": "458f56e4-a046-4737-9d9f-d14446564f26",
   "metadata": {},
   "outputs": [
    {
     "data": {
      "application/vnd.jupyter.widget-view+json": {
       "model_id": "cdf41ffb74aa4536afdc7122da05efb0",
       "version_major": 2,
       "version_minor": 0
      },
      "text/plain": [
       "VBox(children=(VBox(children=(SelectMultiple(description='Subset Years:', index=(0, 1), options=(2010, 2011, 2…"
      ]
     },
     "metadata": {},
     "output_type": "display_data"
    }
   ],
   "source": [
    "import ipywidgets as widgets\n",
    "from ipywidgets import interact\n",
    "from IPython.display import display, clear_output\n",
    "\n",
    "class InteractiveDonutPlotter:\n",
    "    def __init__(self, dataframes):\n",
    "        self.dataframes = dataframes\n",
    "        self.subplot_donut_plotter = SubplotDonutPlotter()\n",
    "        \n",
    "        self.subset_years_widget = widgets.SelectMultiple(\n",
    "            options=list(range(2010, 2050)),\n",
    "            value=[2010,2011],\n",
    "            description='Subset Years:'\n",
    "        )\n",
    "        \n",
    "        self.aggregation_type_widget = widgets.Dropdown(\n",
    "            options=['column', 'year'],\n",
    "            value='column',\n",
    "            description='Aggregation Type:'\n",
    "        )\n",
    "        \n",
    "        self.method_widget = widgets.Dropdown(\n",
    "            options=['plot_multi_dataframe_donuts', 'plot_donut_subplots_by_column', 'plot_donut_subplots_by_year'],\n",
    "            value='plot_multi_dataframe_donuts',\n",
    "            description='Method:'\n",
    "        )\n",
    "        \n",
    "        self.dataframe_widget = widgets.Dropdown(\n",
    "            options=list(self.dataframes.keys()),\n",
    "            value=list(self.dataframes.keys())[0],\n",
    "            description='Select DataFrame:'\n",
    "        )\n",
    "        \n",
    "        self.plot_button = widgets.Button(description=\"Plot\")\n",
    "        self.plot_button.on_click(self.plot_donuts)\n",
    "        \n",
    "        self.output_plot = widgets.Output()\n",
    "        \n",
    "        controls = widgets.VBox([self.subset_years_widget, self.aggregation_type_widget, \n",
    "                                 self.method_widget, self.dataframe_widget, self.plot_button])\n",
    "        \n",
    "        display(widgets.VBox([controls, self.output_plot]))\n",
    "    \n",
    "    def plot_donuts(self, _):\n",
    "        with self.output_plot:\n",
    "            clear_output(wait=True)\n",
    "            \n",
    "            subset_years = self.subset_years_widget.value\n",
    "            aggregation_type = self.aggregation_type_widget.value\n",
    "            method = self.method_widget.value\n",
    "            selected_dataframe_key = self.dataframe_widget.value\n",
    "\n",
    "            selected_dataframes = {key: df for key, df in self.dataframes.items() if df is not None}\n",
    "\n",
    "            if method == 'plot_multi_dataframe_donuts':\n",
    "                self.subplot_donut_plotter.plot_multi_dataframe_donuts(list(selected_dataframes.values()), aggregation_type, list(subset_years))\n",
    "            elif method == 'plot_donut_subplots_by_column':\n",
    "                selected_df = selected_dataframes[selected_dataframe_key]\n",
    "                self.subplot_donut_plotter.plot_donut_subplots_by_column(selected_df, list(subset_years))\n",
    "            elif method == 'plot_donut_subplots_by_year':\n",
    "                selected_df = selected_dataframes[selected_dataframe_key]\n",
    "                self.subplot_donut_plotter.plot_donut_subplots_by_year(selected_df, list(subset_years))\n",
    "\n",
    "# Example usage:\n",
    "# Assuming df1, df2, etc., are your DataFrames\n",
    "\n",
    "# Create an instance of the InteractiveDonutPlotter\n",
    "interactive_plotter = InteractiveDonutPlotter(dataframes)\n"
   ]
  },
  {
   "cell_type": "code",
   "execution_count": null,
   "id": "90c63d65-f5f9-41aa-ba04-e7ff3edde1f8",
   "metadata": {},
   "outputs": [],
   "source": []
  }
 ],
 "metadata": {
  "kernelspec": {
   "display_name": "Python 3 (ipykernel)",
   "language": "python",
   "name": "python3"
  },
  "language_info": {
   "codemirror_mode": {
    "name": "ipython",
    "version": 3
   },
   "file_extension": ".py",
   "mimetype": "text/x-python",
   "name": "python",
   "nbconvert_exporter": "python",
   "pygments_lexer": "ipython3",
   "version": "3.11.3"
  }
 },
 "nbformat": 4,
 "nbformat_minor": 5
}
