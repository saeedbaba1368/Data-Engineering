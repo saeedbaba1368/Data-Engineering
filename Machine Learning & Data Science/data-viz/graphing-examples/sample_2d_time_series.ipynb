{
 "cells": [
  {
   "cell_type": "code",
   "execution_count": 1,
   "id": "c64270ab-534a-471b-8d1b-a54826599bc3",
   "metadata": {},
   "outputs": [],
   "source": [
    "from graphing_libraries import ThreeDPlotter, TimeSeriesPlotter\n",
    "from data_generators import data_for_3d\n",
    "import ipywidgets as widgets\n",
    "\n",
    "from functools import partial\n",
    "from IPython.display import display, clear_output\n",
    "\n",
    "import pandas as pd"
   ]
  },
  {
   "cell_type": "code",
   "execution_count": 2,
   "id": "13608f91-5559-4af7-81fc-c124b7ffab05",
   "metadata": {},
   "outputs": [],
   "source": [
    "df = data_for_3d()\n",
    "scale_factor_df = pd.DataFrame({\n",
    "    'scale': [\"scale1\", \"scale2\", \"scale3\", \"scale4\",\"\"],\n",
    "    'factor': [0.5, 1.0, 1.5, 2.0,0.0]\n",
    "})\n",
    "scale_factor_df = scale_factor_df.set_index(\"scale\")"
   ]
  },
  {
   "cell_type": "code",
   "execution_count": 5,
   "id": "eededdbb-023c-4d02-9b07-e9cbf135235c",
   "metadata": {},
   "outputs": [
    {
     "data": {
      "application/vnd.jupyter.widget-view+json": {
       "model_id": "84d9670acfc24453964093fb2f6c5bfb",
       "version_major": 2,
       "version_minor": 0
      },
      "text/plain": [
       "SelectMultiple(description='Columns', index=(1, 2), options=('Column0', 'Column1', 'Column2', 'Column3', 'Colu…"
      ]
     },
     "metadata": {},
     "output_type": "display_data"
    },
    {
     "data": {
      "application/vnd.jupyter.widget-view+json": {
       "model_id": "2796df54b1ba48e0a8f08c80c2b38c14",
       "version_major": 2,
       "version_minor": 0
      },
      "text/plain": [
       "SelectMultiple(description='Years', index=(0, 1, 2, 3), options=(2010, 2011, 2012, 2013, 2014, 2015, 2016, 201…"
      ]
     },
     "metadata": {},
     "output_type": "display_data"
    },
    {
     "data": {
      "application/vnd.jupyter.widget-view+json": {
       "model_id": "74f2c6c16b9f4808a2fbf1448b542c9f",
       "version_major": 2,
       "version_minor": 0
      },
      "text/plain": [
       "FloatSlider(value=0.02, description='Scale Factor', max=1.0, step=0.01)"
      ]
     },
     "metadata": {},
     "output_type": "display_data"
    },
    {
     "data": {
      "application/vnd.jupyter.widget-view+json": {
       "model_id": "68154670346645daa680e404a4c6f995",
       "version_major": 2,
       "version_minor": 0
      },
      "text/plain": [
       "Checkbox(value=True, description='Show Original')"
      ]
     },
     "metadata": {},
     "output_type": "display_data"
    },
    {
     "data": {
      "application/vnd.jupyter.widget-view+json": {
       "model_id": "cb61b30770764833b30b5695d779e860",
       "version_major": 2,
       "version_minor": 0
      },
      "text/plain": [
       "FloatSlider(value=0.02, description='Growth Rate', max=1.0, step=0.01)"
      ]
     },
     "metadata": {},
     "output_type": "display_data"
    },
    {
     "data": {
      "application/vnd.jupyter.widget-view+json": {
       "model_id": "b9d1df8ea77a4c6a85885e0cdd7bbb4c",
       "version_major": 2,
       "version_minor": 0
      },
      "text/plain": [
       "Checkbox(value=False, description='Show Moving Average')"
      ]
     },
     "metadata": {},
     "output_type": "display_data"
    },
    {
     "data": {
      "application/vnd.jupyter.widget-view+json": {
       "model_id": "9c582f23bd504f04bfc41d60353dc240",
       "version_major": 2,
       "version_minor": 0
      },
      "text/plain": [
       "IntSlider(value=3, description='Moving Average Window', max=3, min=1)"
      ]
     },
     "metadata": {},
     "output_type": "display_data"
    },
    {
     "data": {
      "application/vnd.jupyter.widget-view+json": {
       "model_id": "5508a8ad5cd641b5a251b6027d429368",
       "version_major": 2,
       "version_minor": 0
      },
      "text/plain": [
       "Checkbox(value=False, description='Original + Moving Average')"
      ]
     },
     "metadata": {},
     "output_type": "display_data"
    },
    {
     "data": {
      "application/vnd.jupyter.widget-view+json": {
       "model_id": "46fb7d99f05547f6832a3b4ea1714669",
       "version_major": 2,
       "version_minor": 0
      },
      "text/plain": [
       "Checkbox(value=False, description='Scaled on Original')"
      ]
     },
     "metadata": {},
     "output_type": "display_data"
    },
    {
     "data": {
      "application/vnd.jupyter.widget-view+json": {
       "model_id": "dca4e5f33e134b18af962b1d92dc3c1e",
       "version_major": 2,
       "version_minor": 0
      },
      "text/plain": [
       "Checkbox(value=True, description='Growth Rate Moving Average')"
      ]
     },
     "metadata": {},
     "output_type": "display_data"
    },
    {
     "data": {
      "application/vnd.jupyter.widget-view+json": {
       "model_id": "6869f827c3f64e22a2ec8fc51eb6e14d",
       "version_major": 2,
       "version_minor": 0
      },
      "text/plain": [
       "Checkbox(value=True, description='Growth Rate on Original')"
      ]
     },
     "metadata": {},
     "output_type": "display_data"
    },
    {
     "data": {
      "application/vnd.jupyter.widget-view+json": {
       "model_id": "c319dcac9a1548718405e4050cf06138",
       "version_major": 2,
       "version_minor": 0
      },
      "text/plain": [
       "Checkbox(value=False, description='Apply Conversion')"
      ]
     },
     "metadata": {},
     "output_type": "display_data"
    },
    {
     "data": {
      "application/vnd.jupyter.widget-view+json": {
       "model_id": "b58f900422834cf0be33a00971026454",
       "version_major": 2,
       "version_minor": 0
      },
      "text/plain": [
       "Dropdown(description='Convert Series', index=4, options=('scale1', 'scale2', 'scale3', 'scale4', ''), style=De…"
      ]
     },
     "metadata": {},
     "output_type": "display_data"
    },
    {
     "data": {
      "application/vnd.jupyter.widget-view+json": {
       "model_id": "d25e59437e7540a3acd05091f819aa3d",
       "version_major": 2,
       "version_minor": 0
      },
      "text/plain": [
       "Button(description='Update Plot', style=ButtonStyle())"
      ]
     },
     "metadata": {},
     "output_type": "display_data"
    },
    {
     "data": {
      "application/vnd.jupyter.widget-view+json": {
       "model_id": "65f8bc163fe24cd9a00c86113ba47863",
       "version_major": 2,
       "version_minor": 0
      },
      "text/plain": [
       "Output()"
      ]
     },
     "metadata": {},
     "output_type": "display_data"
    }
   ],
   "source": [
    "\n",
    "class InteractiveTimeSeriesPlot:\n",
    "    def __init__(self, df, scale_factor_df):\n",
    "        self.df = df\n",
    "        self.scale_factor_df = scale_factor_df\n",
    "        self.output = widgets.Output()\n",
    "\n",
    "        self.columns_subset_widget = widgets.SelectMultiple(\n",
    "            options=df.columns.tolist(),\n",
    "            value=['Column1', 'Column2'],\n",
    "            description='Columns'\n",
    "        )\n",
    "\n",
    "        default_years_subset = df.index.unique()[:4].tolist()\n",
    "        self.years_subset_widget = widgets.SelectMultiple(\n",
    "            options=df.index.unique().tolist(),\n",
    "            value=default_years_subset,\n",
    "            description='Years'\n",
    "        )\n",
    "\n",
    "        self.scale_factor_widget = widgets.FloatSlider(\n",
    "            value=0.02,\n",
    "            min=0.0,\n",
    "            max=1.0,\n",
    "            step=0.01,\n",
    "            description='Scale Factor'\n",
    "        )\n",
    "\n",
    "        self.show_original_widget = widgets.Checkbox(\n",
    "            value=True,\n",
    "            description='Show Original'\n",
    "        )\n",
    "\n",
    "        self.growth_rate_widget = widgets.FloatSlider(\n",
    "            value=0.02,\n",
    "            min=0.0,\n",
    "            max=1.0,\n",
    "            step=0.01,\n",
    "            description='Growth Rate'\n",
    "        )\n",
    "\n",
    "        self.moving_average_widget = widgets.Checkbox(\n",
    "            value=False,\n",
    "            description='Show Moving Average'\n",
    "        )\n",
    "\n",
    "        self.moving_average_window_widget = widgets.IntSlider(\n",
    "            value=3,\n",
    "            min=1,\n",
    "            max=3,\n",
    "            description='Moving Average Window'\n",
    "        )\n",
    "\n",
    "        self.plot_options_widgets = [\n",
    "            widgets.Checkbox(value=False, description='Original + Moving Average'),\n",
    "            widgets.Checkbox(value=False, description='Scaled on Original'),\n",
    "            widgets.Checkbox(value=True, description='Growth Rate Moving Average'),\n",
    "            widgets.Checkbox(value=True, description='Growth Rate on Original')\n",
    "        ]\n",
    "\n",
    "        self.apply_conversion_widget = widgets.Checkbox(\n",
    "            value=False,\n",
    "            description='Apply Conversion'\n",
    "        )\n",
    "\n",
    "        self.convert_series_widget = widgets.Dropdown(\n",
    "            options=scale_factor_df.index.tolist(),\n",
    "            value=\"\",  # Default value is an empty string\n",
    "            description='Convert Series',\n",
    "            style={'description_width': 'initial'}\n",
    "        )\n",
    "\n",
    "        self.update_button = widgets.Button(description='Update Plot')\n",
    "        self.update_button.on_click(self.update_plot)\n",
    "\n",
    "        # Set up the event handler for the widget changes\n",
    "        self.columns_subset_widget.observe(self.update_plot, names='value')\n",
    "        self.years_subset_widget.observe(self.update_plot, names='value')\n",
    "        self.scale_factor_widget.observe(self.update_plot, names='value')\n",
    "        self.show_original_widget.observe(self.update_plot, names='value')\n",
    "        self.growth_rate_widget.observe(self.update_plot, names='value')\n",
    "        self.moving_average_widget.observe(self.update_plot, names='value')\n",
    "        self.moving_average_window_widget.observe(self.update_plot, names='value')\n",
    "        self.apply_conversion_widget.observe(self.update_plot, names='value')\n",
    "        self.convert_series_widget.observe(self.update_plot, names='value')\n",
    "\n",
    "        for option_widget in self.plot_options_widgets:\n",
    "            option_widget.observe(self.update_plot, names='value')\n",
    "\n",
    "        # Display the widgets and button\n",
    "        display(self.columns_subset_widget, self.years_subset_widget, self.scale_factor_widget,\n",
    "                self.show_original_widget, self.growth_rate_widget, self.moving_average_widget,\n",
    "                self.moving_average_window_widget, *self.plot_options_widgets,\n",
    "                self.apply_conversion_widget, self.convert_series_widget, self.update_button, self.output)\n",
    "\n",
    "    def update_plot(self, change=None):\n",
    "        with self.output:\n",
    "            clear_output(wait=True)  # Clear previous output\n",
    "            columns_subset = self.columns_subset_widget.value\n",
    "            years_subset = self.years_subset_widget.value\n",
    "            scale_factor = self.scale_factor_widget.value\n",
    "            show_original = self.show_original_widget.value\n",
    "            growth_rate = self.growth_rate_widget.value\n",
    "            moving_average = self.moving_average_widget.value\n",
    "            moving_average_window = self.moving_average_window_widget.value if moving_average else None\n",
    "            plot_original_moving_average = self.plot_options_widgets[0].value\n",
    "            plot_scaled_on_original = self.plot_options_widgets[1].value\n",
    "            plot_growth_rate_moving_average = self.plot_options_widgets[2].value\n",
    "            plot_growth_rate_on_original = self.plot_options_widgets[3].value\n",
    "            apply_conversion = self.apply_conversion_widget.value\n",
    "            convert_series = self.convert_series_widget.value\n",
    "\n",
    "            # Update the DataFrame based on the selected scale factor\n",
    "            updated_df = self.df.copy()\n",
    "            factor = self.scale_factor_df.loc[convert_series]['factor'] if apply_conversion else 0.0\n",
    "            if factor and (factor != 0.0):\n",
    "                updated_df =  (updated_df * 1000) * (1 / factor)\n",
    "\n",
    "            # Replace TimeSeriesPlotter with your actual class/method for plotting\n",
    "            ts_plotter = TimeSeriesPlotter(updated_df)\n",
    "            ts_plotter.plot_interactive_time_series(\n",
    "                columns_subset=list(columns_subset),\n",
    "                years_subset=list(years_subset),\n",
    "                scale_factor=scale_factor,\n",
    "                show_original=show_original,\n",
    "                growth_rate=growth_rate,\n",
    "                moving_average_window=moving_average_window,\n",
    "                plot_original_moving_average=plot_original_moving_average,\n",
    "                plot_scaled_on_original=plot_scaled_on_original,\n",
    "                plot_growth_rate_moving_average=plot_growth_rate_moving_average,\n",
    "                plot_growth_rate_on_original=plot_growth_rate_on_original\n",
    "            )\n",
    "\n",
    "# Example usage:\n",
    "interactive_plot = InteractiveTimeSeriesPlot(df, scale_factor_df)\n"
   ]
  },
  {
   "cell_type": "code",
   "execution_count": null,
   "id": "de47ea75-5153-4e3a-80e1-0e81e22779c1",
   "metadata": {},
   "outputs": [],
   "source": []
  },
  {
   "cell_type": "code",
   "execution_count": 6,
   "id": "b9bdbc0b-0151-49d6-bbac-59799d32f937",
   "metadata": {},
   "outputs": [],
   "source": [
    "###Overlayed Timeseries"
   ]
  },
  {
   "cell_type": "code",
   "execution_count": 7,
   "id": "1dfe016b-70c8-4266-8ffb-7a34655af869",
   "metadata": {},
   "outputs": [
    {
     "data": {
      "application/vnd.jupyter.widget-view+json": {
       "model_id": "f10b0fe2802c4075afd562c197533917",
       "version_major": 2,
       "version_minor": 0
      },
      "text/plain": [
       "SelectMultiple(description='Select Columns', index=(0,), options=('Column0', 'Column1', 'Column2', 'Column3', …"
      ]
     },
     "metadata": {},
     "output_type": "display_data"
    },
    {
     "data": {
      "application/vnd.jupyter.widget-view+json": {
       "model_id": "d8f852ae8e184fc6ab0a76d1c7e3c095",
       "version_major": 2,
       "version_minor": 0
      },
      "text/plain": [
       "SelectMultiple(description='Select Years', index=(0,), options=(2010, 2011, 2012, 2013, 2014, 2015, 2016, 2017…"
      ]
     },
     "metadata": {},
     "output_type": "display_data"
    },
    {
     "data": {
      "application/vnd.jupyter.widget-view+json": {
       "model_id": "dd02c4f1adc8455395a23888047b7def",
       "version_major": 2,
       "version_minor": 0
      },
      "text/plain": [
       "HBox(children=(FloatSlider(value=0.0, description='Growth Rate (Column0)', max=5.0, step=0.01), FloatSlider(va…"
      ]
     },
     "metadata": {},
     "output_type": "display_data"
    },
    {
     "data": {
      "application/vnd.jupyter.widget-view+json": {
       "model_id": "6ad40fe38c864b739fc706f38a1c815d",
       "version_major": 2,
       "version_minor": 0
      },
      "text/plain": [
       "Checkbox(value=True, description='Show Original')"
      ]
     },
     "metadata": {},
     "output_type": "display_data"
    },
    {
     "data": {
      "application/vnd.jupyter.widget-view+json": {
       "model_id": "7a46cc4371f04e168634f79f4a4af0dd",
       "version_major": 2,
       "version_minor": 0
      },
      "text/plain": [
       "Button(description='Plot Time Series', style=ButtonStyle())"
      ]
     },
     "metadata": {},
     "output_type": "display_data"
    },
    {
     "data": {
      "application/vnd.jupyter.widget-view+json": {
       "model_id": "199f85b54c4c4a17a3ea4635aeb513ae",
       "version_major": 2,
       "version_minor": 0
      },
      "text/plain": [
       "Output()"
      ]
     },
     "metadata": {},
     "output_type": "display_data"
    }
   ],
   "source": [
    "%matplotlib widget\n",
    "ts_plotter = TimeSeriesPlotter(df)\n",
    "\n",
    "class InteractiveTimeSeriesPlotter:\n",
    "    def __init__(self, ts_plotter, df):\n",
    "        self.ts_plotter = ts_plotter\n",
    "        self.df = df\n",
    "\n",
    "        # Get available columns and years from the DataFrame\n",
    "        self.available_columns = df.columns.tolist()\n",
    "        self.available_years = sorted(df.index.unique().tolist())\n",
    "\n",
    "        # Initialize widgets\n",
    "        self.columns_selector = widgets.SelectMultiple(\n",
    "            options=self.available_columns,\n",
    "            value=[self.available_columns[0]],\n",
    "            description='Select Columns'\n",
    "        )\n",
    "        self.years_selector = widgets.SelectMultiple(\n",
    "            options=self.available_years,\n",
    "            value=[self.available_years[0]],\n",
    "            description='Select Years'\n",
    "        )\n",
    "        self.growth_rates_sliders = {col: widgets.FloatSlider(value=0.0, min=0.0, max=5.0, step=0.01, description=f'Growth Rate ({col})')\n",
    "                                     for col in self.available_columns}\n",
    "        self.show_original_checkbox = widgets.Checkbox(value=True, description='Show Original')\n",
    "\n",
    "        # Create button and output widgets\n",
    "        self.plot_button = widgets.Button(description='Plot Time Series')\n",
    "        self.output_plot = widgets.Output()\n",
    "\n",
    "        # Set up event handlers\n",
    "        self.plot_button.on_click(self.plot_time_series)\n",
    "\n",
    "        # Display widgets\n",
    "        display(self.columns_selector, self.years_selector)\n",
    "        display(widgets.HBox(list(self.growth_rates_sliders.values())))\n",
    "        display(self.show_original_checkbox)\n",
    "        display(self.plot_button)\n",
    "        display(self.output_plot)\n",
    "\n",
    "    def plot_time_series(self, _):\n",
    "        # Get selected values from widgets\n",
    "        with self.output_plot:\n",
    "            clear_output(wait=True)\n",
    "        selected_columns = self.columns_selector.value\n",
    "        selected_years = self.years_selector.value\n",
    "        growth_rates_dict = {col: self.growth_rates_sliders[col].value for col in selected_columns}\n",
    "        show_original = self.show_original_checkbox.value\n",
    "\n",
    "\n",
    "        # Plot the time series\n",
    "        with self.output_plot:\n",
    "            self.ts_plotter.plot_multiple_time_series(\n",
    "                columns_subset=selected_columns,\n",
    "                years_subset=selected_years,\n",
    "                growth_rates=growth_rates_dict,\n",
    "                show_original=show_original\n",
    "            )\n",
    "\n",
    "# Assuming df and ts_plotter are already defined\n",
    "interactive_plotter = InteractiveTimeSeriesPlotter(ts_plotter, df)\n"
   ]
  },
  {
   "cell_type": "code",
   "execution_count": 9,
   "id": "cd38fbc2-8d9f-4a4b-8a04-6db694d0f596",
   "metadata": {},
   "outputs": [
    {
     "data": {
      "application/vnd.jupyter.widget-view+json": {
       "model_id": "bfb779a0870c47e3910dd0f1cd43529d",
       "version_major": 2,
       "version_minor": 0
      },
      "text/plain": [
       "SelectMultiple(description='Select Columns', index=(0,), options=('Column0', 'Column1', 'Column2', 'Column3', …"
      ]
     },
     "metadata": {},
     "output_type": "display_data"
    },
    {
     "data": {
      "application/vnd.jupyter.widget-view+json": {
       "model_id": "9ccc087bc25f468a994893b754474735",
       "version_major": 2,
       "version_minor": 0
      },
      "text/plain": [
       "SelectMultiple(description='Select Years', index=(0,), options=(2010, 2011, 2012, 2013, 2014, 2015, 2016, 2017…"
      ]
     },
     "metadata": {},
     "output_type": "display_data"
    },
    {
     "data": {
      "application/vnd.jupyter.widget-view+json": {
       "model_id": "2bfeddcb900e4d529458085d5987ab57",
       "version_major": 2,
       "version_minor": 0
      },
      "text/plain": [
       "FloatSlider(value=0.05, description='Growth Rate', max=1.0, step=0.01)"
      ]
     },
     "metadata": {},
     "output_type": "display_data"
    },
    {
     "data": {
      "application/vnd.jupyter.widget-view+json": {
       "model_id": "cd15458f761643c79c5a170c65aa7e14",
       "version_major": 2,
       "version_minor": 0
      },
      "text/plain": [
       "Select(description='Select Plot Type', options=('plot_time_series_with_distribution', 'plot_area_under_curve',…"
      ]
     },
     "metadata": {},
     "output_type": "display_data"
    },
    {
     "data": {
      "application/vnd.jupyter.widget-view+json": {
       "model_id": "3e96c725eade40eb834e789ce90de0f0",
       "version_major": 2,
       "version_minor": 0
      },
      "text/plain": [
       "Button(description='Plot Time Series', style=ButtonStyle())"
      ]
     },
     "metadata": {},
     "output_type": "display_data"
    },
    {
     "data": {
      "application/vnd.jupyter.widget-view+json": {
       "model_id": "44fc0a0c8da242ac9042e13b570d4976",
       "version_major": 2,
       "version_minor": 0
      },
      "text/plain": [
       "Output()"
      ]
     },
     "metadata": {},
     "output_type": "display_data"
    }
   ],
   "source": [
    "# Assuming ts_plotter is an instance of TimeSeriesPlotter\n",
    "%matplotlib widget\n",
    "ts_plotter = TimeSeriesPlotter(df)\n",
    "\n",
    "class TimeSeriesPlotterWithDistribution:\n",
    "    def __init__(self, ts_plotter, df):\n",
    "        self.ts_plotter = ts_plotter\n",
    "\n",
    "        # Get available columns and years from the DataFrame (replace df with your actual DataFrame)\n",
    "        self.available_columns = df.columns.tolist()\n",
    "        self.available_years = sorted(df.index.unique().tolist())\n",
    "\n",
    "        # Initialize widgets\n",
    "        self.columns_selector = widgets.SelectMultiple(\n",
    "            options=self.available_columns,\n",
    "            value=[self.available_columns[0]],\n",
    "            description='Select Columns'\n",
    "        )\n",
    "        self.years_selector = widgets.SelectMultiple(\n",
    "            options=self.available_years,\n",
    "            value=[self.available_years[0]],\n",
    "            description='Select Years'\n",
    "        )\n",
    "        self.plot_selector = widgets.Select(\n",
    "            options=[\"plot_time_series_with_distribution\", \"plot_area_under_curve\",\"plot_heatmap\"],\n",
    "            value=\"plot_time_series_with_distribution\",\n",
    "            description='Select Plot Type'\n",
    "        )\n",
    "        self.growth_rate_slider = widgets.FloatSlider(\n",
    "            value=0.05, min=0.0, max=1.0, step=0.01, description='Growth Rate'\n",
    "        )\n",
    "        self.plot_button = widgets.Button(description='Plot Time Series')\n",
    "        self.output_plot = widgets.Output()\n",
    "\n",
    "        # Set up event handlers\n",
    "        self.plot_button.on_click(self.plot_time_series)\n",
    "\n",
    "        # Display widgets\n",
    "        display(self.columns_selector, self.years_selector, self.growth_rate_slider,self.plot_selector)\n",
    "        display(self.plot_button)\n",
    "        display(self.output_plot)\n",
    "\n",
    "    def plot_time_series(self, _):\n",
    "        # Get selected values from widgets\n",
    "        with self.output_plot:\n",
    "            clear_output(wait=True)\n",
    "        selected_columns = self.columns_selector.value\n",
    "        selected_years = self.years_selector.value\n",
    "        growth_rate_to_apply = self.growth_rate_slider.value\n",
    "        plot_type = self.plot_selector.value\n",
    "\n",
    "        \n",
    "        if plot_type == \"plot_time_series_with_distribution\":\n",
    "            with self.output_plot:\n",
    "                self.ts_plotter.plot_time_series_with_distribution(\n",
    "                    column_subset=list(selected_columns),\n",
    "                    year_subset=list(selected_years),\n",
    "                    growth_rate=growth_rate_to_apply\n",
    "                )\n",
    "        elif plot_type == \"plot_area_under_curve\":\n",
    "            with self.output_plot:\n",
    "                self.ts_plotter.plot_area_under_curve(\n",
    "                    column_subset=list(selected_columns),\n",
    "                    year_subset=list(selected_years),\n",
    "                    growth_rate=growth_rate_to_apply\n",
    "                )\n",
    "        elif plot_type == \"plot_heatmap\":\n",
    "            with self.output_plot:\n",
    "                self.ts_plotter.plot_heatmap(\n",
    "                    column_subset=list(selected_columns),\n",
    "                    year_subset=list(selected_years),\n",
    "                    growth_rate=growth_rate_to_apply\n",
    "                )\n",
    "\n",
    "# Assuming df is your DataFrame and ts_plotter is already defined\n",
    "interactive_plotter = TimeSeriesPlotterWithDistribution(ts_plotter, df)\n"
   ]
  },
  {
   "cell_type": "code",
   "execution_count": null,
   "id": "df11f2f3-d86f-4e8f-bc0d-076257da11c9",
   "metadata": {},
   "outputs": [],
   "source": []
  }
 ],
 "metadata": {
  "kernelspec": {
   "display_name": "Python 3 (ipykernel)",
   "language": "python",
   "name": "python3"
  },
  "language_info": {
   "codemirror_mode": {
    "name": "ipython",
    "version": 3
   },
   "file_extension": ".py",
   "mimetype": "text/x-python",
   "name": "python",
   "nbconvert_exporter": "python",
   "pygments_lexer": "ipython3",
   "version": "3.11.3"
  }
 },
 "nbformat": 4,
 "nbformat_minor": 5
}
