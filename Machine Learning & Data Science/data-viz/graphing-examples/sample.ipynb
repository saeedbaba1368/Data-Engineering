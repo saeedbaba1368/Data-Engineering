{
 "cells": [
  {
   "cell_type": "code",
   "execution_count": 1,
   "id": "8caeefaf-0422-4997-862a-f9c46ae28464",
   "metadata": {},
   "outputs": [],
   "source": [
    "from graphing_libraries import ThreeDPlotter, TimeSeriesPlotter"
   ]
  },
  {
   "cell_type": "code",
   "execution_count": null,
   "id": "53148983-a271-4ae0-969c-ea81ad67e88b",
   "metadata": {},
   "outputs": [],
   "source": [
    "# Enable interactive features\n",
    "%matplotlib widget"
   ]
  },
  {
   "cell_type": "code",
   "execution_count": null,
   "id": "601ea085-27e6-4bc1-b23b-8d5e8ac1c134",
   "metadata": {},
   "outputs": [],
   "source": []
  }
 ],
 "metadata": {
  "kernelspec": {
   "display_name": "Python 3 (ipykernel)",
   "language": "python",
   "name": "python3"
  },
  "language_info": {
   "codemirror_mode": {
    "name": "ipython",
    "version": 3
   },
   "file_extension": ".py",
   "mimetype": "text/x-python",
   "name": "python",
   "nbconvert_exporter": "python",
   "pygments_lexer": "ipython3",
   "version": "3.11.3"
  }
 },
 "nbformat": 4,
 "nbformat_minor": 5
}
