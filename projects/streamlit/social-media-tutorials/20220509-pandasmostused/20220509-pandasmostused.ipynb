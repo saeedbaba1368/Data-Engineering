{
 "cells": [
  {
   "cell_type": "markdown",
   "id": "9cd1f8f9-2da5-4690-b980-b77c32705cc4",
   "metadata": {},
   "source": [
    "# Code for \"Parsing 1.2 million Jupyter Notebooks\" video \n",
    "\n",
    "* Download files on `https://library.ucsd.edu/dc/collection/bb6931851t`"
   ]
  },
  {
   "cell_type": "markdown",
   "id": "c9ddeff8-b61b-4114-8284-9d1920511314",
   "metadata": {},
   "source": [
    "### Imports"
   ]
  },
  {
   "cell_type": "code",
   "execution_count": null,
   "id": "2e8743ce-73c9-4b3c-8dad-c134097144f4",
   "metadata": {},
   "outputs": [],
   "source": [
    "import ast\n",
    "import io\n",
    "import inspect\n",
    "import itertools\n",
    "import matplotlib.pyplot as plt\n",
    "import nbformat\n",
    "import operator\n",
    "import pandas\n",
    "import pickle\n",
    "import plotly.express as px\n",
    "import seaborn as sns\n",
    "import zipfile\n",
    "\n",
    "from collections import Counter\n",
    "from pathlib import Path\n",
    "from IPython.core.inputtransformer2 import TransformerManager\n",
    "from joblib import Parallel, delayed\n",
    "from typing import List\n",
    "\n",
    "import plotly.io as pio\n",
    "pio.templates.default = \"simple_white\"\n",
    "\n",
    "from tqdm.notebook import tqdm\n",
    "tqdm.pandas()\n",
    "\n",
    "import warnings\n",
    "warnings.filterwarnings('ignore')\n",
    "\n",
    "%matplotlib inline"
   ]
  },
  {
   "cell_type": "markdown",
   "id": "ad20c0f8-450d-4b58-8377-5d80dadc6186",
   "metadata": {},
   "source": [
    "## 1. Extract notebooks with Pandas in it from zip archives"
   ]
  },
  {
   "cell_type": "markdown",
   "id": "f8bee34d-c432-4997-94b8-6f61415b0003",
   "metadata": {},
   "source": [
    "### Utils"
   ]
  },
  {
   "cell_type": "code",
   "execution_count": null,
   "id": "f9906047-1b6f-4a7e-8afe-2975f866668e",
   "metadata": {},
   "outputs": [],
   "source": [
    "def files_in_zip(p: Path) -> List[str]:\n",
    "    zip_file = zipfile.ZipFile(p)\n",
    "    return zip_file.namelist()"
   ]
  },
  {
   "cell_type": "markdown",
   "id": "fe3f655c-d9e0-4cc6-b423-992ec2264e71",
   "metadata": {},
   "source": [
    "### Extracting notebooks"
   ]
  },
  {
   "cell_type": "code",
   "execution_count": null,
   "id": "406bfc17-5703-41b4-926d-5693302a7a2f",
   "metadata": {},
   "outputs": [],
   "source": [
    "input_folder = Path(\"path_to_all_zip_archives\")\n",
    "output_folder = Path(\"path_to_folder_with_extracted_notebooks\")"
   ]
  },
  {
   "cell_type": "code",
   "execution_count": null,
   "id": "8334f108-8ee1-4b56-98af-b27d278720ff",
   "metadata": {},
   "outputs": [],
   "source": [
    "zip_files = list(input_folder.glob(\"./*.zip\"))\n",
    "all_nbs = [file for zip_file in zip_files for file in files_in_zip(zip_file)]"
   ]
  },
  {
   "cell_type": "code",
   "execution_count": null,
   "id": "a0013380-b875-4df5-848d-e8c3e0bf8ca0",
   "metadata": {},
   "outputs": [],
   "source": [
    "# https://stackoverflow.com/questions/15282651/how-do-i-read-text-files-within-a-zip-file\n",
    "files_with_pandas = []\n",
    "for path_to_zip in zip_files:\n",
    "    with zipfile.ZipFile(path_to_zip) as zip_file:\n",
    "        path_to_nbs = zip_file.namelist()\n",
    "\n",
    "        for path_to_nb in tqdm(path_to_nbs):\n",
    "            with zip_file.open(path_to_nb) as zf:\n",
    "                with io.TextIOWrapper(zf, encoding=\"utf-8\") as nb_file:\n",
    "                    for line in nb_file.readlines():\n",
    "                        if \"pandas\" in line:\n",
    "                            files_with_pandas.append((path_to_zip, path_to_nb))\n",
    "                            break"
   ]
  },
  {
   "cell_type": "code",
   "execution_count": null,
   "id": "4fcbef48-ef78-46b2-a2a7-5617c7904fe3",
   "metadata": {},
   "outputs": [],
   "source": [
    "print(f\"There are {100*len(files_with_pandas)/len(all_nbs):2f}% notebooks with 'Pandas' inside\")"
   ]
  },
  {
   "cell_type": "code",
   "execution_count": null,
   "id": "a3532cf1-b19f-45f3-8862-57039d2662f8",
   "metadata": {},
   "outputs": [],
   "source": [
    "it = itertools.groupby(files_with_pandas, operator.itemgetter(0))\n",
    "for path_to_zip, sublist in it:\n",
    "    nbs_to_extract = list(sublist)\n",
    "    with zipfile.ZipFile(path_to_zip, 'r') as zip_file: \n",
    "        for path_to_nb in tqdm(nbs_to_extract):\n",
    "            zip_file.extract(path_to_nb[1], output_folder) "
   ]
  },
  {
   "cell_type": "markdown",
   "id": "c688359f-119b-401e-8f32-401081942839",
   "metadata": {},
   "source": [
    "## 2. AST Parsing"
   ]
  },
  {
   "cell_type": "markdown",
   "id": "d43a47ad-c90d-4c0f-9443-d40585845ed8",
   "metadata": {},
   "source": [
    "### Utils"
   ]
  },
  {
   "cell_type": "code",
   "execution_count": null,
   "id": "b7e38d9c-ea67-40ca-929e-a2a5f0e78458",
   "metadata": {},
   "outputs": [],
   "source": [
    "def write_pickle(obj, path):\n",
    "    with open(path, 'wb') as fh:\n",
    "        pickle.dump(obj, fh)\n",
    "        \n",
    "def read_pickle(path):\n",
    "    with (open(path, \"rb\")) as f:\n",
    "        return pickle.load(f)"
   ]
  },
  {
   "cell_type": "code",
   "execution_count": null,
   "id": "1c61f7a0-3529-424a-ae27-0e3fc65b75b6",
   "metadata": {},
   "outputs": [],
   "source": [
    "def get_nb_code(path_nb: str) -> str:\n",
    "    d = nbformat.read(path_nb, as_version=4)\n",
    "    \n",
    "    code = \"\\n\".join(\n",
    "        [cell[\"source\"] for cell in d.cells if cell[\"cell_type\"] == \"code\"]\n",
    "    )\n",
    "    code = TransformerManager().transform_cell(code)\n",
    "    return code"
   ]
  },
  {
   "cell_type": "code",
   "execution_count": null,
   "id": "488023ae-75d1-4b82-baad-764d8a4d18a5",
   "metadata": {},
   "outputs": [],
   "source": [
    "def parse_nb(path_nb):\n",
    "    try:\n",
    "        code = get_nb_code(path_nb)\n",
    "    except:\n",
    "        return [{\"error\": \"Parsing notebook\"}]\n",
    "    try:\n",
    "        tree = ast.parse(code)\n",
    "    except:\n",
    "        return [{\"error\": \"Parsing AST\"}]\n",
    "    \n",
    "    res = []\n",
    "    for node in ast.walk(tree):\n",
    "        if isinstance(node, ast.Import):\n",
    "            for alias in node.names:\n",
    "                res.append({\"from\": None, \"name\": alias.name, \"as\": alias.asname})\n",
    "\n",
    "        if isinstance(node, ast.ImportFrom):\n",
    "            for alias in node.names:\n",
    "                res.append({\"from\": node.module, \"name\": alias.name, \"as\": alias.asname})\n",
    "        \n",
    "        if isinstance(node, ast.Attribute):\n",
    "            if isinstance(node.value, ast.Name):\n",
    "                res.append({\"from\": node.value.id, \"call\": node.attr})\n",
    "                \n",
    "        if isinstance(node, ast.Call):\n",
    "            if isinstance(node.func, ast.Name):\n",
    "                res.append({\"from\": \"\", \"call\": node.func.id})\n",
    "                \n",
    "            elif isinstance(node.func, ast.Attribute):\n",
    "                if isinstance(node.func.value, ast.Name):\n",
    "                    res.append({\"from\": node.func.value.id, \"call\": node.func.attr})\n",
    "                #else: \n",
    "                    #res.append({\"type\": type(node.func.value)})\n",
    "            #else: \n",
    "                #res.append({\"type\": type(node.func)})\n",
    "    return res"
   ]
  },
  {
   "cell_type": "code",
   "execution_count": null,
   "id": "39784fdd-c071-4ef6-bc0a-f7e34309992b",
   "metadata": {},
   "outputs": [],
   "source": [
    "def save_plotly(data, filename):\n",
    "    fig = px.bar(\n",
    "        x=[c[0] for c in data],\n",
    "        y=[c[1] for c in data],\n",
    "        height=2160,\n",
    "        width=3840,\n",
    "    )\n",
    "    fig.update_xaxes(\n",
    "        title_font = {\"size\": 28, \"family\": \"Verdana\"},\n",
    "        title_standoff = 28*2,\n",
    "        title_text =\"Pandas calls\",\n",
    "        tickfont=dict(family='Source Code Pro', size=28),\n",
    "    )\n",
    "    fig.update_yaxes(\n",
    "        title_font = {\"size\": 28, \"family\": \"Verdana\"},\n",
    "        title_standoff = 28*2,\n",
    "        title_text =\"Notebook appearances\",\n",
    "        tickfont=dict(family='Source Code Pro', size=28)\n",
    "    )\n",
    "    fig.write_image(filename)"
   ]
  },
  {
   "cell_type": "markdown",
   "id": "df3d8efa-8cff-4ee0-a3d3-d402ca736be2",
   "metadata": {},
   "source": [
    "### Parsing all notebooks"
   ]
  },
  {
   "cell_type": "code",
   "execution_count": null,
   "id": "a4979860-e69a-41e0-82e4-dd28393fe8fd",
   "metadata": {},
   "outputs": [],
   "source": [
    "folder = Path(\"path_to_folder_with_extracted_notebooks\")\n",
    "all_nb_paths = list(folder.glob(\"./*.ipynb\"))"
   ]
  },
  {
   "cell_type": "code",
   "execution_count": null,
   "id": "18277fc5-a2e3-4221-b815-fec9b0ff711b",
   "metadata": {},
   "outputs": [],
   "source": [
    "# all_info_nest = [parse_nb(p) for p in tqdm(all_nb_paths)]  # this takes too long\n",
    "all_info_nest = Parallel(n_jobs=9)(delayed(parse_nb)(p) for p in tqdm(all_nb_paths))   # multicore version\n",
    "write_pickle(all_info_nest, \"all_info_nest.pkl\")"
   ]
  },
  {
   "cell_type": "code",
   "execution_count": null,
   "id": "eee3375a-473d-4c99-bb5f-2c61346c8db6",
   "metadata": {},
   "outputs": [],
   "source": [
    "all_info = [info_list for info_list in all_info_nest if not any(\"error\" in ele for ele in info_list)]"
   ]
  },
  {
   "cell_type": "code",
   "execution_count": null,
   "id": "e4de90d3-f6c5-47c3-965a-096bc29e39b2",
   "metadata": {},
   "outputs": [],
   "source": [
    "final_info = [\n",
    "    info_list\n",
    "    for info_list in all_info \n",
    "    if len({f\"{i.get('name')}.{i.get('as')}\" for i in info_list if i.get(\"name\")==\"pandas\"})==1\n",
    "]"
   ]
  },
  {
   "cell_type": "markdown",
   "id": "5a444ae8-1d5d-4baa-8e75-78246fcd1afb",
   "metadata": {},
   "source": [
    "### How many were parsed correctly?"
   ]
  },
  {
   "cell_type": "code",
   "execution_count": null,
   "id": "35ce708a-72df-4fc0-9e5a-e89a1cafd53b",
   "metadata": {},
   "outputs": [],
   "source": [
    "Counter([not any(\"error\" in ele for ele in info_list) for info_list in all_info_nest])"
   ]
  },
  {
   "cell_type": "code",
   "execution_count": null,
   "id": "b8650bd7-c879-4962-ac79-c729cab06681",
   "metadata": {},
   "outputs": [
    {
     "data": {
      "image/png": "[encoded data removed]",
      "text/plain": [
       "<Figure size 1152x432 with 1 Axes>"
      ]
     },
     "metadata": {
      "needs_background": "light"
     },
     "output_type": "display_data"
    }
   ],
   "source": [
    "fig, ax = plt.subplots(figsize=(16,6))\n",
    "\n",
    "ax.set_title(\"Parseable notebooks\")\n",
    "ax = sns.countplot([not any(\"error\" in ele for ele in info_list) for info_list in all_info_nest])\n",
    "fig.show()"
   ]
  },
  {
   "cell_type": "code",
   "execution_count": null,
   "id": "1d03f7c7-4095-4b0f-981f-a60ce2dd61ed",
   "metadata": {},
   "outputs": [
    {
     "data": {
      "image/png": "[encoded data removed]",
      "text/plain": [
       "<Figure size 1152x432 with 1 Axes>"
      ]
     },
     "metadata": {
      "needs_background": "light"
     },
     "output_type": "display_data"
    }
   ],
   "source": [
    "fig, ax = plt.subplots(figsize=(16,6))\n",
    "\n",
    "ax.set_title(\"Type of error\")\n",
    "ax = sns.countplot([info_list[0].get(\"error\") for info_list in all_info_nest if any(\"error\" in ele for ele in info_list)])\n",
    "fig.show()"
   ]
  },
  {
   "cell_type": "markdown",
   "id": "b5f9905b-e7fd-482d-b97b-4209d3efb91b",
   "metadata": {},
   "source": [
    "### What Pandas aliases are used?"
   ]
  },
  {
   "cell_type": "code",
   "execution_count": null,
   "id": "aa64c352-f945-4161-973d-1de3aa643e58",
   "metadata": {
    "scrolled": true,
    "tags": []
   },
   "outputs": [
    {
     "data": {
      "text/plain": [
       "Counter({None: 11268,\n",
       "         'pd': 264032,\n",
       "         'pan': 21,\n",
       "         'pds': 70,\n",
       "         'py': 4,\n",
       "         'pnd': 82,\n",
       "         'p': 99,\n",
       "         'PD': 8,\n",
       "         'adorable': 1,\n",
       "         'pn': 72,\n",
       "         'pda': 8,\n",
       "         'pa': 57,\n",
       "         'ps': 93,\n",
       "         'panda': 13,\n",
       "         'pandas': 33,\n",
       "         'np': 14,\n",
       "         'arquivo': 2,\n",
       "         'bib': 8,\n",
       "         'pd2': 1,\n",
       "         'PANDAS': 6,\n",
       "         'pp': 1,\n",
       "         'pt': 1,\n",
       "         'df': 2,\n",
       "         'Pd': 1,\n",
       "         'dataframe': 2,\n",
       "         'teddy': 2,\n",
       "         'pdf': 1,\n",
       "         'pandu': 4,\n",
       "         '_pnd': 4,\n",
       "         'pdn': 1,\n",
       "         'pf': 3,\n",
       "         'apd': 1,\n",
       "         'pand': 1,\n",
       "         'P': 1,\n",
       "         'pdbear': 1,\n",
       "         'pdSeries': 1,\n",
       "         'px': 1,\n",
       "         'od': 1,\n",
       "         'pdusers': 1,\n",
       "         'pdmovies': 3,\n",
       "         'pdratings': 2,\n",
       "         'pb': 3,\n",
       "         'pdp': 2,\n",
       "         'pdm': 1,\n",
       "         'ds': 2,\n",
       "         'dp': 2,\n",
       "         'pnds': 4,\n",
       "         'pdr7': 1,\n",
       "         'stock': 1,\n",
       "         'ph': 1,\n",
       "         'DataFrame': 1,\n",
       "         'desmond': 1,\n",
       "         'WHATEVER': 2,\n",
       "         'pdOA': 1,\n",
       "         'pdIn': 1})"
      ]
     },
     "execution_count": null,
     "metadata": {},
     "output_type": "execute_result"
    }
   ],
   "source": [
    "Counter(\n",
    "    [\n",
    "        info.get(\"as\")\n",
    "        for info_list in all_info \n",
    "        for info in info_list\n",
    "        if info.get(\"name\")==\"pandas\"\n",
    "    ]\n",
    ")"
   ]
  },
  {
   "cell_type": "markdown",
   "id": "bda68641-32ba-4e04-9b05-3913a683ab53",
   "metadata": {},
   "source": [
    "### Are people changing pandas aliases midway?"
   ]
  },
  {
   "cell_type": "code",
   "execution_count": null,
   "id": "7f835fc2-a01f-4a99-a293-88fde98548cb",
   "metadata": {},
   "outputs": [
    {
     "data": {
      "text/plain": [
       "[(1, 253315), (0, 17392), (2, 977), (3, 2)]"
      ]
     },
     "execution_count": null,
     "metadata": {},
     "output_type": "execute_result"
    }
   ],
   "source": [
    "Counter([\n",
    "    len({f\"{i.get('name')}.{i.get('as')}\" for i in info_list if i.get(\"name\")==\"pandas\"})\n",
    "    for info_list in all_info\n",
    "    \n",
    "]).most_common(20)"
   ]
  },
  {
   "cell_type": "markdown",
   "id": "eec3378f-bcf1-414c-89fc-676be092ef76",
   "metadata": {},
   "source": [
    "- 0 = probably pandas in markdown\n",
    "- 2/3 = yes there are, less than 1000 on 200_000, let's just remove them"
   ]
  },
  {
   "cell_type": "markdown",
   "id": "e8b66756-954a-407e-a4ca-7993430bd934",
   "metadata": {},
   "source": [
    "## 3. Counting Pandas calls"
   ]
  },
  {
   "cell_type": "markdown",
   "id": "66d44114-1627-46e4-a3ca-ee692a31f5ee",
   "metadata": {},
   "source": [
    "### Top level calls\n",
    "\n",
    "We only count distinct calls per notebook. If 10 pd.Dataframe in notebook, only counts as one"
   ]
  },
  {
   "cell_type": "code",
   "execution_count": null,
   "id": "48992d1a-67ed-4574-9274-a7d15e17864f",
   "metadata": {},
   "outputs": [],
   "source": [
    "def find_top_level_calls(arr):\n",
    "    def compute_alias(d):\n",
    "        top_level_alias = list({i.get('as') for i in d if i.get(\"name\")==\"pandas\"})[0]\n",
    "        if top_level_alias is None:\n",
    "            top_level_alias = \"pandas\"\n",
    "        return top_level_alias\n",
    "        \n",
    "    aliases = [compute_alias(info_list) for info_list in arr]\n",
    "    \n",
    "    res = [\n",
    "        imp\n",
    "        for alias, info_list in zip(aliases, arr)\n",
    "        for imp in {i.get(\"call\") for i in info_list if i.get(\"from\")==alias and \"call\" in i}\n",
    "    ]\n",
    "        \n",
    "    return res"
   ]
  },
  {
   "cell_type": "code",
   "execution_count": null,
   "id": "55ba809d-2927-45d8-ba2c-96c60f770e0e",
   "metadata": {},
   "outputs": [
    {
     "data": {
      "text/plain": [
       "[('read_csv', 146753),\n",
       " ('DataFrame', 101974),\n",
       " ('concat', 34973),\n",
       " ('Series', 24485),\n",
       " ('to_datetime', 19266),\n",
       " ('merge', 15445),\n",
       " ('get_dummies', 14061),\n",
       " ('set_option', 11247),\n",
       " ('read_excel', 9359),\n",
       " ('read_table', 6723)]"
      ]
     },
     "execution_count": null,
     "metadata": {},
     "output_type": "execute_result"
    }
   ],
   "source": [
    "top_level_counts = Counter(\n",
    "    find_top_level_calls(final_info)\n",
    ").most_common(10)\n",
    "top_level_counts"
   ]
  },
  {
   "cell_type": "code",
   "execution_count": null,
   "id": "de3a9329-a108-4679-a02d-ead5c49fdbe2",
   "metadata": {},
   "outputs": [
    {
     "data": {
      "image/png": "[encoded data removed]",
      "text/plain": [
       "<Figure size 1152x432 with 1 Axes>"
      ]
     },
     "metadata": {
      "needs_background": "light"
     },
     "output_type": "display_data"
    }
   ],
   "source": [
    "fig, ax = plt.subplots(figsize=(16,6))\n",
    "\n",
    "ax.set_title(\"Top Level Calls\")\n",
    "ax = sns.barplot(\n",
    "    x=[c[0] for c in top_level_counts],\n",
    "    y=[c[1] for c in top_level_counts],\n",
    ")\n",
    "fig.savefig(\"top_level.png\")\n",
    "fig.show()"
   ]
  },
  {
   "cell_type": "code",
   "execution_count": null,
   "id": "e927b2df-c11b-4360-8979-6c84c22c6ed7",
   "metadata": {},
   "outputs": [],
   "source": [
    "save_plotly(top_level_counts, \"top_level.svg\")"
   ]
  },
  {
   "cell_type": "markdown",
   "id": "8c68686d-03eb-4dcb-8f91-91c71df6f17b",
   "metadata": {},
   "source": [
    "### Compare calls to list of members in inspected Pandas/DataFrame"
   ]
  },
  {
   "cell_type": "code",
   "execution_count": null,
   "id": "f42afc6e-bf8e-40b9-ba32-e7916842e98b",
   "metadata": {
    "scrolled": true
   },
   "outputs": [
    {
     "data": {
      "text/plain": [
       "[('BooleanDtype', pandas.core.arrays.boolean.BooleanDtype),\n",
       " ('Categorical', pandas.core.arrays.categorical.Categorical),\n",
       " ('CategoricalDtype', pandas.core.dtypes.dtypes.CategoricalDtype),\n",
       " ('CategoricalIndex', pandas.core.indexes.category.CategoricalIndex),\n",
       " ('DataFrame', pandas.core.frame.DataFrame),\n",
       " ('DateOffset', pandas._libs.tslibs.offsets.DateOffset),\n",
       " ('DatetimeIndex', pandas.core.indexes.datetimes.DatetimeIndex),\n",
       " ('DatetimeTZDtype', pandas.core.dtypes.dtypes.DatetimeTZDtype),\n",
       " ('ExcelFile', pandas.io.excel._base.ExcelFile),\n",
       " ('ExcelWriter', pandas.io.excel._base.ExcelWriter),\n",
       " ('Flags', pandas.core.flags.Flags),\n",
       " ('Float32Dtype', pandas.core.arrays.floating.Float32Dtype),\n",
       " ('Float64Dtype', pandas.core.arrays.floating.Float64Dtype),\n",
       " ('Float64Index', pandas.core.indexes.numeric.Float64Index),\n",
       " ('Grouper', pandas.core.groupby.grouper.Grouper),\n",
       " ('HDFStore', pandas.io.pytables.HDFStore),\n",
       " ('Index', pandas.core.indexes.base.Index),\n",
       " ('Int16Dtype', pandas.core.arrays.integer.Int16Dtype),\n",
       " ('Int32Dtype', pandas.core.arrays.integer.Int32Dtype),\n",
       " ('Int64Dtype', pandas.core.arrays.integer.Int64Dtype),\n",
       " ('Int64Index', pandas.core.indexes.numeric.Int64Index),\n",
       " ('Int8Dtype', pandas.core.arrays.integer.Int8Dtype),\n",
       " ('Interval', pandas._libs.interval.Interval),\n",
       " ('IntervalDtype', pandas.core.dtypes.dtypes.IntervalDtype),\n",
       " ('IntervalIndex', pandas.core.indexes.interval.IntervalIndex),\n",
       " ('MultiIndex', pandas.core.indexes.multi.MultiIndex),\n",
       " ('NamedAgg', pandas.core.groupby.generic.NamedAgg),\n",
       " ('Period', pandas._libs.tslibs.period.Period),\n",
       " ('PeriodDtype', pandas.core.dtypes.dtypes.PeriodDtype),\n",
       " ('PeriodIndex', pandas.core.indexes.period.PeriodIndex),\n",
       " ('RangeIndex', pandas.core.indexes.range.RangeIndex),\n",
       " ('Series', pandas.core.series.Series),\n",
       " ('SparseDtype', pandas.core.arrays.sparse.dtype.SparseDtype),\n",
       " ('StringDtype', pandas.core.arrays.string_.StringDtype),\n",
       " ('Timedelta', pandas._libs.tslibs.timedeltas.Timedelta),\n",
       " ('TimedeltaIndex', pandas.core.indexes.timedeltas.TimedeltaIndex),\n",
       " ('Timestamp', pandas._libs.tslibs.timestamps.Timestamp),\n",
       " ('UInt16Dtype', pandas.core.arrays.integer.UInt16Dtype),\n",
       " ('UInt32Dtype', pandas.core.arrays.integer.UInt32Dtype),\n",
       " ('UInt64Dtype', pandas.core.arrays.integer.UInt64Dtype),\n",
       " ('UInt64Index', pandas.core.indexes.numeric.UInt64Index),\n",
       " ('UInt8Dtype', pandas.core.arrays.integer.UInt8Dtype),\n",
       " ('option_context', pandas._config.config.option_context)]"
      ]
     },
     "execution_count": null,
     "metadata": {},
     "output_type": "execute_result"
    }
   ],
   "source": [
    "inspect.getmembers(pandas, predicate=inspect.isclass)"
   ]
  },
  {
   "cell_type": "code",
   "execution_count": null,
   "id": "43466f88-9766-48ba-b878-3fb288e8905e",
   "metadata": {},
   "outputs": [],
   "source": [
    "all_pandas_methods = [func[0] for func in inspect.getmembers(pandas, predicate=inspect.isfunction) if not func[0].startswith(\"__\")]\n",
    "all_pandas_members = [func[0] for func in inspect.getmembers(pandas) if not func[0].startswith(\"__\")]"
   ]
  },
  {
   "cell_type": "code",
   "execution_count": null,
   "id": "3a7d92a5-a0bf-47c1-87da-2e281ecc0f30",
   "metadata": {},
   "outputs": [],
   "source": [
    "all_dataframe_methods = [func[0] for func in inspect.getmembers(pandas.DataFrame, predicate=inspect.isfunction) if not func[0].startswith(\"_\")]\n",
    "all_dataframe_members = [func[0] for func in inspect.getmembers(pandas.DataFrame) if not func[0].startswith(\"_\")]"
   ]
  },
  {
   "cell_type": "code",
   "execution_count": null,
   "id": "35d4f37d-5d17-4772-a9df-0135428826bf",
   "metadata": {},
   "outputs": [],
   "source": [
    "def find_pandas_method_calls(arr):    \n",
    "    res = [\n",
    "        imp\n",
    "        for info_list in arr\n",
    "        for imp in {i.get(\"call\") for i in info_list if \"call\" in i and i.get(\"call\") in all_pandas_methods}\n",
    "    ]\n",
    "    return res"
   ]
  },
  {
   "cell_type": "code",
   "execution_count": null,
   "id": "ff03bf2f-0839-4f1b-be80-524dda604ce7",
   "metadata": {},
   "outputs": [],
   "source": [
    "def find_pandas_calls(arr):    \n",
    "    res = [\n",
    "        imp\n",
    "        for info_list in arr\n",
    "        for imp in {i.get(\"call\") for i in info_list if \"call\" in i and i.get(\"call\") in all_pandas_members}\n",
    "    ]\n",
    "    return res"
   ]
  },
  {
   "cell_type": "code",
   "execution_count": null,
   "id": "7ef4e559-f946-4c1f-8cb4-a53731ee6ace",
   "metadata": {},
   "outputs": [],
   "source": [
    "def find_dataframe_method_calls(arr):    \n",
    "    res = [\n",
    "        imp\n",
    "        for info_list in arr\n",
    "        for imp in {i.get(\"call\") for i in info_list if \"call\" in i and i.get(\"call\") in all_dataframe_methods}\n",
    "    ]\n",
    "    return res"
   ]
  },
  {
   "cell_type": "code",
   "execution_count": null,
   "id": "803a81c2-b949-4b62-a16a-f1f9a1a4b340",
   "metadata": {},
   "outputs": [],
   "source": [
    "def find_dataframe_calls(arr):    \n",
    "    res = [\n",
    "        imp\n",
    "        for info_list in arr\n",
    "        for imp in {i.get(\"call\") for i in info_list if \"call\" in i and i.get(\"call\") in all_dataframe_members}\n",
    "    ]\n",
    "    return res"
   ]
  },
  {
   "cell_type": "code",
   "execution_count": null,
   "id": "8b7b2fa2-2b19-4944-8505-d0fcdff9e66b",
   "metadata": {},
   "outputs": [],
   "source": [
    "def final_answer(arr):    \n",
    "    all_m = [i for i in all_dataframe_members + all_pandas_members] # if i not in [\"unique\", \"\"]]\n",
    "    res = [\n",
    "        imp\n",
    "        for info_list in arr\n",
    "        for imp in {i.get(\"call\") for i in info_list if \"call\" in i and i.get(\"call\") in all_m}\n",
    "    ]\n",
    "    return res"
   ]
  },
  {
   "cell_type": "code",
   "execution_count": null,
   "id": "34b60583-4e46-444b-9c93-438356a96b5b",
   "metadata": {},
   "outputs": [
    {
     "data": {
      "image/png": "[encoded data removed]",
      "text/plain": [
       "<Figure size 1152x432 with 1 Axes>"
      ]
     },
     "metadata": {
      "needs_background": "light"
     },
     "output_type": "display_data"
    }
   ],
   "source": [
    "pd_level_method_counts = Counter(\n",
    "    find_pandas_method_calls(final_info)\n",
    ").most_common(10)\n",
    "\n",
    "fig, ax = plt.subplots(figsize=(16,6))\n",
    "\n",
    "ax.set_title(\"Pandas Method calls\")\n",
    "ax = sns.barplot(\n",
    "    x=[c[0] for c in pd_level_method_counts],\n",
    "    y=[c[1] for c in pd_level_method_counts],\n",
    ")\n",
    "fig.show()"
   ]
  },
  {
   "cell_type": "code",
   "execution_count": null,
   "id": "b8058110-01c3-4a1b-8bff-c1415e342e76",
   "metadata": {},
   "outputs": [
    {
     "data": {
      "image/png": "[encoded data removed]",
      "text/plain": [
       "<Figure size 1152x432 with 1 Axes>"
      ]
     },
     "metadata": {
      "needs_background": "light"
     },
     "output_type": "display_data"
    }
   ],
   "source": [
    "pd_level_member_counts = Counter(\n",
    "    find_pandas_calls(final_info)\n",
    ").most_common(10)\n",
    "\n",
    "fig, ax = plt.subplots(figsize=(16,6))\n",
    "\n",
    "ax.set_title(\"Pandas Member calls\")\n",
    "ax = sns.barplot(\n",
    "    x=[c[0] for c in pd_level_member_counts],\n",
    "    y=[c[1] for c in pd_level_member_counts],\n",
    ")\n",
    "fig.show()"
   ]
  },
  {
   "cell_type": "code",
   "execution_count": null,
   "id": "a015f91f-2ddd-4a61-bd27-3cf83b0cfb8d",
   "metadata": {},
   "outputs": [
    {
     "data": {
      "image/png": "[encoded data removed]",
      "text/plain": [
       "<Figure size 1152x432 with 1 Axes>"
      ]
     },
     "metadata": {
      "needs_background": "light"
     },
     "output_type": "display_data"
    }
   ],
   "source": [
    "df_level_method_counts = Counter(\n",
    "    find_dataframe_method_calls(final_info)\n",
    ").most_common(10)\n",
    "\n",
    "fig, ax = plt.subplots(figsize=(16,6))\n",
    "\n",
    "ax.set_title(\"DataFrame Method calls\")\n",
    "ax = sns.barplot(\n",
    "    x=[c[0] for c in df_level_method_counts],\n",
    "    y=[c[1] for c in df_level_method_counts],\n",
    ")\n",
    "fig.show()"
   ]
  },
  {
   "cell_type": "code",
   "execution_count": null,
   "id": "3ffdc854-2028-4a09-950f-b67533833271",
   "metadata": {},
   "outputs": [
    {
     "data": {
      "image/png": "[encoded data removed]",
      "text/plain": [
       "<Figure size 1152x432 with 1 Axes>"
      ]
     },
     "metadata": {
      "needs_background": "light"
     },
     "output_type": "display_data"
    }
   ],
   "source": [
    "df_level_counts = Counter(\n",
    "    find_dataframe_calls(final_info)\n",
    ").most_common(10)\n",
    "\n",
    "fig, ax = plt.subplots(figsize=(16,6))\n",
    "\n",
    "ax.set_title(\"DataFrame Member calls\")\n",
    "ax = sns.barplot(\n",
    "    x=[c[0] for c in df_level_counts],\n",
    "    y=[c[1] for c in df_level_counts],\n",
    ")\n",
    "fig.show()"
   ]
  },
  {
   "cell_type": "code",
   "execution_count": null,
   "id": "b0a6cacd-6423-4e2c-b9fe-319a88052613",
   "metadata": {},
   "outputs": [
    {
     "data": {
      "image/png": "[encoded data removed]",
      "text/plain": [
       "<Figure size 1152x432 with 1 Axes>"
      ]
     },
     "metadata": {
      "needs_background": "light"
     },
     "output_type": "display_data"
    }
   ],
   "source": [
    "this_is_it = Counter(\n",
    "    final_answer(final_info)\n",
    ").most_common(10)\n",
    "\n",
    "fig, ax = plt.subplots(figsize=(16,6))\n",
    "\n",
    "ax.set_title(\"All Pandas/DataFrame calls\")\n",
    "ax = sns.barplot(\n",
    "    x=[c[0] for c in this_is_it],\n",
    "    y=[c[1] for c in this_is_it],\n",
    ")\n",
    "fig.show()"
   ]
  },
  {
   "cell_type": "code",
   "execution_count": null,
   "id": "9c262711-46f8-4716-83f3-4a8fe84d739c",
   "metadata": {},
   "outputs": [],
   "source": [
    "save_plotly(df_level_counts, \"df_level.svg\")\n",
    "save_plotly(df_level_method_counts, \"df_level_methods.svg\")\n",
    "save_plotly(this_is_it, \"this_is_it.svg\")"
   ]
  }
 ],
 "metadata": {
  "kernelspec": {
   "display_name": "Python 3 (ipykernel)",
   "language": "python",
   "name": "python3"
  },
  "language_info": {
   "codemirror_mode": {
    "name": "ipython",
    "version": 3
   },
   "file_extension": ".py",
   "mimetype": "text/x-python",
   "name": "python",
   "nbconvert_exporter": "python",
   "pygments_lexer": "ipython3",
   "version": "3.8.12"
  }
 },
 "nbformat": 4,
 "nbformat_minor": 5
}
