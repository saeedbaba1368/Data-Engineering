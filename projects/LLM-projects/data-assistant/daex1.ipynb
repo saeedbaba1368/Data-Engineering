{
 "cells": [
  {
   "cell_type": "markdown",
   "metadata": {},
   "source": [
    "# Data Analysis with the OpenAI Assistants API\n",
    "\n",
    "A tutorial on how to get GPT4 to analyse a CSV file with the new Assistants API.\n",
    "\n",
    "OpenAI tells us \"The Assistants API allows you to build AI assistants within your own applications. An Assistant has instructions and can leverage models, tools, and knowledge to respond to user queries. The Assistants API currently supports three types of tools: Code Interpreter, Retrieval, and Function calling.\"\n",
    "\n",
    "In this tutorial we will use the Code Interpreter tool in order to read CSV data; we will then ask the AI questions about the data and display the messages that are returned.\n",
    "\n",
    "Some of the code is adapted from the [OpenAI Cookbook](https://github.com/openai/openai-cookbook/blob/main/examples/Assistants_API_overview_python.ipynb) (MIT licence)."
   ]
  },
  {
   "cell_type": "code",
   "execution_count": 1,
   "metadata": {},
   "outputs": [],
   "source": [
    "import json\n",
    "\n",
    "# This utility function uses the IPython function 'display' to pretty-print the JSON of the\n",
    "# various entities created in the Assistants API. This code is copied directly from the OpenAI Cookbook.\n",
    "\n",
    "def show_json(obj):\n",
    "    display(json.loads(obj.model_dump_json()))"
   ]
  },
  {
   "cell_type": "markdown",
   "metadata": {},
   "source": [
    "### Assistants\n",
    "You can create Assistants directly through the Assistants API. You must provide a name, a model and instruction as in the code below and you must, of course be signed in. This Notebook requires you to enter your OpenAI API key.\n",
    "\n",
    "After creating the assistant we display the JSON version of it."
   ]
  },
  {
   "cell_type": "code",
   "execution_count": 2,
   "metadata": {},
   "outputs": [],
   "source": [
    "from openai import OpenAI\n",
    "\n",
    "# If you have set an environment variable set with your API key then you do not need\n",
    "# to pass it to OpenAI\n",
    "# client = OpenAI()\n",
    "\n",
    "# Otherwise you need to pass the key as a parameter, e.g.\n",
    "# api_key = \"your key here - don't put this in publicly available code!\"\n",
    "# or enter it interactively\n",
    "api_key = input(\"API key\")\n",
    "\n",
    "client = OpenAI(api_key = api_key)"
   ]
  },
  {
   "cell_type": "code",
   "execution_count": 3,
   "metadata": {},
   "outputs": [
    {
     "data": {
      "text/plain": [
       "{'id': 'asst_Mqid9aVUOpaK3gLgmuHdFh7H',\n",
       " 'created_at': 1705249345,\n",
       " 'description': None,\n",
       " 'file_ids': [],\n",
       " 'instructions': 'You are a data analyst who can analyse and interpret data files such as CSV and can draw conclusions from the data',\n",
       " 'metadata': {},\n",
       " 'model': 'gpt-4-1106-preview',\n",
       " 'name': 'Data Assistant',\n",
       " 'object': 'assistant',\n",
       " 'tools': []}"
      ]
     },
     "metadata": {},
     "output_type": "display_data"
    }
   ],
   "source": [
    "# Create an assistant and show what it looks like\n",
    "\n",
    "assistant = client.beta.assistants.create(\n",
    "    name=\"Data Assistant\",\n",
    "    instructions=\"You are a data analyst who can analyse and interpret data files such as CSV and can draw conclusions from the data\",\n",
    "    model=\"gpt-4-1106-preview\",\n",
    ")\n",
    "show_json(assistant)"
   ]
  },
  {
   "cell_type": "markdown",
   "metadata": {},
   "source": [
    "### Create a thread\n",
    "\n",
    "Initially, the thread is empty.\n"
   ]
  },
  {
   "cell_type": "code",
   "execution_count": 4,
   "metadata": {},
   "outputs": [
    {
     "data": {
      "text/plain": [
       "{'id': 'thread_TVLDDcv8ZWAaKTbnAhBwjRJI',\n",
       " 'created_at': 1705249350,\n",
       " 'metadata': {},\n",
       " 'object': 'thread'}"
      ]
     },
     "metadata": {},
     "output_type": "display_data"
    }
   ],
   "source": [
    "thread = client.beta.threads.create()\n",
    "show_json(thread)"
   ]
  },
  {
   "cell_type": "markdown",
   "metadata": {},
   "source": [
    "Then add the Message to the thread:\n"
   ]
  },
  {
   "cell_type": "code",
   "execution_count": 5,
   "metadata": {},
   "outputs": [
    {
     "data": {
      "text/plain": [
       "{'id': 'msg_KIKyi9JoGPI88LqAAU0OS5ju',\n",
       " 'assistant_id': None,\n",
       " 'content': [{'text': {'annotations': [],\n",
       "    'value': 'I need to find the mean value of a column in a pandas dataframe, can you help'},\n",
       "   'type': 'text'}],\n",
       " 'created_at': 1705249356,\n",
       " 'file_ids': [],\n",
       " 'metadata': {},\n",
       " 'object': 'thread.message',\n",
       " 'role': 'user',\n",
       " 'run_id': None,\n",
       " 'thread_id': 'thread_TVLDDcv8ZWAaKTbnAhBwjRJI'}"
      ]
     },
     "metadata": {},
     "output_type": "display_data"
    }
   ],
   "source": [
    "message = client.beta.threads.messages.create(\n",
    "    thread_id=thread.id,\n",
    "    role=\"user\",\n",
    "    content=\"I need to find the mean value of a column in a pandas dataframe, can you help\",\n",
    ")\n",
    "show_json(message)"
   ]
  },
  {
   "cell_type": "code",
   "execution_count": 6,
   "metadata": {},
   "outputs": [
    {
     "data": {
      "text/plain": [
       "{'id': 'thread_TVLDDcv8ZWAaKTbnAhBwjRJI',\n",
       " 'created_at': 1705249350,\n",
       " 'metadata': {},\n",
       " 'object': 'thread'}"
      ]
     },
     "metadata": {},
     "output_type": "display_data"
    }
   ],
   "source": [
    "show_json(thread)"
   ]
  },
  {
   "cell_type": "markdown",
   "metadata": {},
   "source": [
    "#### Runs\n"
   ]
  },
  {
   "cell_type": "code",
   "execution_count": 7,
   "metadata": {},
   "outputs": [
    {
     "data": {
      "text/plain": [
       "{'id': 'run_dQknLUHs0DuERN7QnmfO9nZk',\n",
       " 'assistant_id': 'asst_Mqid9aVUOpaK3gLgmuHdFh7H',\n",
       " 'cancelled_at': None,\n",
       " 'completed_at': None,\n",
       " 'created_at': 1705250905,\n",
       " 'expires_at': 1705251505,\n",
       " 'failed_at': None,\n",
       " 'file_ids': [],\n",
       " 'instructions': 'You are a data analyst who can analyse and interpret data files such as CSV and can draw conclusions from the data',\n",
       " 'last_error': None,\n",
       " 'metadata': {},\n",
       " 'model': 'gpt-4-1106-preview',\n",
       " 'object': 'thread.run',\n",
       " 'required_action': None,\n",
       " 'started_at': None,\n",
       " 'status': 'queued',\n",
       " 'thread_id': 'thread_TVLDDcv8ZWAaKTbnAhBwjRJI',\n",
       " 'tools': []}"
      ]
     },
     "metadata": {},
     "output_type": "display_data"
    }
   ],
   "source": [
    "run = client.beta.threads.runs.create(\n",
    "    thread_id=thread.id,\n",
    "    assistant_id=assistant.id,\n",
    ")\n",
    "show_json(run)"
   ]
  },
  {
   "cell_type": "markdown",
   "metadata": {},
   "source": [
    "A utility from the OpenAI Cookbook to poll the run for completion"
   ]
  },
  {
   "cell_type": "code",
   "execution_count": 8,
   "metadata": {},
   "outputs": [],
   "source": [
    "import time\n",
    "\n",
    "def wait_on_run(run, thread):\n",
    "    while run.status == \"queued\" or run.status == \"in_progress\":\n",
    "        run = client.beta.threads.runs.retrieve(\n",
    "            thread_id=thread.id,\n",
    "            run_id=run.id,\n",
    "        )\n",
    "        time.sleep(0.5)\n",
    "    return run"
   ]
  },
  {
   "cell_type": "markdown",
   "metadata": {},
   "source": [
    "Wait for completion of the run"
   ]
  },
  {
   "cell_type": "code",
   "execution_count": 9,
   "metadata": {},
   "outputs": [
    {
     "data": {
      "text/plain": [
       "{'id': 'run_dQknLUHs0DuERN7QnmfO9nZk',\n",
       " 'assistant_id': 'asst_Mqid9aVUOpaK3gLgmuHdFh7H',\n",
       " 'cancelled_at': None,\n",
       " 'completed_at': 1705250916,\n",
       " 'created_at': 1705250905,\n",
       " 'expires_at': None,\n",
       " 'failed_at': None,\n",
       " 'file_ids': [],\n",
       " 'instructions': 'You are a data analyst who can analyse and interpret data files such as CSV and can draw conclusions from the data',\n",
       " 'last_error': None,\n",
       " 'metadata': {},\n",
       " 'model': 'gpt-4-1106-preview',\n",
       " 'object': 'thread.run',\n",
       " 'required_action': None,\n",
       " 'started_at': 1705250906,\n",
       " 'status': 'completed',\n",
       " 'thread_id': 'thread_TVLDDcv8ZWAaKTbnAhBwjRJI',\n",
       " 'tools': []}"
      ]
     },
     "metadata": {},
     "output_type": "display_data"
    }
   ],
   "source": [
    "run = wait_on_run(run, thread)\n",
    "show_json(run)"
   ]
  },
  {
   "cell_type": "markdown",
   "metadata": {},
   "source": [
    "### Messages\n"
   ]
  },
  {
   "cell_type": "code",
   "execution_count": 10,
   "metadata": {},
   "outputs": [
    {
     "data": {
      "text/plain": [
       "{'data': [{'id': 'msg_OE189P7ud3lgNx6XaBym0Twh',\n",
       "   'assistant_id': 'asst_Mqid9aVUOpaK3gLgmuHdFh7H',\n",
       "   'content': [{'text': {'annotations': [],\n",
       "      'value': 'Certainly! In order to calculate the mean value of a column in a pandas DataFrame, you can use the `.mean()` method. Here’s a step-by-step guide to doing just that:\\n\\nStep 1: First, ensure that you have pandas installed. If not, you can install it using `pip`:\\n```bash\\npip install pandas\\n```\\n\\nStep 2: Import pandas in your Python script or notebook:\\n```python\\nimport pandas as pd\\n```\\n\\nStep 3: Load your data into a pandas DataFrame. Assuming your data is in a CSV file, you can use the `read_csv` function:\\n```python\\ndf = pd.read_csv(\\'path_to_your_csv_file.csv\\')\\n```\\n\\nStep 4: Calculate the mean of the desired column. Let’s say the column name is \\'your_column_name\\':\\n```python\\nmean_value = df[\\'your_column_name\\'].mean()\\n```\\n\\nAnd that\\'s it! The variable `mean_value` now holds the mean of the specified column.\\n\\nHere\\'s an example with a complete snippet of code:\\n\\n```python\\nimport pandas as pd\\n\\n# Load data\\ndf = pd.read_csv(\\'path_to_your_csv_file.csv\\')\\n\\n# Calculate mean\\nmean_value = df[\\'your_column_name\\'].mean()\\n\\n# Print the result\\nprint(f\"The mean value of the column \\'your_column_name\\' is {mean_value}\")\\n```\\n\\nJust replace `\\'path_to_your_csv_file.csv\\'` with the actual path to your CSV file, and `\\'your_column_name\\'` with the actual column name you\\'re interested in.\\n\\nKeep in mind that if your column contains non-numeric data, you would first need to clean or convert the data to numeric types, as the mean function applies to numerical data only. Additionally, ensure that there are no `NaN` values or consider using `.mean(skipna=True)` to skip `NaN` values when computing the mean if your data includes missing values.'},\n",
       "     'type': 'text'}],\n",
       "   'created_at': 1705250906,\n",
       "   'file_ids': [],\n",
       "   'metadata': {},\n",
       "   'object': 'thread.message',\n",
       "   'role': 'assistant',\n",
       "   'run_id': 'run_dQknLUHs0DuERN7QnmfO9nZk',\n",
       "   'thread_id': 'thread_TVLDDcv8ZWAaKTbnAhBwjRJI'},\n",
       "  {'id': 'msg_KIKyi9JoGPI88LqAAU0OS5ju',\n",
       "   'assistant_id': None,\n",
       "   'content': [{'text': {'annotations': [],\n",
       "      'value': 'I need to find the mean value of a column in a pandas dataframe, can you help'},\n",
       "     'type': 'text'}],\n",
       "   'created_at': 1705249356,\n",
       "   'file_ids': [],\n",
       "   'metadata': {},\n",
       "   'object': 'thread.message',\n",
       "   'role': 'user',\n",
       "   'run_id': None,\n",
       "   'thread_id': 'thread_TVLDDcv8ZWAaKTbnAhBwjRJI'}],\n",
       " 'object': 'list',\n",
       " 'first_id': 'msg_OE189P7ud3lgNx6XaBym0Twh',\n",
       " 'last_id': 'msg_KIKyi9JoGPI88LqAAU0OS5ju',\n",
       " 'has_more': False}"
      ]
     },
     "metadata": {},
     "output_type": "display_data"
    }
   ],
   "source": [
    "messages = client.beta.threads.messages.list(thread_id=thread.id)\n",
    "show_json(messages)"
   ]
  },
  {
   "cell_type": "code",
   "execution_count": 11,
   "metadata": {},
   "outputs": [],
   "source": [
    "# Pretty printing helper from the OpenAI Cookbook\n",
    "\n",
    "def pretty_print(messages):\n",
    "    print(\"# Messages\")\n",
    "    for m in messages:\n",
    "        print(f\"{m.role}: {m.content[0].text.value}\")\n",
    "    print()"
   ]
  },
  {
   "cell_type": "code",
   "execution_count": 12,
   "metadata": {},
   "outputs": [
    {
     "name": "stdout",
     "output_type": "stream",
     "text": [
      "# Messages\n",
      "assistant: Certainly! In order to calculate the mean value of a column in a pandas DataFrame, you can use the `.mean()` method. Here’s a step-by-step guide to doing just that:\n",
      "\n",
      "Step 1: First, ensure that you have pandas installed. If not, you can install it using `pip`:\n",
      "```bash\n",
      "pip install pandas\n",
      "```\n",
      "\n",
      "Step 2: Import pandas in your Python script or notebook:\n",
      "```python\n",
      "import pandas as pd\n",
      "```\n",
      "\n",
      "Step 3: Load your data into a pandas DataFrame. Assuming your data is in a CSV file, you can use the `read_csv` function:\n",
      "```python\n",
      "df = pd.read_csv('path_to_your_csv_file.csv')\n",
      "```\n",
      "\n",
      "Step 4: Calculate the mean of the desired column. Let’s say the column name is 'your_column_name':\n",
      "```python\n",
      "mean_value = df['your_column_name'].mean()\n",
      "```\n",
      "\n",
      "And that's it! The variable `mean_value` now holds the mean of the specified column.\n",
      "\n",
      "Here's an example with a complete snippet of code:\n",
      "\n",
      "```python\n",
      "import pandas as pd\n",
      "\n",
      "# Load data\n",
      "df = pd.read_csv('path_to_your_csv_file.csv')\n",
      "\n",
      "# Calculate mean\n",
      "mean_value = df['your_column_name'].mean()\n",
      "\n",
      "# Print the result\n",
      "print(f\"The mean value of the column 'your_column_name' is {mean_value}\")\n",
      "```\n",
      "\n",
      "Just replace `'path_to_your_csv_file.csv'` with the actual path to your CSV file, and `'your_column_name'` with the actual column name you're interested in.\n",
      "\n",
      "Keep in mind that if your column contains non-numeric data, you would first need to clean or convert the data to numeric types, as the mean function applies to numerical data only. Additionally, ensure that there are no `NaN` values or consider using `.mean(skipna=True)` to skip `NaN` values when computing the mean if your data includes missing values.\n",
      "user: I need to find the mean value of a column in a pandas dataframe, can you help\n",
      "\n"
     ]
    }
   ],
   "source": [
    "pretty_print(messages)"
   ]
  },
  {
   "cell_type": "markdown",
   "metadata": {},
   "source": [
    "Ask our Assistant a related question\n"
   ]
  },
  {
   "cell_type": "code",
   "execution_count": null,
   "metadata": {},
   "outputs": [
    {
     "data": {
      "text/plain": [
       "{'data': [{'id': 'msg_r2QmJiks0MVmIVXPxUoWXseu',\n",
       "   'assistant_id': 'asst_y9cljnz0u79cbsCJWYF2dDBr',\n",
       "   'content': [{'text': {'annotations': [],\n",
       "      'value': 'Yes, pandas offers a range of statistical methods that can be used to calculate other descriptive statistics like mode, median, maximum, and minimum. Here are the methods and how you can use them:\\n\\n1. **Median** - To find the median value of a column:\\n\\n```python\\nmedian_value = df[\\'column_name\\'].median()\\nprint(f\"The median value of the column is: {median_value}\")\\n```\\n\\n2. **Mode** - To find the mode value(s) of a column. This can return multiple values because a dataset can have more than one mode:\\n\\n```python\\nmode_values = df[\\'column_name\\'].mode()\\nprint(\"The mode value(s) of the column is/are:\")\\nprint(mode_values)\\n```\\n\\n3. **Maximum** - To find the maximum value of a column:\\n\\n```python\\nmax_value = df[\\'column_name\\'].max()\\nprint(f\"The maximum value of the column is: {max_value}\")\\n```\\n\\n4. **Minimum** - To find the minimum value of a column:\\n\\n```python\\nmin_value = df[\\'column_name\\'].min()\\nprint(f\"The minimum value of the column is: {min_value}\")\\n```\\n\\nEach of these methods works on a pandas Series, which is essentially a single column of a DataFrame. \\n\\nHere\\'s how you could implement all the above methods in the context of your DataFrame:\\n\\n```python\\nimport pandas as pd\\n\\n# Read the data into a DataFrame\\ndf = pd.read_csv(\\'path_to_your_file.csv\\')\\n\\n# Replace \\'column_name\\' with your actual column name.\\ncolumn_name = \\'column_name\\'\\n\\n# Calculate and print statistical values\\nmedian_value = df[column_name].median()\\nmode_values = df[column_name].mode()\\nmax_value = df[column_name].max()\\nmin_value = df[column_name].min()\\n\\nprint(f\"The median value of {column_name} is: {median_value}\")\\nprint(f\"The mode value(s) of {column_name} is/are:\")\\nprint(mode_values)\\nprint(f\"The maximum value of {column_name} is: {max_value}\")\\nprint(f\"The minimum value of {column_name} is: {min_value}\")\\n```\\n\\nRemember to replace `\\'path_to_your_file.csv\\'` and `\\'column_name\\'` in the script with the actual path to your CSV file and the name of the column you\\'d like to calculate statistics for. These methods should cover the most frequently used statistical measures for a single column within a pandas DataFrame.'},\n",
       "     'type': 'text'}],\n",
       "   'created_at': 1705136219,\n",
       "   'file_ids': [],\n",
       "   'metadata': {},\n",
       "   'object': 'thread.message',\n",
       "   'role': 'assistant',\n",
       "   'run_id': 'run_FQgBc1gLIDqE3wCjOOIi5COq',\n",
       "   'thread_id': 'thread_WT86WCsNuuVN7d111Mywi42Z'}],\n",
       " 'object': 'list',\n",
       " 'first_id': 'msg_r2QmJiks0MVmIVXPxUoWXseu',\n",
       " 'last_id': 'msg_r2QmJiks0MVmIVXPxUoWXseu',\n",
       " 'has_more': False}"
      ]
     },
     "metadata": {},
     "output_type": "display_data"
    }
   ],
   "source": [
    "\"\"\" \n",
    "# Create a message to append to our thread\n",
    "message = client.beta.threads.messages.create(\n",
    "    thread_id=thread.id, \n",
    "    role=\"user\", \n",
    "    content=\"Are there other similar statistical methods for Pandas that will calculate mode, median, maximum and minimum?\"\n",
    ")\n",
    "\n",
    "# Create the new run\n",
    "run = client.beta.threads.runs.create(\n",
    "    thread_id=thread.id,\n",
    "    assistant_id=assistant.id,\n",
    ")\n",
    "\n",
    "# Wait for completion\n",
    "wait_on_run(run, thread)\n",
    "\n",
    "# Retrieve all the messages added after our last user message\n",
    "messages = client.beta.threads.messages.list(\n",
    "    thread_id=thread.id, order=\"asc\", after=message.id\n",
    ")\n",
    "show_json(messages)\n",
    "\"\"\""
   ]
  },
  {
   "cell_type": "code",
   "execution_count": 110,
   "metadata": {},
   "outputs": [
    {
     "name": "stdout",
     "output_type": "stream",
     "text": [
      "# Messages\n",
      "assistant: Yes, pandas offers a range of statistical methods that can be used to calculate other descriptive statistics like mode, median, maximum, and minimum. Here are the methods and how you can use them:\n",
      "\n",
      "1. **Median** - To find the median value of a column:\n",
      "\n",
      "```python\n",
      "median_value = df['column_name'].median()\n",
      "print(f\"The median value of the column is: {median_value}\")\n",
      "```\n",
      "\n",
      "2. **Mode** - To find the mode value(s) of a column. This can return multiple values because a dataset can have more than one mode:\n",
      "\n",
      "```python\n",
      "mode_values = df['column_name'].mode()\n",
      "print(\"The mode value(s) of the column is/are:\")\n",
      "print(mode_values)\n",
      "```\n",
      "\n",
      "3. **Maximum** - To find the maximum value of a column:\n",
      "\n",
      "```python\n",
      "max_value = df['column_name'].max()\n",
      "print(f\"The maximum value of the column is: {max_value}\")\n",
      "```\n",
      "\n",
      "4. **Minimum** - To find the minimum value of a column:\n",
      "\n",
      "```python\n",
      "min_value = df['column_name'].min()\n",
      "print(f\"The minimum value of the column is: {min_value}\")\n",
      "```\n",
      "\n",
      "Each of these methods works on a pandas Series, which is essentially a single column of a DataFrame. \n",
      "\n",
      "Here's how you could implement all the above methods in the context of your DataFrame:\n",
      "\n",
      "```python\n",
      "import pandas as pd\n",
      "\n",
      "# Read the data into a DataFrame\n",
      "df = pd.read_csv('path_to_your_file.csv')\n",
      "\n",
      "# Replace 'column_name' with your actual column name.\n",
      "column_name = 'column_name'\n",
      "\n",
      "# Calculate and print statistical values\n",
      "median_value = df[column_name].median()\n",
      "mode_values = df[column_name].mode()\n",
      "max_value = df[column_name].max()\n",
      "min_value = df[column_name].min()\n",
      "\n",
      "print(f\"The median value of {column_name} is: {median_value}\")\n",
      "print(f\"The mode value(s) of {column_name} is/are:\")\n",
      "print(mode_values)\n",
      "print(f\"The maximum value of {column_name} is: {max_value}\")\n",
      "print(f\"The minimum value of {column_name} is: {min_value}\")\n",
      "```\n",
      "\n",
      "Remember to replace `'path_to_your_file.csv'` and `'column_name'` in the script with the actual path to your CSV file and the name of the column you'd like to calculate statistics for. These methods should cover the most frequently used statistical measures for a single column within a pandas DataFrame.\n",
      "\n"
     ]
    }
   ],
   "source": [
    "\"\"\"\n",
    "pretty_print(messages)\n",
    "\"\"\""
   ]
  },
  {
   "cell_type": "markdown",
   "metadata": {},
   "source": [
    "### Tools\n",
    "\n",
    "A key feature of the Assistants API is the ability to equip our Assistants with Tools, like Code Interpreter, Retrieval, and custom Functions. Let's take a look at each.\n",
    "\n",
    "#### Code Interpreter\n",
    "\n",
    "Let's equip our Math Tutor with the [Code Interpreter](https://platform.openai.com/docs/assistants/tools/code-interpreter) tool, which we can do from the Dashboard...\n"
   ]
  },
  {
   "cell_type": "code",
   "execution_count": 13,
   "metadata": {},
   "outputs": [
    {
     "data": {
      "text/plain": [
       "{'id': 'asst_Mqid9aVUOpaK3gLgmuHdFh7H',\n",
       " 'created_at': 1705249345,\n",
       " 'description': None,\n",
       " 'file_ids': [],\n",
       " 'instructions': 'You are a data analyst who can analyse and interpret data files such as CSV and can draw conclusions from the data',\n",
       " 'metadata': {},\n",
       " 'model': 'gpt-4-1106-preview',\n",
       " 'name': 'Data Assistant',\n",
       " 'object': 'assistant',\n",
       " 'tools': [{'type': 'code_interpreter'}]}"
      ]
     },
     "metadata": {},
     "output_type": "display_data"
    }
   ],
   "source": [
    "assistant = client.beta.assistants.update(\n",
    "    assistant.id,\n",
    "    tools=[{\"type\": \"code_interpreter\"}],\n",
    ")\n",
    "show_json(assistant)\n"
   ]
  },
  {
   "cell_type": "code",
   "execution_count": 14,
   "metadata": {},
   "outputs": [
    {
     "data": {
      "text/plain": [
       "{'id': 'asst_Mqid9aVUOpaK3gLgmuHdFh7H',\n",
       " 'created_at': 1705249345,\n",
       " 'description': None,\n",
       " 'file_ids': ['file-2dDVMRoUs7Kj0s2rnhcthlun'],\n",
       " 'instructions': 'You are a data analyst who can analyse and interpret data files such as CSV and can draw conclusions from the data',\n",
       " 'metadata': {},\n",
       " 'model': 'gpt-4-1106-preview',\n",
       " 'name': 'Data Assistant',\n",
       " 'object': 'assistant',\n",
       " 'tools': [{'type': 'code_interpreter'}]}"
      ]
     },
     "metadata": {},
     "output_type": "display_data"
    }
   ],
   "source": [
    "# Upload the file\n",
    "file = client.files.create(\n",
    "    file=open(\n",
    "        \"europop.csv\",\n",
    "        \"rb\",\n",
    "    ),\n",
    "    purpose=\"assistants\",\n",
    ")\n",
    "# Update Assistant\n",
    "assistant = client.beta.assistants.update(\n",
    "    assistant.id,\n",
    "    tools=[{\"type\": \"code_interpreter\"}],\n",
    "    file_ids=[file.id],\n",
    ")\n",
    "show_json(assistant)"
   ]
  },
  {
   "cell_type": "code",
   "execution_count": 15,
   "metadata": {},
   "outputs": [
    {
     "data": {
      "text/plain": [
       "{'data': [{'id': 'msg_RCiE6XPqbl6gHTZQyDyenjXz',\n",
       "   'assistant_id': 'asst_Mqid9aVUOpaK3gLgmuHdFh7H',\n",
       "   'content': [{'text': {'annotations': [],\n",
       "      'value': \"To achieve this, we will need to take the following steps:\\n\\n1. Load the data from the uploaded file into a pandas DataFrame.\\n2. Identify the relevant columns for countries, populations, and calculate the percentages.\\n3. Sort the DataFrame in descending order based on the population size.\\n4. Calculate the percentage of the total for each country.\\n5. Display the resulting DataFrame or list.\\n\\nLet's start by loading the data and looking at the first few rows to identify the columns we need. I'll proceed with loading the CSV file and displaying its head.\"},\n",
       "     'type': 'text'}],\n",
       "   'created_at': 1705254136,\n",
       "   'file_ids': [],\n",
       "   'metadata': {},\n",
       "   'object': 'thread.message',\n",
       "   'role': 'assistant',\n",
       "   'run_id': 'run_OaYkhNYmvK9RvUXOVsFpT2Gb',\n",
       "   'thread_id': 'thread_TVLDDcv8ZWAaKTbnAhBwjRJI'},\n",
       "  {'id': 'msg_3onCF0pdaygetzy8e2ttjcQY',\n",
       "   'assistant_id': 'asst_Mqid9aVUOpaK3gLgmuHdFh7H',\n",
       "   'content': [{'text': {'annotations': [],\n",
       "      'value': \"The file has been successfully loaded, and it appears to contain columns for the country names ('Country') and their respective populations ('Population (2021)'). \\n\\nNow, let's proceed with the following steps:\\n1. Sort the DataFrame based on 'Population (2021)' in descending order.\\n2. Calculate the percentage of the total population for each country.\\n3. List the names, populations, and percentages of the total in the sorted order.\"},\n",
       "     'type': 'text'}],\n",
       "   'created_at': 1705254151,\n",
       "   'file_ids': [],\n",
       "   'metadata': {},\n",
       "   'object': 'thread.message',\n",
       "   'role': 'assistant',\n",
       "   'run_id': 'run_OaYkhNYmvK9RvUXOVsFpT2Gb',\n",
       "   'thread_id': 'thread_TVLDDcv8ZWAaKTbnAhBwjRJI'},\n",
       "  {'id': 'msg_kmHZICPSO3MuiAVir9nqHgdA',\n",
       "   'assistant_id': 'asst_Mqid9aVUOpaK3gLgmuHdFh7H',\n",
       "   'content': [{'text': {'annotations': [],\n",
       "      'value': 'Here is the list of countries with their populations and the percentage of the total population, in descending order of population size:\\n\\n|   Rank | Country      | Population (2021) | Percentage of Total |\\n|-------:|--------------|-------------------:|--------------------:|\\n|      1 | Germany      |          83,408,560 |               18.74% |\\n|      2 | France       |          64,531,448 |               14.50% |\\n|      3 | Italy        |          59,240,336 |               13.31% |\\n|      4 | Spain        |          47,486,932 |               10.67% |\\n|      5 | Poland       |          38,307,724 |                8.61% |\\n|      6 | Romania      |          19,328,558 |                4.34% |\\n|      7 | Netherlands  |          17,501,696 |                3.93% |\\n|      8 | Belgium      |          11,611,416 |                2.61% |\\n|      9 | Czechia      |          10,510,748 |                2.36% |\\n|     10 | Sweden       |          10,467,095 |                2.35% |\\n|     11 | Greece       |          10,445,368 |                2.35% |\\n|     12 | Portugal     |          10,290,109 |                2.31% |\\n|     13 | Hungary      |           9,709,784 |                2.18% |\\n|     14 | Austria      |           8,922,086 |                2.00% |\\n|     15 | Bulgaria     |           6,885,864 |                1.55% |\\n|     16 | Denmark      |           5,854,246 |                1.32% |\\n|     17 | Finland      |           5,535,982 |                1.24% |\\n|     18 | Slovakia     |           5,447,621 |                1.22% |\\n|     19 | Ireland      |           4,986,525 |                1.12% |\\n|     20 | Croatia      |           4,060,139 |                0.91% |\\n|     21 | Lithuania    |           2,786,652 |                0.63% |\\n|     22 | Slovenia     |           2,119,408 |                0.48% |\\n|     23 | Latvia       |           1,873,926 |                0.42% |\\n|     24 | Estonia      |           1,328,704 |                0.30% |\\n|     25 | Cyprus       |           1,244,193 |                0.28% |\\n|     26 | Luxembourg   |             639,330 |                0.14% |\\n|     27 | Malta        |             526,751 |                0.12% |\\n\\nThis table lists each country, its population in 2021, and the percentage that population represents of the total of all countries listed. Please note that the percentages are rounded to two decimal places for readability.'},\n",
       "     'type': 'text'}],\n",
       "   'created_at': 1705254171,\n",
       "   'file_ids': [],\n",
       "   'metadata': {},\n",
       "   'object': 'thread.message',\n",
       "   'role': 'assistant',\n",
       "   'run_id': 'run_OaYkhNYmvK9RvUXOVsFpT2Gb',\n",
       "   'thread_id': 'thread_TVLDDcv8ZWAaKTbnAhBwjRJI'}],\n",
       " 'object': 'list',\n",
       " 'first_id': 'msg_RCiE6XPqbl6gHTZQyDyenjXz',\n",
       " 'last_id': 'msg_kmHZICPSO3MuiAVir9nqHgdA',\n",
       " 'has_more': False}"
      ]
     },
     "metadata": {},
     "output_type": "display_data"
    }
   ],
   "source": [
    "# Create a message to append to our thread\n",
    "message = client.beta.threads.messages.create(\n",
    "    thread_id=thread.id, \n",
    "    role=\"user\", \n",
    "    content=\"\"\"Please list the names, populations and percentage of the total, of the countries\n",
    "               in order of descending population size?\"\"\"\n",
    ")\n",
    "\n",
    "# Execute our run\n",
    "run = client.beta.threads.runs.create(\n",
    "    thread_id=thread.id,\n",
    "    assistant_id=assistant.id,\n",
    ")\n",
    "\n",
    "# Wait for completion\n",
    "wait_on_run(run, thread)\n",
    "\n",
    "# Retrieve all the messages added after our last user message\n",
    "messages = client.beta.threads.messages.list(\n",
    "    thread_id=thread.id, \n",
    "    order=\"asc\", \n",
    "    after=message.id\n",
    ")\n",
    "show_json(messages)"
   ]
  },
  {
   "cell_type": "code",
   "execution_count": 16,
   "metadata": {},
   "outputs": [
    {
     "data": {
      "text/plain": [
       "{'data': [{'id': 'msg_RCiE6XPqbl6gHTZQyDyenjXz',\n",
       "   'assistant_id': 'asst_Mqid9aVUOpaK3gLgmuHdFh7H',\n",
       "   'content': [{'text': {'annotations': [],\n",
       "      'value': \"To achieve this, we will need to take the following steps:\\n\\n1. Load the data from the uploaded file into a pandas DataFrame.\\n2. Identify the relevant columns for countries, populations, and calculate the percentages.\\n3. Sort the DataFrame in descending order based on the population size.\\n4. Calculate the percentage of the total for each country.\\n5. Display the resulting DataFrame or list.\\n\\nLet's start by loading the data and looking at the first few rows to identify the columns we need. I'll proceed with loading the CSV file and displaying its head.\"},\n",
       "     'type': 'text'}],\n",
       "   'created_at': 1705254136,\n",
       "   'file_ids': [],\n",
       "   'metadata': {},\n",
       "   'object': 'thread.message',\n",
       "   'role': 'assistant',\n",
       "   'run_id': 'run_OaYkhNYmvK9RvUXOVsFpT2Gb',\n",
       "   'thread_id': 'thread_TVLDDcv8ZWAaKTbnAhBwjRJI'},\n",
       "  {'id': 'msg_3onCF0pdaygetzy8e2ttjcQY',\n",
       "   'assistant_id': 'asst_Mqid9aVUOpaK3gLgmuHdFh7H',\n",
       "   'content': [{'text': {'annotations': [],\n",
       "      'value': \"The file has been successfully loaded, and it appears to contain columns for the country names ('Country') and their respective populations ('Population (2021)'). \\n\\nNow, let's proceed with the following steps:\\n1. Sort the DataFrame based on 'Population (2021)' in descending order.\\n2. Calculate the percentage of the total population for each country.\\n3. List the names, populations, and percentages of the total in the sorted order.\"},\n",
       "     'type': 'text'}],\n",
       "   'created_at': 1705254151,\n",
       "   'file_ids': [],\n",
       "   'metadata': {},\n",
       "   'object': 'thread.message',\n",
       "   'role': 'assistant',\n",
       "   'run_id': 'run_OaYkhNYmvK9RvUXOVsFpT2Gb',\n",
       "   'thread_id': 'thread_TVLDDcv8ZWAaKTbnAhBwjRJI'},\n",
       "  {'id': 'msg_kmHZICPSO3MuiAVir9nqHgdA',\n",
       "   'assistant_id': 'asst_Mqid9aVUOpaK3gLgmuHdFh7H',\n",
       "   'content': [{'text': {'annotations': [],\n",
       "      'value': 'Here is the list of countries with their populations and the percentage of the total population, in descending order of population size:\\n\\n|   Rank | Country      | Population (2021) | Percentage of Total |\\n|-------:|--------------|-------------------:|--------------------:|\\n|      1 | Germany      |          83,408,560 |               18.74% |\\n|      2 | France       |          64,531,448 |               14.50% |\\n|      3 | Italy        |          59,240,336 |               13.31% |\\n|      4 | Spain        |          47,486,932 |               10.67% |\\n|      5 | Poland       |          38,307,724 |                8.61% |\\n|      6 | Romania      |          19,328,558 |                4.34% |\\n|      7 | Netherlands  |          17,501,696 |                3.93% |\\n|      8 | Belgium      |          11,611,416 |                2.61% |\\n|      9 | Czechia      |          10,510,748 |                2.36% |\\n|     10 | Sweden       |          10,467,095 |                2.35% |\\n|     11 | Greece       |          10,445,368 |                2.35% |\\n|     12 | Portugal     |          10,290,109 |                2.31% |\\n|     13 | Hungary      |           9,709,784 |                2.18% |\\n|     14 | Austria      |           8,922,086 |                2.00% |\\n|     15 | Bulgaria     |           6,885,864 |                1.55% |\\n|     16 | Denmark      |           5,854,246 |                1.32% |\\n|     17 | Finland      |           5,535,982 |                1.24% |\\n|     18 | Slovakia     |           5,447,621 |                1.22% |\\n|     19 | Ireland      |           4,986,525 |                1.12% |\\n|     20 | Croatia      |           4,060,139 |                0.91% |\\n|     21 | Lithuania    |           2,786,652 |                0.63% |\\n|     22 | Slovenia     |           2,119,408 |                0.48% |\\n|     23 | Latvia       |           1,873,926 |                0.42% |\\n|     24 | Estonia      |           1,328,704 |                0.30% |\\n|     25 | Cyprus       |           1,244,193 |                0.28% |\\n|     26 | Luxembourg   |             639,330 |                0.14% |\\n|     27 | Malta        |             526,751 |                0.12% |\\n\\nThis table lists each country, its population in 2021, and the percentage that population represents of the total of all countries listed. Please note that the percentages are rounded to two decimal places for readability.'},\n",
       "     'type': 'text'}],\n",
       "   'created_at': 1705254171,\n",
       "   'file_ids': [],\n",
       "   'metadata': {},\n",
       "   'object': 'thread.message',\n",
       "   'role': 'assistant',\n",
       "   'run_id': 'run_OaYkhNYmvK9RvUXOVsFpT2Gb',\n",
       "   'thread_id': 'thread_TVLDDcv8ZWAaKTbnAhBwjRJI'}],\n",
       " 'object': 'list',\n",
       " 'first_id': 'msg_RCiE6XPqbl6gHTZQyDyenjXz',\n",
       " 'last_id': 'msg_kmHZICPSO3MuiAVir9nqHgdA',\n",
       " 'has_more': False}"
      ]
     },
     "metadata": {},
     "output_type": "display_data"
    }
   ],
   "source": [
    "show_json(messages)"
   ]
  },
  {
   "cell_type": "code",
   "execution_count": 17,
   "metadata": {},
   "outputs": [
    {
     "name": "stdout",
     "output_type": "stream",
     "text": [
      "# Messages\n",
      "assistant: To achieve this, we will need to take the following steps:\n",
      "\n",
      "1. Load the data from the uploaded file into a pandas DataFrame.\n",
      "2. Identify the relevant columns for countries, populations, and calculate the percentages.\n",
      "3. Sort the DataFrame in descending order based on the population size.\n",
      "4. Calculate the percentage of the total for each country.\n",
      "5. Display the resulting DataFrame or list.\n",
      "\n",
      "Let's start by loading the data and looking at the first few rows to identify the columns we need. I'll proceed with loading the CSV file and displaying its head.\n",
      "assistant: The file has been successfully loaded, and it appears to contain columns for the country names ('Country') and their respective populations ('Population (2021)'). \n",
      "\n",
      "Now, let's proceed with the following steps:\n",
      "1. Sort the DataFrame based on 'Population (2021)' in descending order.\n",
      "2. Calculate the percentage of the total population for each country.\n",
      "3. List the names, populations, and percentages of the total in the sorted order.\n",
      "assistant: Here is the list of countries with their populations and the percentage of the total population, in descending order of population size:\n",
      "\n",
      "|   Rank | Country      | Population (2021) | Percentage of Total |\n",
      "|-------:|--------------|-------------------:|--------------------:|\n",
      "|      1 | Germany      |          83,408,560 |               18.74% |\n",
      "|      2 | France       |          64,531,448 |               14.50% |\n",
      "|      3 | Italy        |          59,240,336 |               13.31% |\n",
      "|      4 | Spain        |          47,486,932 |               10.67% |\n",
      "|      5 | Poland       |          38,307,724 |                8.61% |\n",
      "|      6 | Romania      |          19,328,558 |                4.34% |\n",
      "|      7 | Netherlands  |          17,501,696 |                3.93% |\n",
      "|      8 | Belgium      |          11,611,416 |                2.61% |\n",
      "|      9 | Czechia      |          10,510,748 |                2.36% |\n",
      "|     10 | Sweden       |          10,467,095 |                2.35% |\n",
      "|     11 | Greece       |          10,445,368 |                2.35% |\n",
      "|     12 | Portugal     |          10,290,109 |                2.31% |\n",
      "|     13 | Hungary      |           9,709,784 |                2.18% |\n",
      "|     14 | Austria      |           8,922,086 |                2.00% |\n",
      "|     15 | Bulgaria     |           6,885,864 |                1.55% |\n",
      "|     16 | Denmark      |           5,854,246 |                1.32% |\n",
      "|     17 | Finland      |           5,535,982 |                1.24% |\n",
      "|     18 | Slovakia     |           5,447,621 |                1.22% |\n",
      "|     19 | Ireland      |           4,986,525 |                1.12% |\n",
      "|     20 | Croatia      |           4,060,139 |                0.91% |\n",
      "|     21 | Lithuania    |           2,786,652 |                0.63% |\n",
      "|     22 | Slovenia     |           2,119,408 |                0.48% |\n",
      "|     23 | Latvia       |           1,873,926 |                0.42% |\n",
      "|     24 | Estonia      |           1,328,704 |                0.30% |\n",
      "|     25 | Cyprus       |           1,244,193 |                0.28% |\n",
      "|     26 | Luxembourg   |             639,330 |                0.14% |\n",
      "|     27 | Malta        |             526,751 |                0.12% |\n",
      "\n",
      "This table lists each country, its population in 2021, and the percentage that population represents of the total of all countries listed. Please note that the percentages are rounded to two decimal places for readability.\n",
      "\n"
     ]
    }
   ],
   "source": [
    "pretty_print(messages)"
   ]
  },
  {
   "cell_type": "code",
   "execution_count": 116,
   "metadata": {},
   "outputs": [],
   "source": [
    "# Create a message to append to our thread\n",
    "\n",
    "#content = input(\"Enter query\")\n",
    "content = \"What is the samllest country by population?\""
   ]
  },
  {
   "cell_type": "code",
   "execution_count": 117,
   "metadata": {},
   "outputs": [
    {
     "name": "stdout",
     "output_type": "stream",
     "text": [
      "# Messages\n",
      "assistant: The smallest country by population, according to the provided list, is Malta, with a population of 526,751 in the year 2021.\n",
      "\n"
     ]
    }
   ],
   "source": [
    "message = client.beta.threads.messages.create(\n",
    "    thread_id=thread.id, \n",
    "    role=\"user\", \n",
    "    content=content\n",
    ")\n",
    "\n",
    "# Execute our run\n",
    "run = client.beta.threads.runs.create(\n",
    "    thread_id=thread.id,\n",
    "    assistant_id=assistant.id,\n",
    ")\n",
    "\n",
    "# Wait for completion\n",
    "wait_on_run(run, thread)\n",
    "\n",
    "# Retrieve all the messages added after our last user message\n",
    "messages = client.beta.threads.messages.list(\n",
    "    thread_id=thread.id, \n",
    "    order=\"asc\", \n",
    "    after=message.id\n",
    ")\n",
    "\n",
    "pretty_print(messages)"
   ]
  },
  {
   "cell_type": "code",
   "execution_count": 118,
   "metadata": {},
   "outputs": [
    {
     "name": "stdout",
     "output_type": "stream",
     "text": [
      "FileDeleteResponse(id='file-AzqzUD2oE3aPwcxUwA7Zw67h', deleted=True, object='assistant.file.deleted')\n",
      "AssistantDeleted(id='asst_y9cljnz0u79cbsCJWYF2dDBr', deleted=True, object='assistant.deleted')\n"
     ]
    }
   ],
   "source": [
    "# Clear up after session\n",
    "\n",
    "deleted_assistant_file = client.beta.assistants.files.delete(\n",
    "    assistant_id=assistant.id,\n",
    "    file_id=file.id\n",
    ")\n",
    "print(deleted_assistant_file)\n",
    "\n",
    "response = client.beta.assistants.delete(assistant.id)\n",
    "print(response)\n",
    "\n"
   ]
  }
 ],
 "metadata": {
  "kernelspec": {
   "display_name": "openai",
   "language": "python",
   "name": "python3"
  },
  "language_info": {
   "codemirror_mode": {
    "name": "ipython",
    "version": 3
   },
   "file_extension": ".py",
   "mimetype": "text/x-python",
   "name": "python",
   "nbconvert_exporter": "python",
   "pygments_lexer": "ipython3",
   "version": "3.11.7"
  }
 },
 "nbformat": 4,
 "nbformat_minor": 2
}
