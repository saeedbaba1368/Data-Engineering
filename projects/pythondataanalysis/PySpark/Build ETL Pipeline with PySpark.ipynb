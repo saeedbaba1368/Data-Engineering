{
 "cells": [
  {
   "cell_type": "markdown",
   "id": "0be16c3a",
   "metadata": {
    "heading_collapsed": true
   },
   "source": [
    "### Import libraries"
   ]
  },
  {
   "cell_type": "code",
   "execution_count": 1,
   "id": "a97a7dbd",
   "metadata": {
    "hidden": true
   },
   "outputs": [],
   "source": [
    "from pyspark import SparkContext, SparkConf\n",
    "from pyspark.sql import SparkSession, SQLContext\n",
    "import os\n",
    "import sys\n",
    "from pyspark.sql.functions import *"
   ]
  },
  {
   "cell_type": "markdown",
   "id": "654f39ed",
   "metadata": {
    "heading_collapsed": true
   },
   "source": [
    "### Set Java Home & Vars"
   ]
  },
  {
   "cell_type": "code",
   "execution_count": 2,
   "id": "4cfa0165",
   "metadata": {
    "hidden": true
   },
   "outputs": [],
   "source": [
    "# set Java home\n",
    "os.environ[\"JAVA_HOME\"] = \"C:\\Program Files\\Java\\jdk-18.0.2.1\""
   ]
  },
  {
   "cell_type": "markdown",
   "id": "8ee01d9a",
   "metadata": {
    "heading_collapsed": true
   },
   "source": [
    "### Set Spark configs details"
   ]
  },
  {
   "cell_type": "code",
   "execution_count": 3,
   "id": "d68f3a20",
   "metadata": {
    "hidden": true
   },
   "outputs": [],
   "source": [
    "conf = SparkConf() \\\n",
    "    .setAppName(\"ETLPipeline\") \\\n",
    "    .setMaster(\"local\") \\\n",
    "    .set(\"spark.driver.extraClassPath\",\"G:/pyspark/*\")"
   ]
  },
  {
   "cell_type": "markdown",
   "id": "f6584387",
   "metadata": {
    "heading_collapsed": true
   },
   "source": [
    "### Initiate Spark Session"
   ]
  },
  {
   "cell_type": "code",
   "execution_count": 4,
   "id": "ce90bd9a",
   "metadata": {
    "hidden": true
   },
   "outputs": [],
   "source": [
    "sc = SparkContext.getOrCreate(conf=conf)\n",
    "etl = SparkSession(sc)"
   ]
  },
  {
   "cell_type": "markdown",
   "id": "94f52fda",
   "metadata": {
    "heading_collapsed": true
   },
   "source": [
    "### Set Database details"
   ]
  },
  {
   "cell_type": "code",
   "execution_count": 5,
   "id": "d3c67b0a",
   "metadata": {
    "hidden": true
   },
   "outputs": [],
   "source": [
    "#get password from environmnet var\n",
    "pwd = os.environ['PGPASS']\n",
    "uid = os.environ['PGUID']\n",
    "#sql db details\n",
    "server = \"localhost\"\n",
    "src_db = \"AdventureWorksDW2019\"\n",
    "target_db = \"AdventureWorks\"\n",
    "src_driver = \"com.microsoft.sqlserver.jdbc.SQLServerDriver\"\n",
    "target_driver = \"org.postgresql.Driver\""
   ]
  },
  {
   "cell_type": "code",
   "execution_count": 6,
   "id": "53e0082a",
   "metadata": {
    "hidden": true
   },
   "outputs": [],
   "source": [
    "# source connection\n",
    "src_url = f\"jdbc:sqlserver://{server}:1433;databaseName={src_db};user={uid};password={pwd};\"\n",
    "# target connection\n",
    "target_url = f\"jdbc:postgresql://{server}:5432/{target_db}?user={uid}&password={pwd}\""
   ]
  },
  {
   "cell_type": "markdown",
   "id": "b79dd5ea",
   "metadata": {
    "heading_collapsed": true
   },
   "source": [
    "### SQL Statement and test"
   ]
  },
  {
   "cell_type": "code",
   "execution_count": 7,
   "id": "3e990162",
   "metadata": {
    "hidden": true
   },
   "outputs": [],
   "source": [
    "sql = \"\"\"select  t.name as table_name from sys.tables t \n",
    "where t.name in ('DimProduct','DimProductSubcategory','DimProductCategory','DimSalesTerritory','FactInternetSales') \"\"\""
   ]
  },
  {
   "cell_type": "code",
   "execution_count": 8,
   "id": "6ee85aab",
   "metadata": {
    "hidden": true
   },
   "outputs": [
    {
     "name": "stdout",
     "output_type": "stream",
     "text": [
      "+--------------------+\n",
      "|          table_name|\n",
      "+--------------------+\n",
      "|          DimProduct|\n",
      "|  DimProductCategory|\n",
      "|DimProductSubcate...|\n",
      "|   DimSalesTerritory|\n",
      "|   FactInternetSales|\n",
      "+--------------------+\n",
      "\n"
     ]
    }
   ],
   "source": [
    "# Let's test our connection\n",
    "dfs=etl.read. \\\n",
    "    format(\"jdbc\"). \\\n",
    "    options(driver=src_driver, user=uid, password=pwd, url=src_url, query=sql). \\\n",
    "    load()\n",
    "dfs.show()"
   ]
  },
  {
   "cell_type": "code",
   "execution_count": 9,
   "id": "d60880c1",
   "metadata": {
    "hidden": true
   },
   "outputs": [
    {
     "name": "stdout",
     "output_type": "stream",
     "text": [
      "DimProduct\n",
      "DimProductCategory\n",
      "DimProductSubcategory\n",
      "DimSalesTerritory\n",
      "FactInternetSales\n"
     ]
    }
   ],
   "source": [
    "data_collect = dfs.collect()\n",
    "# looping thorough each row of the dataframe\n",
    "for row in data_collect:\n",
    "    # while looping through each\n",
    "    # row printing the data of table_name\n",
    "    print(row[\"table_name\"])"
   ]
  },
  {
   "cell_type": "markdown",
   "id": "4efbb15d",
   "metadata": {
    "heading_collapsed": true
   },
   "source": [
    "### Function to extract source system data"
   ]
  },
  {
   "cell_type": "code",
   "execution_count": 10,
   "id": "d45b31d6",
   "metadata": {
    "hidden": true
   },
   "outputs": [],
   "source": [
    "def extract():\n",
    "    try:\n",
    "        dfs=etl.read. \\\n",
    "            format(\"jdbc\"). \\\n",
    "            options(driver=src_driver,user=uid, password=pwd,url=src_url,query=sql). \\\n",
    "            load()\n",
    "        # get table names\n",
    "        data_collect = dfs.collect()\n",
    "        # looping thorough each row of the dataframe\n",
    "        for row in data_collect:\n",
    "        # while looping through each\n",
    "        # row printing the data of table_name\n",
    "            print(row[\"table_name\"])\n",
    "            tbl_name = row[\"table_name\"]\n",
    "            df = etl.read \\\n",
    "            .format(\"jdbc\") \\\n",
    "            .option(\"driver\", src_driver) \\\n",
    "            .option(\"user\", uid) \\\n",
    "            .option(\"password\", pwd) \\\n",
    "            .option(\"url\", src_url) \\\n",
    "            .option(\"dbtable\", f\"dbo.{tbl_name}\") \\\n",
    "            .load()\n",
    "            #print(df.show(10))\n",
    "            load(df, tbl_name)\n",
    "            print(\"Data loaded successfully\")\n",
    "    except Exception as e:\n",
    "        print(\"Data extract error: \" + str(e))"
   ]
  },
  {
   "cell_type": "markdown",
   "id": "3125aa39",
   "metadata": {
    "heading_collapsed": true
   },
   "source": [
    "### Function to persist data in target db"
   ]
  },
  {
   "cell_type": "code",
   "execution_count": 11,
   "id": "ec4db2f6",
   "metadata": {
    "hidden": true
   },
   "outputs": [],
   "source": [
    "def load(df, tbl):\n",
    "    try:\n",
    "        rows_imported = 0\n",
    "        print(f'importing rows {rows_imported} to {rows_imported + df.count()}... for table {tbl}')\n",
    "        df.write.mode(\"overwrite\") \\\n",
    "        .format(\"jdbc\") \\\n",
    "        .option(\"url\", target_url) \\\n",
    "        .option(\"user\", uid) \\\n",
    "        .option(\"password\", pwd) \\\n",
    "        .option(\"driver\", target_driver) \\\n",
    "        .option(\"dbtable\", \"src_\" + tbl) \\\n",
    "        .save()\n",
    "        print(\"Data imported successful\")\n",
    "        rows_imported += df.count()\n",
    "    except Exception as e:\n",
    "        print(\"Data load error: \" + str(e))"
   ]
  },
  {
   "cell_type": "code",
   "execution_count": 12,
   "id": "e2c16a91",
   "metadata": {
    "hidden": true
   },
   "outputs": [
    {
     "name": "stdout",
     "output_type": "stream",
     "text": [
      "DimProduct\n",
      "importing rows 0 to 606... for table DimProduct\n",
      "Data imported successful\n",
      "Data loaded successfully\n",
      "DimProductCategory\n",
      "importing rows 0 to 4... for table DimProductCategory\n",
      "Data imported successful\n",
      "Data loaded successfully\n",
      "DimProductSubcategory\n",
      "importing rows 0 to 37... for table DimProductSubcategory\n",
      "Data imported successful\n",
      "Data loaded successfully\n",
      "DimSalesTerritory\n",
      "importing rows 0 to 11... for table DimSalesTerritory\n",
      "Data imported successful\n",
      "Data loaded successfully\n",
      "FactInternetSales\n",
      "importing rows 0 to 60398... for table FactInternetSales\n",
      "Data imported successful\n",
      "Data loaded successfully\n"
     ]
    }
   ],
   "source": [
    "# Function Call\n",
    "extract()"
   ]
  },
  {
   "cell_type": "code",
   "execution_count": null,
   "id": "9531420d",
   "metadata": {
    "hidden": true
   },
   "outputs": [],
   "source": []
  }
 ],
 "metadata": {
  "kernelspec": {
   "display_name": "Python 3 (ipykernel)",
   "language": "python",
   "name": "python3"
  },
  "language_info": {
   "codemirror_mode": {
    "name": "ipython",
    "version": 3
   },
   "file_extension": ".py",
   "mimetype": "text/x-python",
   "name": "python",
   "nbconvert_exporter": "python",
   "pygments_lexer": "ipython3",
   "version": "3.9.7"
  }
 },
 "nbformat": 4,
 "nbformat_minor": 5
}
