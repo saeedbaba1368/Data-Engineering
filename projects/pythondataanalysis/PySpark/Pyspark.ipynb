{
 "cells": [
  {
   "cell_type": "markdown",
   "id": "64451dbe",
   "metadata": {
    "heading_collapsed": true
   },
   "source": [
    "### Install Pyspark"
   ]
  },
  {
   "cell_type": "code",
   "execution_count": 2,
   "id": "6b70a63c",
   "metadata": {
    "hidden": true
   },
   "outputs": [],
   "source": [
    "#!pip install pyspark"
   ]
  },
  {
   "cell_type": "markdown",
   "id": "e9cb4e55",
   "metadata": {
    "heading_collapsed": true
   },
   "source": [
    "### Import libraries"
   ]
  },
  {
   "cell_type": "code",
   "execution_count": 3,
   "id": "2bf6eb76",
   "metadata": {
    "hidden": true
   },
   "outputs": [],
   "source": [
    "from pyspark import SparkContext, SparkConf\n",
    "from pyspark.sql import SparkSession, SQLContext\n",
    "import os"
   ]
  },
  {
   "cell_type": "markdown",
   "id": "5ab8b9f1",
   "metadata": {
    "heading_collapsed": true
   },
   "source": [
    "### Set Java home"
   ]
  },
  {
   "cell_type": "code",
   "execution_count": 4,
   "id": "df4b84bd",
   "metadata": {
    "hidden": true
   },
   "outputs": [],
   "source": [
    "# set Java home\n",
    "os.environ[\"JAVA_HOME\"] = \"C:\\Program Files\\Java\\jdk-18.0.2.1\""
   ]
  },
  {
   "cell_type": "markdown",
   "id": "6ec11b80",
   "metadata": {
    "heading_collapsed": true
   },
   "source": [
    "### Initiate Spark Context"
   ]
  },
  {
   "cell_type": "code",
   "execution_count": 5,
   "id": "6296dc8a",
   "metadata": {
    "hidden": true
   },
   "outputs": [],
   "source": [
    "conf = SparkConf() \\\n",
    "    .setAppName(\"Example\") \\\n",
    "    .setMaster(\"local\") \\\n",
    "    .set(\"spark.driver.extraClassPath\",\"C:/pyspark/*\")"
   ]
  },
  {
   "cell_type": "code",
   "execution_count": 6,
   "id": "1f313606",
   "metadata": {
    "hidden": true
   },
   "outputs": [],
   "source": [
    "sc = SparkContext.getOrCreate(conf=conf)\n",
    "spark = SparkSession(sc)"
   ]
  },
  {
   "cell_type": "code",
   "execution_count": 7,
   "id": "055bb7cb",
   "metadata": {
    "hidden": true
   },
   "outputs": [
    {
     "data": {
      "text/html": [
       "\n",
       "            <div>\n",
       "                <p><b>SparkSession - in-memory</b></p>\n",
       "                \n",
       "        <div>\n",
       "            <p><b>SparkContext</b></p>\n",
       "\n",
       "            <p><a href=\"http://host.docker.internal:4041\">Spark UI</a></p>\n",
       "\n",
       "            <dl>\n",
       "              <dt>Version</dt>\n",
       "                <dd><code>v3.3.0</code></dd>\n",
       "              <dt>Master</dt>\n",
       "                <dd><code>local</code></dd>\n",
       "              <dt>AppName</dt>\n",
       "                <dd><code>Example</code></dd>\n",
       "            </dl>\n",
       "        </div>\n",
       "        \n",
       "            </div>\n",
       "        "
      ],
      "text/plain": [
       "<pyspark.sql.session.SparkSession at 0x252f80cce20>"
      ]
     },
     "execution_count": 7,
     "metadata": {},
     "output_type": "execute_result"
    }
   ],
   "source": [
    "spark"
   ]
  },
  {
   "cell_type": "markdown",
   "id": "c9ea1bcf",
   "metadata": {
    "heading_collapsed": true
   },
   "source": [
    "### Read CSV File"
   ]
  },
  {
   "cell_type": "code",
   "execution_count": 8,
   "id": "bedc3c1b",
   "metadata": {
    "hidden": true,
    "scrolled": true
   },
   "outputs": [
    {
     "name": "stdout",
     "output_type": "stream",
     "text": [
      "+---------------+------------------+--------------------+--------------+--------------+---------+------------+---------+---------+-------------+---------+\n",
      "|productcategory|productsubcategory|             product| saleterritory|       Country|OrderDate|StandardCost|UnitPrice|ListPrice|OrderQuantity|    Sales|\n",
      "+---------------+------------------+--------------------+--------------+--------------+---------+------------+---------+---------+-------------+---------+\n",
      "|       Clothing|              Caps|        AWC Logo Cap|United Kingdom|United Kingdom|6/30/2012|      6.9223|   5.0136|   8.6442|           14|68.786592|\n",
      "|    Accessories|             Locks|          Cable Lock|United Kingdom|United Kingdom|6/30/2012|     10.3125|       15|       25|            6|       90|\n",
      "|       Clothing|            Gloves|Full-Finger Glove...|United Kingdom|United Kingdom|6/30/2012|     15.6709|   22.794|    37.99|            8|  182.352|\n",
      "|       Clothing|            Gloves|Full-Finger Glove...|United Kingdom|United Kingdom|6/30/2012|     15.6709|  20.8945|    37.99|           16| 317.5964|\n",
      "|       Clothing|            Gloves|Full-Finger Glove...|United Kingdom|United Kingdom|6/30/2012|     15.6709|   22.794|    37.99|            7|  159.558|\n",
      "|       Clothing|            Gloves|Full-Finger Glove...|United Kingdom|United Kingdom|6/30/2012|     15.6709|   22.794|    37.99|            2|   45.588|\n",
      "|       Clothing|            Gloves|Full-Finger Glove...|United Kingdom|United Kingdom|6/30/2012|     15.6709|   22.794|    37.99|            1|   22.794|\n",
      "|       Clothing|            Gloves|Full-Finger Glove...|United Kingdom|United Kingdom|6/30/2012|     15.6709|   22.794|    37.99|            1|   22.794|\n",
      "|       Clothing|            Gloves|Half-Finger Glove...|United Kingdom|United Kingdom|6/30/2012|      9.1593|  14.1289|  23.5481|            3|  42.3867|\n",
      "|       Clothing|            Gloves|Half-Finger Glove...|United Kingdom|United Kingdom|6/30/2012|      9.1593|  14.1289|  23.5481|            8| 113.0312|\n",
      "|       Clothing|            Gloves|Half-Finger Glove...|United Kingdom|United Kingdom|6/30/2012|      9.1593|  14.1289|  23.5481|            3|  42.3867|\n",
      "|     Components|             Forks|             HL Fork|United Kingdom|United Kingdom|6/30/2012|    101.8936|  137.694|   229.49|            6|  826.164|\n",
      "|     Components|          Headsets|          HL Headset|United Kingdom|United Kingdom|6/30/2012|     55.3801|   74.838|   124.73|            2|  149.676|\n",
      "|     Components|   Mountain Frames|HL Mountain Frame...|United Kingdom|United Kingdom|6/30/2012|     739.041| 736.1455|1226.9091|            2| 1472.291|\n",
      "|     Components|   Mountain Frames|HL Mountain Frame...|United Kingdom|United Kingdom|6/30/2012|     739.041| 736.1455|1226.9091|            1| 736.1455|\n",
      "|     Components|   Mountain Frames|HL Mountain Frame...|United Kingdom|United Kingdom|6/30/2012|    747.2002| 744.2727|1240.4545|            1| 744.2727|\n",
      "|     Components|   Mountain Frames|HL Mountain Frame...|United Kingdom|United Kingdom|6/30/2012|    747.2002| 744.2727|1240.4545|            6|4465.6362|\n",
      "|     Components|   Mountain Frames|HL Mountain Frame...|United Kingdom|United Kingdom|6/30/2012|    747.2002| 744.2727|1240.4545|            3|2232.8181|\n",
      "|     Components|            Wheels|HL Mountain Front...|United Kingdom|United Kingdom|6/30/2012|    133.2955|  180.129|  300.215|            2|  360.258|\n",
      "|     Components|        Handlebars|HL Mountain Handl...|        France|        France|6/30/2012|     53.3999|  65.6018| 109.3364|            1|  65.6018|\n",
      "+---------------+------------------+--------------------+--------------+--------------+---------+------------+---------+---------+-------------+---------+\n",
      "only showing top 20 rows\n",
      "\n"
     ]
    }
   ],
   "source": [
    "df=spark.read.options(delimiter=\",\", header=True).csv(r\"C:\\Users\\haq\\OneDrive\\Notebooks\\data\\AdvWorksData.csv\")\n",
    "df.show()"
   ]
  },
  {
   "cell_type": "code",
   "execution_count": 9,
   "id": "422e9bfc",
   "metadata": {
    "hidden": true
   },
   "outputs": [
    {
     "name": "stdout",
     "output_type": "stream",
     "text": [
      "root\n",
      " |-- productcategory: string (nullable = true)\n",
      " |-- productsubcategory: string (nullable = true)\n",
      " |-- product: string (nullable = true)\n",
      " |-- saleterritory: string (nullable = true)\n",
      " |-- Country: string (nullable = true)\n",
      " |-- OrderDate: string (nullable = true)\n",
      " |-- StandardCost: string (nullable = true)\n",
      " |-- UnitPrice: string (nullable = true)\n",
      " |-- ListPrice: string (nullable = true)\n",
      " |-- OrderQuantity: string (nullable = true)\n",
      " |-- Sales: string (nullable = true)\n",
      "\n"
     ]
    }
   ],
   "source": [
    "df.printSchema()"
   ]
  },
  {
   "cell_type": "markdown",
   "id": "61ca84a5",
   "metadata": {
    "heading_collapsed": true
   },
   "source": [
    "### Common dataframe actions"
   ]
  },
  {
   "cell_type": "code",
   "execution_count": 11,
   "id": "79fb5014",
   "metadata": {
    "hidden": true
   },
   "outputs": [
    {
     "name": "stdout",
     "output_type": "stream",
     "text": [
      "+---------------+------------------+------------------------------+-------------+-------+----------+------------+---------+---------+-------------+---------+\n",
      "|productcategory|productsubcategory|product                       |saleterritory|Country|OrderDate |StandardCost|UnitPrice|ListPrice|OrderQuantity|Sales    |\n",
      "+---------------+------------------+------------------------------+-------------+-------+----------+------------+---------+---------+-------------+---------+\n",
      "|Components     |Handlebars        |HL Mountain Handlebars        |France       |France |6/30/2012 |53.3999     |65.6018  |109.3364 |1            |65.6018  |\n",
      "|Clothing       |Gloves            |Full-Finger Gloves, L         |France       |France |9/30/2012 |15.6709     |22.794   |37.99    |3            |68.382   |\n",
      "|Clothing       |Gloves            |Full-Finger Gloves, S         |France       |France |9/30/2012 |15.6709     |22.794   |37.99    |1            |22.794   |\n",
      "|Bikes          |Mountain Bikes    |Mountain-200 Black, 38        |France       |France |9/30/2012 |1251.9813   |1229.4589|2049.0982|3            |3688.3767|\n",
      "|Bikes          |Mountain Bikes    |Mountain-200 Black, 42        |France       |France |9/30/2012 |1251.9813   |1229.4589|2049.0982|2            |2458.9178|\n",
      "|Bikes          |Mountain Bikes    |Mountain-200 Silver, 42       |France       |France |9/30/2012 |1265.6195   |1242.8518|2071.4196|2            |2485.7036|\n",
      "|Clothing       |Gloves            |Full-Finger Gloves, L         |France       |France |12/31/2012|15.6709     |22.794   |37.99    |2            |45.588   |\n",
      "|Clothing       |Gloves            |Full-Finger Gloves, M         |France       |France |12/31/2012|15.6709     |22.794   |37.99    |3            |68.382   |\n",
      "|Components     |Headsets          |HL Headset                    |France       |France |12/31/2012|55.3801     |74.838   |124.73   |5            |374.19   |\n",
      "|Components     |Mountain Frames   |HL Mountain Frame - Black, 38 |France       |France |12/31/2012|739.041     |736.1455 |1226.9091|3            |2208.4365|\n",
      "|Components     |Mountain Frames   |HL Mountain Frame - Black, 42 |France       |France |12/31/2012|739.041     |736.1455 |1226.9091|1            |736.1455 |\n",
      "|Components     |Mountain Frames   |HL Mountain Frame - Silver, 46|France       |France |12/31/2012|747.2002    |744.2727 |1240.4545|2            |1488.5454|\n",
      "|Clothing       |Jerseys           |Long-Sleeve Logo Jersey, XL   |France       |France |12/31/2012|38.4923     |28.8404  |48.0673  |6            |173.0424 |\n",
      "|Clothing       |Bib-Shorts        |Men's Bib-Shorts, S           |France       |France |12/31/2012|37.1209     |53.994   |89.99    |2            |107.988  |\n",
      "|Clothing       |Shorts            |Men's Sports Shorts, S        |France       |France |12/31/2012|24.7459     |35.994   |59.99    |4            |143.976  |\n",
      "|Components     |Mountain Frames   |ML Mountain Frame - Black, 38 |France       |France |12/31/2012|185.8193    |209.256  |348.76   |2            |418.512  |\n",
      "|Bikes          |Mountain Bikes    |Mountain-200 Black, 38        |France       |France |12/31/2012|1251.9813   |1229.4589|2049.0982|2            |2458.9178|\n",
      "|Bikes          |Mountain Bikes    |Mountain-200 Black, 42        |France       |France |12/31/2012|1251.9813   |1229.4589|2049.0982|1            |1229.4589|\n",
      "|Bikes          |Mountain Bikes    |Mountain-200 Black, 42        |France       |France |12/31/2012|1251.9813   |1229.4589|2049.0982|2            |2458.9178|\n",
      "|Bikes          |Mountain Bikes    |Mountain-200 Black, 46        |France       |France |12/31/2012|1251.9813   |1229.4589|2049.0982|2            |2458.9178|\n",
      "+---------------+------------------+------------------------------+-------------+-------+----------+------------+---------+---------+-------------+---------+\n",
      "only showing top 20 rows\n",
      "\n"
     ]
    }
   ],
   "source": [
    "france = df.filter(df.saleterritory == \"France\").show(truncate=False)"
   ]
  },
  {
   "cell_type": "code",
   "execution_count": 12,
   "id": "91b2c614",
   "metadata": {
    "hidden": true,
    "scrolled": true
   },
   "outputs": [
    {
     "name": "stdout",
     "output_type": "stream",
     "text": [
      "+---------------+--------------+---------+---------+\n",
      "|productcategory| saleterritory|OrderDate|    Sales|\n",
      "+---------------+--------------+---------+---------+\n",
      "|       Clothing|United Kingdom|6/30/2012|68.786592|\n",
      "|    Accessories|United Kingdom|6/30/2012|       90|\n",
      "|       Clothing|United Kingdom|6/30/2012|  182.352|\n",
      "|       Clothing|United Kingdom|6/30/2012| 317.5964|\n",
      "|       Clothing|United Kingdom|6/30/2012|  159.558|\n",
      "|       Clothing|United Kingdom|6/30/2012|   45.588|\n",
      "|       Clothing|United Kingdom|6/30/2012|   22.794|\n",
      "|       Clothing|United Kingdom|6/30/2012|   22.794|\n",
      "|       Clothing|United Kingdom|6/30/2012|  42.3867|\n",
      "|       Clothing|United Kingdom|6/30/2012| 113.0312|\n",
      "|       Clothing|United Kingdom|6/30/2012|  42.3867|\n",
      "|     Components|United Kingdom|6/30/2012|  826.164|\n",
      "|     Components|United Kingdom|6/30/2012|  149.676|\n",
      "|     Components|United Kingdom|6/30/2012| 1472.291|\n",
      "|     Components|United Kingdom|6/30/2012| 736.1455|\n",
      "|     Components|United Kingdom|6/30/2012| 744.2727|\n",
      "|     Components|United Kingdom|6/30/2012|4465.6362|\n",
      "|     Components|United Kingdom|6/30/2012|2232.8181|\n",
      "|     Components|United Kingdom|6/30/2012|  360.258|\n",
      "|     Components|        France|6/30/2012|  65.6018|\n",
      "+---------------+--------------+---------+---------+\n",
      "only showing top 20 rows\n",
      "\n"
     ]
    }
   ],
   "source": [
    "df1 = df[['productcategory','saleterritory','OrderDate','Sales']]\n",
    "df1.show()"
   ]
  },
  {
   "cell_type": "code",
   "execution_count": 13,
   "id": "90f717c9",
   "metadata": {
    "hidden": true
   },
   "outputs": [
    {
     "name": "stdout",
     "output_type": "stream",
     "text": [
      "+--------------+-----+\n",
      "| saleterritory|count|\n",
      "+--------------+-----+\n",
      "|       Germany| 1864|\n",
      "|        France| 3530|\n",
      "|     Northwest| 7872|\n",
      "|     Southeast| 5937|\n",
      "|       Central| 5812|\n",
      "|        Canada|11444|\n",
      "|     Southwest|13379|\n",
      "|     Australia| 1713|\n",
      "|United Kingdom| 3520|\n",
      "|     Northeast| 5809|\n",
      "+--------------+-----+\n",
      "\n",
      "None\n"
     ]
    }
   ],
   "source": [
    "saleterritory = df.groupBy('saleterritory').count()\n",
    "print(saleterritory.show())"
   ]
  },
  {
   "cell_type": "markdown",
   "id": "e8dd8913",
   "metadata": {
    "heading_collapsed": true
   },
   "source": [
    "### Use Spark SQL to query data"
   ]
  },
  {
   "cell_type": "code",
   "execution_count": 15,
   "id": "44ab4f66",
   "metadata": {
    "hidden": true
   },
   "outputs": [
    {
     "name": "stdout",
     "output_type": "stream",
     "text": [
      "+---------------+------------------+------------+--------------+--------------+----------+------------+---------+---------+-------------+---------+\n",
      "|productcategory|productsubcategory|     product| saleterritory|       Country| OrderDate|StandardCost|UnitPrice|ListPrice|OrderQuantity|    Sales|\n",
      "+---------------+------------------+------------+--------------+--------------+----------+------------+---------+---------+-------------+---------+\n",
      "|       Clothing|              Caps|AWC Logo Cap|United Kingdom|United Kingdom| 6/30/2012|      6.9223|   5.0136|   8.6442|           14|68.786592|\n",
      "|       Clothing|              Caps|AWC Logo Cap|United Kingdom|United Kingdom| 9/30/2012|      6.9223|   5.1865|   8.6442|            2|   10.373|\n",
      "|       Clothing|              Caps|AWC Logo Cap|United Kingdom|United Kingdom| 3/30/2013|      6.9223|   5.1865|   8.6442|            5|  25.9325|\n",
      "|       Clothing|              Caps|AWC Logo Cap|United Kingdom|United Kingdom| 4/30/2013|      6.9223|   5.1865|   8.6442|            4|   20.746|\n",
      "|       Clothing|              Caps|AWC Logo Cap|        France|        France| 6/30/2013|      6.9223|    5.394|     8.99|            2|   10.788|\n",
      "|       Clothing|              Caps|AWC Logo Cap|       Germany|       Germany| 6/30/2013|      6.9223|   5.2142|     8.99|           12|61.318992|\n",
      "|       Clothing|              Caps|AWC Logo Cap|        France|        France| 9/30/2013|      6.9223|    5.394|     8.99|            3|   16.182|\n",
      "|       Clothing|              Caps|AWC Logo Cap|United Kingdom|United Kingdom|10/30/2013|      6.9223|    5.394|     8.99|            8|   43.152|\n",
      "|       Clothing|              Caps|AWC Logo Cap|     Northwest| United States| 5/31/2011|      6.9223|   5.1865|   8.6442|            3|  15.5595|\n",
      "|       Clothing|              Caps|AWC Logo Cap|     Northwest| United States| 5/31/2011|      6.9223|   5.1865|   8.6442|            2|   10.373|\n",
      "|       Clothing|              Caps|AWC Logo Cap|     Northwest| United States|  7/1/2011|      6.9223|   5.1865|   8.6442|            4|   20.746|\n",
      "|       Clothing|              Caps|AWC Logo Cap|     Northwest| United States| 8/31/2011|      6.9223|   5.1865|   8.6442|            1|   5.1865|\n",
      "|       Clothing|              Caps|AWC Logo Cap|     Northwest| United States| 10/1/2011|      6.9223|   5.1865|   8.6442|            3|  15.5595|\n",
      "|       Clothing|              Caps|AWC Logo Cap|     Northwest| United States| 12/1/2011|      6.9223|   5.1865|   8.6442|            1|   5.1865|\n",
      "|       Clothing|              Caps|AWC Logo Cap|     Northwest| United States| 12/1/2011|      6.9223|   5.1865|   8.6442|            1|   5.1865|\n",
      "|       Clothing|              Caps|AWC Logo Cap|     Northwest| United States|  1/1/2012|      6.9223|   5.1865|   8.6442|            5|  25.9325|\n",
      "|       Clothing|              Caps|AWC Logo Cap|     Northwest| United States| 2/29/2012|      6.9223|   5.1865|   8.6442|            2|   10.373|\n",
      "|       Clothing|              Caps|AWC Logo Cap|     Northwest| United States| 3/30/2012|      6.9223|   5.1865|   8.6442|            4|   20.746|\n",
      "|       Clothing|              Caps|AWC Logo Cap|     Northwest| United States| 4/30/2012|      6.9223|   5.1865|   8.6442|            2|   10.373|\n",
      "|       Clothing|              Caps|AWC Logo Cap|     Northwest| United States| 4/30/2012|      6.9223|   5.1865|   8.6442|            1|   5.1865|\n",
      "+---------------+------------------+------------+--------------+--------------+----------+------------+---------+---------+-------------+---------+\n",
      "only showing top 20 rows\n",
      "\n"
     ]
    }
   ],
   "source": [
    "df.createOrReplaceTempView(\"sales\")\n",
    "output =  spark.sql(\"SELECT * from sales where productsubcategory='Caps'\")\n",
    "output.show()"
   ]
  },
  {
   "cell_type": "code",
   "execution_count": 16,
   "id": "e3f12915",
   "metadata": {
    "hidden": true
   },
   "outputs": [
    {
     "name": "stdout",
     "output_type": "stream",
     "text": [
      "+---------------+------------------+--------------------+--------------+--------------+----------+------------+---------+---------+-------------+-----------+\n",
      "|productcategory|productsubcategory|             product| saleterritory|       Country| OrderDate|StandardCost|UnitPrice|ListPrice|OrderQuantity|      Sales|\n",
      "+---------------+------------------+--------------------+--------------+--------------+----------+------------+---------+---------+-------------+-----------+\n",
      "|       Clothing|           Jerseys|Long-Sleeve Logo ...|United Kingdom|United Kingdom| 6/30/2012|     38.4923|   27.879|  48.0673|           14|  382.49988|\n",
      "|       Clothing|            Tights|   Women's Tights, L|United Kingdom|United Kingdom| 6/30/2012|     30.9334|  43.4942|    74.99|           13| 554.116108|\n",
      "|       Clothing|            Tights|   Women's Tights, S|United Kingdom|United Kingdom| 6/30/2012|     30.9334|  43.4942|    74.99|           13| 554.116108|\n",
      "|       Clothing|             Vests|     Classic Vest, M|       Germany|       Germany| 6/30/2013|      23.749|   34.925|     63.5|           18|   597.2175|\n",
      "|       Clothing|             Vests|     Classic Vest, S|       Germany|       Germany| 6/30/2013|      23.749|   34.925|     63.5|           15|  497.68125|\n",
      "|    Accessories|        Bike Racks| Hitch Rack - 4-Bike|       Germany|       Germany| 6/30/2013|       44.88|       66|      120|           16|     1003.2|\n",
      "|     Components|    Touring Frames|HL Touring Frame ...|       Germany|       Germany| 6/30/2013|    601.7437|  602.346|  1003.91|           10|    6023.46|\n",
      "|       Clothing|           Jerseys|Long-Sleeve Logo ...|       Germany|       Germany| 6/30/2013|     38.4923|  27.4945|    49.99|           15| 391.796625|\n",
      "|       Clothing|           Jerseys|Short-Sleeve Clas...|       Germany|       Germany| 6/30/2013|     41.5723|  31.3142|    53.99|           12| 368.254992|\n",
      "|       Clothing|           Jerseys|Short-Sleeve Clas...|       Germany|       Germany| 6/30/2013|     41.5723|   32.394|    53.99|           10|     323.94|\n",
      "|          Bikes|     Touring Bikes|Touring-1000 Blue...|       Germany|       Germany| 6/30/2013|   1481.9379|1382.7606|  2384.07|           13|17616.37004|\n",
      "|          Bikes|     Touring Bikes|Touring-3000 Yell...|       Germany|       Germany| 6/30/2013|    461.4448| 334.0575|   742.35|           11|3123.437625|\n",
      "|       Clothing|            Shorts|Women's Mountain ...|United Kingdom|United Kingdom| 7/31/2013|     26.1763|  38.4945|    69.99|           17| 621.686175|\n",
      "|    Accessories|   Hydration Packs|Hydration Pack - ...|United Kingdom|United Kingdom|10/30/2013|     20.5663|   32.994|    54.99|           10|     329.94|\n",
      "|     Components|   Mountain Frames|ML Mountain Frame...|United Kingdom|United Kingdom|10/30/2013|    199.3757| 211.1722|   364.09|           13|2690.333828|\n",
      "|       Clothing|           Jerseys|Short-Sleeve Clas...|United Kingdom|United Kingdom|10/30/2013|     41.5723|  31.3142|    53.99|           11| 337.567076|\n",
      "|       Clothing|           Jerseys|Short-Sleeve Clas...|United Kingdom|United Kingdom|10/30/2013|     41.5723|  31.3142|    53.99|           11| 337.567076|\n",
      "|          Bikes|    Mountain Bikes|Mountain-100 Blac...|     Northwest| United States| 8/31/2011|   1898.0944| 2024.994|  3374.99|           10|   20249.94|\n",
      "|     Components|       Road Frames|LL Road Frame - R...|     Northwest| United States| 5/30/2012|    187.1571| 195.5876|   337.22|           11|2108.434328|\n",
      "|          Bikes|    Mountain Bikes|Mountain-200 Blac...|     Northwest| United States| 5/30/2012|   1251.9813|1229.4589|2049.0982|           10|  12294.589|\n",
      "+---------------+------------------+--------------------+--------------+--------------+----------+------------+---------+---------+-------------+-----------+\n",
      "only showing top 20 rows\n",
      "\n"
     ]
    }
   ],
   "source": [
    "output = spark.sql('SELECT * from sales WHERE `UnitPrice` > 20 AND OrderQuantity >= 10')\n",
    "output.show()"
   ]
  },
  {
   "cell_type": "code",
   "execution_count": 17,
   "id": "54d2ef25",
   "metadata": {
    "hidden": true
   },
   "outputs": [
    {
     "name": "stdout",
     "output_type": "stream",
     "text": [
      "+-----+---------------+\n",
      "|total|productcategory|\n",
      "+-----+---------------+\n",
      "|24800|          Bikes|\n",
      "|12260|       Clothing|\n",
      "| 5098|    Accessories|\n",
      "|18683|     Components|\n",
      "|   39|           NULL|\n",
      "+-----+---------------+\n",
      "\n"
     ]
    }
   ],
   "source": [
    "output = spark.sql('SELECT COUNT(*) as total, productcategory from sales GROUP BY productcategory')\n",
    "output.show()"
   ]
  },
  {
   "cell_type": "markdown",
   "id": "7e3838f8",
   "metadata": {},
   "source": [
    "### Persist data to database"
   ]
  },
  {
   "cell_type": "code",
   "execution_count": 18,
   "id": "a52671c7",
   "metadata": {},
   "outputs": [],
   "source": [
    "dest_tbl = 'public.\"pyspark_sales_table\"'\n",
    "database = \"AdventureWorks\"\n",
    "password = \"demopass\"#os.environ['PGPASS']\n",
    "user = \"etl\"#os.environ['PGUID']"
   ]
  },
  {
   "cell_type": "code",
   "execution_count": 19,
   "id": "9788af33",
   "metadata": {},
   "outputs": [],
   "source": [
    "df.write.mode(\"overwrite\") \\\n",
    "    .format(\"jdbc\") \\\n",
    "    .option(\"url\", f\"jdbc:postgresql://localhost:5432/{database}\") \\\n",
    "    .option(\"dbtable\", dest_tbl) \\\n",
    "    .option(\"user\", user) \\\n",
    "    .option(\"password\", password) \\\n",
    "    .option(\"driver\",  \"org.postgresql.Driver\") \\\n",
    "    .save()"
   ]
  },
  {
   "cell_type": "code",
   "execution_count": null,
   "id": "1d575df0",
   "metadata": {},
   "outputs": [],
   "source": []
  }
 ],
 "metadata": {
  "kernelspec": {
   "display_name": "Python 3 (ipykernel)",
   "language": "python",
   "name": "python3"
  },
  "language_info": {
   "codemirror_mode": {
    "name": "ipython",
    "version": 3
   },
   "file_extension": ".py",
   "mimetype": "text/x-python",
   "name": "python",
   "nbconvert_exporter": "python",
   "pygments_lexer": "ipython3",
   "version": "3.9.7"
  }
 },
 "nbformat": 4,
 "nbformat_minor": 5
}
