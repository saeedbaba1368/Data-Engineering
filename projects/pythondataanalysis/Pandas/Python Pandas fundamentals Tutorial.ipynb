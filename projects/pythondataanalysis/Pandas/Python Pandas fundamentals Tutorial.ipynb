{
 "cells": [
  {
   "cell_type": "markdown",
   "id": "unknown-eclipse",
   "metadata": {},
   "source": [
    "### import pandas libary"
   ]
  },
  {
   "cell_type": "code",
   "execution_count": 2,
   "id": "continent-injection",
   "metadata": {},
   "outputs": [],
   "source": [
    "import pandas as pd"
   ]
  },
  {
   "cell_type": "code",
   "execution_count": 3,
   "id": "disturbed-bulgarian",
   "metadata": {},
   "outputs": [],
   "source": [
    "pd.options.display.float_format = '{:,.0f}'.format"
   ]
  },
  {
   "cell_type": "markdown",
   "id": "textile-element",
   "metadata": {},
   "source": [
    "### Import data from a file"
   ]
  },
  {
   "cell_type": "code",
   "execution_count": 62,
   "id": "behind-watershed",
   "metadata": {},
   "outputs": [],
   "source": [
    "df = pd.read_excel(\"AdvWorksData.xlsx\")"
   ]
  },
  {
   "cell_type": "code",
   "execution_count": 6,
   "id": "developmental-blake",
   "metadata": {},
   "outputs": [
    {
     "data": {
      "text/plain": [
       "pandas.core.frame.DataFrame"
      ]
     },
     "execution_count": 6,
     "metadata": {},
     "output_type": "execute_result"
    }
   ],
   "source": [
    "type(df)"
   ]
  },
  {
   "cell_type": "code",
   "execution_count": 5,
   "id": "academic-transition",
   "metadata": {},
   "outputs": [
    {
     "data": {
      "text/plain": [
       "False"
      ]
     },
     "execution_count": 5,
     "metadata": {},
     "output_type": "execute_result"
    }
   ],
   "source": [
    "df.empty"
   ]
  },
  {
   "cell_type": "code",
   "execution_count": 113,
   "id": "interstate-strength",
   "metadata": {},
   "outputs": [
    {
     "data": {
      "text/html": [
       "<div>\n",
       "<style scoped>\n",
       "    .dataframe tbody tr th:only-of-type {\n",
       "        vertical-align: middle;\n",
       "    }\n",
       "\n",
       "    .dataframe tbody tr th {\n",
       "        vertical-align: top;\n",
       "    }\n",
       "\n",
       "    .dataframe thead th {\n",
       "        text-align: right;\n",
       "    }\n",
       "</style>\n",
       "<table border=\"1\" class=\"dataframe\">\n",
       "  <thead>\n",
       "    <tr style=\"text-align: right;\">\n",
       "      <th></th>\n",
       "      <th>Category</th>\n",
       "      <th>Sub-Category</th>\n",
       "      <th>product</th>\n",
       "      <th>Territory</th>\n",
       "      <th>Date</th>\n",
       "      <th>Quantity</th>\n",
       "      <th>Sales</th>\n",
       "      <th>Region</th>\n",
       "      <th>Year</th>\n",
       "    </tr>\n",
       "  </thead>\n",
       "  <tbody>\n",
       "    <tr>\n",
       "      <th>0</th>\n",
       "      <td>Clothing</td>\n",
       "      <td>Caps</td>\n",
       "      <td>AWC Logo Cap</td>\n",
       "      <td>United Kingdom</td>\n",
       "      <td>2012-06-30</td>\n",
       "      <td>14</td>\n",
       "      <td>69</td>\n",
       "      <td>Europe</td>\n",
       "      <td>2012</td>\n",
       "    </tr>\n",
       "    <tr>\n",
       "      <th>1</th>\n",
       "      <td>Accessories</td>\n",
       "      <td>Locks</td>\n",
       "      <td>Cable Lock</td>\n",
       "      <td>United Kingdom</td>\n",
       "      <td>2012-06-30</td>\n",
       "      <td>6</td>\n",
       "      <td>90</td>\n",
       "      <td>Europe</td>\n",
       "      <td>2012</td>\n",
       "    </tr>\n",
       "    <tr>\n",
       "      <th>2</th>\n",
       "      <td>Clothing</td>\n",
       "      <td>Gloves</td>\n",
       "      <td>Full-Finger Gloves, L</td>\n",
       "      <td>United Kingdom</td>\n",
       "      <td>2012-06-30</td>\n",
       "      <td>8</td>\n",
       "      <td>182</td>\n",
       "      <td>Europe</td>\n",
       "      <td>2012</td>\n",
       "    </tr>\n",
       "    <tr>\n",
       "      <th>3</th>\n",
       "      <td>Clothing</td>\n",
       "      <td>Gloves</td>\n",
       "      <td>Full-Finger Gloves, L</td>\n",
       "      <td>United Kingdom</td>\n",
       "      <td>2012-06-30</td>\n",
       "      <td>16</td>\n",
       "      <td>318</td>\n",
       "      <td>Europe</td>\n",
       "      <td>2012</td>\n",
       "    </tr>\n",
       "    <tr>\n",
       "      <th>4</th>\n",
       "      <td>Clothing</td>\n",
       "      <td>Gloves</td>\n",
       "      <td>Full-Finger Gloves, M</td>\n",
       "      <td>United Kingdom</td>\n",
       "      <td>2012-06-30</td>\n",
       "      <td>7</td>\n",
       "      <td>160</td>\n",
       "      <td>Europe</td>\n",
       "      <td>2012</td>\n",
       "    </tr>\n",
       "    <tr>\n",
       "      <th>5</th>\n",
       "      <td>Clothing</td>\n",
       "      <td>Gloves</td>\n",
       "      <td>Full-Finger Gloves, M</td>\n",
       "      <td>United Kingdom</td>\n",
       "      <td>2012-06-30</td>\n",
       "      <td>2</td>\n",
       "      <td>46</td>\n",
       "      <td>Europe</td>\n",
       "      <td>2012</td>\n",
       "    </tr>\n",
       "    <tr>\n",
       "      <th>6</th>\n",
       "      <td>Clothing</td>\n",
       "      <td>Gloves</td>\n",
       "      <td>Full-Finger Gloves, S</td>\n",
       "      <td>United Kingdom</td>\n",
       "      <td>2012-06-30</td>\n",
       "      <td>1</td>\n",
       "      <td>23</td>\n",
       "      <td>Europe</td>\n",
       "      <td>2012</td>\n",
       "    </tr>\n",
       "    <tr>\n",
       "      <th>7</th>\n",
       "      <td>Clothing</td>\n",
       "      <td>Gloves</td>\n",
       "      <td>Full-Finger Gloves, S</td>\n",
       "      <td>United Kingdom</td>\n",
       "      <td>2012-06-30</td>\n",
       "      <td>1</td>\n",
       "      <td>23</td>\n",
       "      <td>Europe</td>\n",
       "      <td>2012</td>\n",
       "    </tr>\n",
       "    <tr>\n",
       "      <th>8</th>\n",
       "      <td>Clothing</td>\n",
       "      <td>Gloves</td>\n",
       "      <td>Half-Finger Gloves, L</td>\n",
       "      <td>United Kingdom</td>\n",
       "      <td>2012-06-30</td>\n",
       "      <td>3</td>\n",
       "      <td>42</td>\n",
       "      <td>Europe</td>\n",
       "      <td>2012</td>\n",
       "    </tr>\n",
       "    <tr>\n",
       "      <th>9</th>\n",
       "      <td>Clothing</td>\n",
       "      <td>Gloves</td>\n",
       "      <td>Half-Finger Gloves, M</td>\n",
       "      <td>United Kingdom</td>\n",
       "      <td>2012-06-30</td>\n",
       "      <td>8</td>\n",
       "      <td>113</td>\n",
       "      <td>Europe</td>\n",
       "      <td>2012</td>\n",
       "    </tr>\n",
       "  </tbody>\n",
       "</table>\n",
       "</div>"
      ],
      "text/plain": [
       "      Category Sub-Category                product       Territory       Date  \\\n",
       "0     Clothing         Caps           AWC Logo Cap  United Kingdom 2012-06-30   \n",
       "1  Accessories        Locks             Cable Lock  United Kingdom 2012-06-30   \n",
       "2     Clothing       Gloves  Full-Finger Gloves, L  United Kingdom 2012-06-30   \n",
       "3     Clothing       Gloves  Full-Finger Gloves, L  United Kingdom 2012-06-30   \n",
       "4     Clothing       Gloves  Full-Finger Gloves, M  United Kingdom 2012-06-30   \n",
       "5     Clothing       Gloves  Full-Finger Gloves, M  United Kingdom 2012-06-30   \n",
       "6     Clothing       Gloves  Full-Finger Gloves, S  United Kingdom 2012-06-30   \n",
       "7     Clothing       Gloves  Full-Finger Gloves, S  United Kingdom 2012-06-30   \n",
       "8     Clothing       Gloves  Half-Finger Gloves, L  United Kingdom 2012-06-30   \n",
       "9     Clothing       Gloves  Half-Finger Gloves, M  United Kingdom 2012-06-30   \n",
       "\n",
       "   Quantity  Sales  Region  Year  \n",
       "0        14     69  Europe  2012  \n",
       "1         6     90  Europe  2012  \n",
       "2         8    182  Europe  2012  \n",
       "3        16    318  Europe  2012  \n",
       "4         7    160  Europe  2012  \n",
       "5         2     46  Europe  2012  \n",
       "6         1     23  Europe  2012  \n",
       "7         1     23  Europe  2012  \n",
       "8         3     42  Europe  2012  \n",
       "9         8    113  Europe  2012  "
      ]
     },
     "execution_count": 113,
     "metadata": {},
     "output_type": "execute_result"
    }
   ],
   "source": [
    "#df.head()\n",
    "df.head(10)"
   ]
  },
  {
   "cell_type": "code",
   "execution_count": 9,
   "id": "responsible-warner",
   "metadata": {},
   "outputs": [
    {
     "data": {
      "text/html": [
       "<div>\n",
       "<style scoped>\n",
       "    .dataframe tbody tr th:only-of-type {\n",
       "        vertical-align: middle;\n",
       "    }\n",
       "\n",
       "    .dataframe tbody tr th {\n",
       "        vertical-align: top;\n",
       "    }\n",
       "\n",
       "    .dataframe thead th {\n",
       "        text-align: right;\n",
       "    }\n",
       "</style>\n",
       "<table border=\"1\" class=\"dataframe\">\n",
       "  <thead>\n",
       "    <tr style=\"text-align: right;\">\n",
       "      <th></th>\n",
       "      <th>productcategory</th>\n",
       "      <th>productsubcategory</th>\n",
       "      <th>product</th>\n",
       "      <th>saleterritory</th>\n",
       "      <th>Country</th>\n",
       "      <th>City</th>\n",
       "      <th>Sate</th>\n",
       "      <th>Customer</th>\n",
       "      <th>Employee</th>\n",
       "      <th>OrderCount</th>\n",
       "      <th>OrderDate</th>\n",
       "      <th>StandardCost</th>\n",
       "      <th>UnitPrice</th>\n",
       "      <th>UnitPriceDiscount</th>\n",
       "      <th>Discount</th>\n",
       "      <th>ListPrice</th>\n",
       "      <th>SaleswithStandard</th>\n",
       "      <th>NetSales</th>\n",
       "      <th>OrderQuantity</th>\n",
       "      <th>Sales</th>\n",
       "    </tr>\n",
       "  </thead>\n",
       "  <tbody>\n",
       "    <tr>\n",
       "      <th>60875</th>\n",
       "      <td>Clothing</td>\n",
       "      <td>Shorts</td>\n",
       "      <td>Women's Mountain Shorts, L</td>\n",
       "      <td>Southeast</td>\n",
       "      <td>United States</td>\n",
       "      <td>Decatur</td>\n",
       "      <td>Georgia</td>\n",
       "      <td>Pamela Cox</td>\n",
       "      <td>Tsvi Reiter</td>\n",
       "      <td>1</td>\n",
       "      <td>2014-05-01</td>\n",
       "      <td>26</td>\n",
       "      <td>42</td>\n",
       "      <td>0</td>\n",
       "      <td>0</td>\n",
       "      <td>70</td>\n",
       "      <td>209</td>\n",
       "      <td>127</td>\n",
       "      <td>8</td>\n",
       "      <td>336</td>\n",
       "    </tr>\n",
       "    <tr>\n",
       "      <th>60876</th>\n",
       "      <td>Clothing</td>\n",
       "      <td>Shorts</td>\n",
       "      <td>Women's Mountain Shorts, L</td>\n",
       "      <td>Southeast</td>\n",
       "      <td>United States</td>\n",
       "      <td>Miami</td>\n",
       "      <td>Florida</td>\n",
       "      <td>Stephanie Conroy</td>\n",
       "      <td>Tsvi Reiter</td>\n",
       "      <td>1</td>\n",
       "      <td>2014-05-01</td>\n",
       "      <td>26</td>\n",
       "      <td>42</td>\n",
       "      <td>0</td>\n",
       "      <td>0</td>\n",
       "      <td>70</td>\n",
       "      <td>157</td>\n",
       "      <td>95</td>\n",
       "      <td>6</td>\n",
       "      <td>252</td>\n",
       "    </tr>\n",
       "    <tr>\n",
       "      <th>60877</th>\n",
       "      <td>Clothing</td>\n",
       "      <td>Shorts</td>\n",
       "      <td>Women's Mountain Shorts, M</td>\n",
       "      <td>Southeast</td>\n",
       "      <td>United States</td>\n",
       "      <td>Decatur</td>\n",
       "      <td>Georgia</td>\n",
       "      <td>Pamela Cox</td>\n",
       "      <td>Tsvi Reiter</td>\n",
       "      <td>1</td>\n",
       "      <td>2014-05-01</td>\n",
       "      <td>26</td>\n",
       "      <td>42</td>\n",
       "      <td>0</td>\n",
       "      <td>0</td>\n",
       "      <td>70</td>\n",
       "      <td>79</td>\n",
       "      <td>47</td>\n",
       "      <td>3</td>\n",
       "      <td>126</td>\n",
       "    </tr>\n",
       "    <tr>\n",
       "      <th>60878</th>\n",
       "      <td>Clothing</td>\n",
       "      <td>Shorts</td>\n",
       "      <td>Women's Mountain Shorts, S</td>\n",
       "      <td>Southeast</td>\n",
       "      <td>United States</td>\n",
       "      <td>Decatur</td>\n",
       "      <td>Georgia</td>\n",
       "      <td>Pamela Cox</td>\n",
       "      <td>Tsvi Reiter</td>\n",
       "      <td>1</td>\n",
       "      <td>2014-05-01</td>\n",
       "      <td>26</td>\n",
       "      <td>42</td>\n",
       "      <td>0</td>\n",
       "      <td>0</td>\n",
       "      <td>70</td>\n",
       "      <td>131</td>\n",
       "      <td>79</td>\n",
       "      <td>5</td>\n",
       "      <td>210</td>\n",
       "    </tr>\n",
       "    <tr>\n",
       "      <th>60879</th>\n",
       "      <td>Clothing</td>\n",
       "      <td>Shorts</td>\n",
       "      <td>Women's Mountain Shorts, S</td>\n",
       "      <td>Southeast</td>\n",
       "      <td>United States</td>\n",
       "      <td>Miami</td>\n",
       "      <td>Florida</td>\n",
       "      <td>Stephanie Conroy</td>\n",
       "      <td>Tsvi Reiter</td>\n",
       "      <td>1</td>\n",
       "      <td>2014-05-01</td>\n",
       "      <td>26</td>\n",
       "      <td>42</td>\n",
       "      <td>0</td>\n",
       "      <td>0</td>\n",
       "      <td>70</td>\n",
       "      <td>79</td>\n",
       "      <td>47</td>\n",
       "      <td>3</td>\n",
       "      <td>126</td>\n",
       "    </tr>\n",
       "  </tbody>\n",
       "</table>\n",
       "</div>"
      ],
      "text/plain": [
       "      productcategory productsubcategory                     product  \\\n",
       "60875        Clothing             Shorts  Women's Mountain Shorts, L   \n",
       "60876        Clothing             Shorts  Women's Mountain Shorts, L   \n",
       "60877        Clothing             Shorts  Women's Mountain Shorts, M   \n",
       "60878        Clothing             Shorts  Women's Mountain Shorts, S   \n",
       "60879        Clothing             Shorts  Women's Mountain Shorts, S   \n",
       "\n",
       "      saleterritory        Country     City     Sate          Customer  \\\n",
       "60875     Southeast  United States  Decatur  Georgia        Pamela Cox   \n",
       "60876     Southeast  United States    Miami  Florida  Stephanie Conroy   \n",
       "60877     Southeast  United States  Decatur  Georgia        Pamela Cox   \n",
       "60878     Southeast  United States  Decatur  Georgia        Pamela Cox   \n",
       "60879     Southeast  United States    Miami  Florida  Stephanie Conroy   \n",
       "\n",
       "          Employee  OrderCount  OrderDate  StandardCost  UnitPrice  \\\n",
       "60875  Tsvi Reiter           1 2014-05-01            26         42   \n",
       "60876  Tsvi Reiter           1 2014-05-01            26         42   \n",
       "60877  Tsvi Reiter           1 2014-05-01            26         42   \n",
       "60878  Tsvi Reiter           1 2014-05-01            26         42   \n",
       "60879  Tsvi Reiter           1 2014-05-01            26         42   \n",
       "\n",
       "       UnitPriceDiscount  Discount  ListPrice  SaleswithStandard  NetSales  \\\n",
       "60875                  0         0         70                209       127   \n",
       "60876                  0         0         70                157        95   \n",
       "60877                  0         0         70                 79        47   \n",
       "60878                  0         0         70                131        79   \n",
       "60879                  0         0         70                 79        47   \n",
       "\n",
       "       OrderQuantity  Sales  \n",
       "60875              8    336  \n",
       "60876              6    252  \n",
       "60877              3    126  \n",
       "60878              5    210  \n",
       "60879              3    126  "
      ]
     },
     "execution_count": 9,
     "metadata": {},
     "output_type": "execute_result"
    }
   ],
   "source": [
    "df.tail()"
   ]
  },
  {
   "cell_type": "code",
   "execution_count": 10,
   "id": "chinese-crowd",
   "metadata": {},
   "outputs": [
    {
     "data": {
      "text/plain": [
       "(60880, 20)"
      ]
     },
     "execution_count": 10,
     "metadata": {},
     "output_type": "execute_result"
    }
   ],
   "source": [
    "df.shape"
   ]
  },
  {
   "cell_type": "code",
   "execution_count": 13,
   "id": "upper-stewart",
   "metadata": {},
   "outputs": [
    {
     "data": {
      "text/plain": [
       "Index(['Category', 'Sub-Category', 'product', 'Territory', 'Country', 'City',\n",
       "       'State', 'Customer', 'Employee', 'OrderCount', 'Date', 'StandardCost',\n",
       "       'UnitPrice', 'UnitPriceDiscount', 'Discount', 'ListPrice',\n",
       "       'SaleswithStandard', 'NetSales', 'Quantity', 'Sales'],\n",
       "      dtype='object')"
      ]
     },
     "execution_count": 13,
     "metadata": {},
     "output_type": "execute_result"
    }
   ],
   "source": [
    "df.columns"
   ]
  },
  {
   "cell_type": "code",
   "execution_count": 64,
   "id": "animated-ceremony",
   "metadata": {},
   "outputs": [
    {
     "data": {
      "text/html": [
       "<div>\n",
       "<style scoped>\n",
       "    .dataframe tbody tr th:only-of-type {\n",
       "        vertical-align: middle;\n",
       "    }\n",
       "\n",
       "    .dataframe tbody tr th {\n",
       "        vertical-align: top;\n",
       "    }\n",
       "\n",
       "    .dataframe thead th {\n",
       "        text-align: right;\n",
       "    }\n",
       "</style>\n",
       "<table border=\"1\" class=\"dataframe\">\n",
       "  <thead>\n",
       "    <tr style=\"text-align: right;\">\n",
       "      <th></th>\n",
       "      <th>Category</th>\n",
       "      <th>Sub-Category</th>\n",
       "      <th>product</th>\n",
       "      <th>Territory</th>\n",
       "      <th>Country</th>\n",
       "      <th>City</th>\n",
       "      <th>State</th>\n",
       "      <th>Customer</th>\n",
       "      <th>Employee</th>\n",
       "      <th>OrderCount</th>\n",
       "      <th>Date</th>\n",
       "      <th>StandardCost</th>\n",
       "      <th>UnitPrice</th>\n",
       "      <th>UnitPriceDiscount</th>\n",
       "      <th>Discount</th>\n",
       "      <th>ListPrice</th>\n",
       "      <th>SaleswithStandard</th>\n",
       "      <th>NetSales</th>\n",
       "      <th>Quantity</th>\n",
       "      <th>Sales</th>\n",
       "    </tr>\n",
       "  </thead>\n",
       "  <tbody>\n",
       "    <tr>\n",
       "      <th>0</th>\n",
       "      <td>Clothing</td>\n",
       "      <td>Caps</td>\n",
       "      <td>AWC Logo Cap</td>\n",
       "      <td>United Kingdom</td>\n",
       "      <td>United Kingdom</td>\n",
       "      <td>Berks</td>\n",
       "      <td>England</td>\n",
       "      <td>Gary Suess</td>\n",
       "      <td>Amy Alberts</td>\n",
       "      <td>1</td>\n",
       "      <td>2012-06-30</td>\n",
       "      <td>7</td>\n",
       "      <td>5</td>\n",
       "      <td>0</td>\n",
       "      <td>1</td>\n",
       "      <td>9</td>\n",
       "      <td>97</td>\n",
       "      <td>-28</td>\n",
       "      <td>14</td>\n",
       "      <td>69</td>\n",
       "    </tr>\n",
       "    <tr>\n",
       "      <th>1</th>\n",
       "      <td>Accessories</td>\n",
       "      <td>Locks</td>\n",
       "      <td>Cable Lock</td>\n",
       "      <td>United Kingdom</td>\n",
       "      <td>United Kingdom</td>\n",
       "      <td>Berks</td>\n",
       "      <td>England</td>\n",
       "      <td>Gary Suess</td>\n",
       "      <td>Amy Alberts</td>\n",
       "      <td>1</td>\n",
       "      <td>2012-06-30</td>\n",
       "      <td>10</td>\n",
       "      <td>15</td>\n",
       "      <td>0</td>\n",
       "      <td>0</td>\n",
       "      <td>25</td>\n",
       "      <td>62</td>\n",
       "      <td>28</td>\n",
       "      <td>6</td>\n",
       "      <td>90</td>\n",
       "    </tr>\n",
       "    <tr>\n",
       "      <th>2</th>\n",
       "      <td>Clothing</td>\n",
       "      <td>Gloves</td>\n",
       "      <td>Full-Finger Gloves, L</td>\n",
       "      <td>United Kingdom</td>\n",
       "      <td>United Kingdom</td>\n",
       "      <td>Berks</td>\n",
       "      <td>England</td>\n",
       "      <td>Gary Suess</td>\n",
       "      <td>Amy Alberts</td>\n",
       "      <td>1</td>\n",
       "      <td>2012-06-30</td>\n",
       "      <td>16</td>\n",
       "      <td>23</td>\n",
       "      <td>0</td>\n",
       "      <td>0</td>\n",
       "      <td>38</td>\n",
       "      <td>125</td>\n",
       "      <td>57</td>\n",
       "      <td>8</td>\n",
       "      <td>182</td>\n",
       "    </tr>\n",
       "    <tr>\n",
       "      <th>3</th>\n",
       "      <td>Clothing</td>\n",
       "      <td>Gloves</td>\n",
       "      <td>Full-Finger Gloves, L</td>\n",
       "      <td>United Kingdom</td>\n",
       "      <td>United Kingdom</td>\n",
       "      <td>London</td>\n",
       "      <td>England</td>\n",
       "      <td>Linda Martin</td>\n",
       "      <td>Amy Alberts</td>\n",
       "      <td>1</td>\n",
       "      <td>2012-06-30</td>\n",
       "      <td>16</td>\n",
       "      <td>21</td>\n",
       "      <td>0</td>\n",
       "      <td>17</td>\n",
       "      <td>38</td>\n",
       "      <td>251</td>\n",
       "      <td>67</td>\n",
       "      <td>16</td>\n",
       "      <td>318</td>\n",
       "    </tr>\n",
       "    <tr>\n",
       "      <th>4</th>\n",
       "      <td>Clothing</td>\n",
       "      <td>Gloves</td>\n",
       "      <td>Full-Finger Gloves, M</td>\n",
       "      <td>United Kingdom</td>\n",
       "      <td>United Kingdom</td>\n",
       "      <td>Berks</td>\n",
       "      <td>England</td>\n",
       "      <td>Gary Suess</td>\n",
       "      <td>Amy Alberts</td>\n",
       "      <td>1</td>\n",
       "      <td>2012-06-30</td>\n",
       "      <td>16</td>\n",
       "      <td>23</td>\n",
       "      <td>0</td>\n",
       "      <td>0</td>\n",
       "      <td>38</td>\n",
       "      <td>110</td>\n",
       "      <td>50</td>\n",
       "      <td>7</td>\n",
       "      <td>160</td>\n",
       "    </tr>\n",
       "  </tbody>\n",
       "</table>\n",
       "</div>"
      ],
      "text/plain": [
       "      Category Sub-Category                product       Territory  \\\n",
       "0     Clothing         Caps           AWC Logo Cap  United Kingdom   \n",
       "1  Accessories        Locks             Cable Lock  United Kingdom   \n",
       "2     Clothing       Gloves  Full-Finger Gloves, L  United Kingdom   \n",
       "3     Clothing       Gloves  Full-Finger Gloves, L  United Kingdom   \n",
       "4     Clothing       Gloves  Full-Finger Gloves, M  United Kingdom   \n",
       "\n",
       "          Country    City    State      Customer     Employee  OrderCount  \\\n",
       "0  United Kingdom   Berks  England    Gary Suess  Amy Alberts           1   \n",
       "1  United Kingdom   Berks  England    Gary Suess  Amy Alberts           1   \n",
       "2  United Kingdom   Berks  England    Gary Suess  Amy Alberts           1   \n",
       "3  United Kingdom  London  England  Linda Martin  Amy Alberts           1   \n",
       "4  United Kingdom   Berks  England    Gary Suess  Amy Alberts           1   \n",
       "\n",
       "        Date  StandardCost  UnitPrice  UnitPriceDiscount  Discount  ListPrice  \\\n",
       "0 2012-06-30             7          5                  0         1          9   \n",
       "1 2012-06-30            10         15                  0         0         25   \n",
       "2 2012-06-30            16         23                  0         0         38   \n",
       "3 2012-06-30            16         21                  0        17         38   \n",
       "4 2012-06-30            16         23                  0         0         38   \n",
       "\n",
       "   SaleswithStandard  NetSales  Quantity  Sales  \n",
       "0                 97       -28        14     69  \n",
       "1                 62        28         6     90  \n",
       "2                125        57         8    182  \n",
       "3                251        67        16    318  \n",
       "4                110        50         7    160  "
      ]
     },
     "execution_count": 64,
     "metadata": {},
     "output_type": "execute_result"
    }
   ],
   "source": [
    "#Rename columns with rename function\n",
    "df = df.rename(columns={\"productcategory\": \"Category\", \"saleterritory\": \"Territory\", \"productsubcategory\": \"Sub-Category\", \\\n",
    "                        \"OrderQuantity\": \"Quantity\", \"OrderDate\": \"Date\", \"Sate\": \"State\"})\n",
    "df.head(5)"
   ]
  },
  {
   "cell_type": "markdown",
   "id": "ceramic-egypt",
   "metadata": {},
   "source": [
    "### How to get columns and rows?"
   ]
  },
  {
   "cell_type": "code",
   "execution_count": 16,
   "id": "sustainable-smart",
   "metadata": {},
   "outputs": [
    {
     "data": {
      "text/html": [
       "<div>\n",
       "<style scoped>\n",
       "    .dataframe tbody tr th:only-of-type {\n",
       "        vertical-align: middle;\n",
       "    }\n",
       "\n",
       "    .dataframe tbody tr th {\n",
       "        vertical-align: top;\n",
       "    }\n",
       "\n",
       "    .dataframe thead th {\n",
       "        text-align: right;\n",
       "    }\n",
       "</style>\n",
       "<table border=\"1\" class=\"dataframe\">\n",
       "  <thead>\n",
       "    <tr style=\"text-align: right;\">\n",
       "      <th></th>\n",
       "      <th>Category</th>\n",
       "      <th>product</th>\n",
       "    </tr>\n",
       "  </thead>\n",
       "  <tbody>\n",
       "    <tr>\n",
       "      <th>0</th>\n",
       "      <td>Clothing</td>\n",
       "      <td>AWC Logo Cap</td>\n",
       "    </tr>\n",
       "    <tr>\n",
       "      <th>1</th>\n",
       "      <td>Accessories</td>\n",
       "      <td>Cable Lock</td>\n",
       "    </tr>\n",
       "    <tr>\n",
       "      <th>2</th>\n",
       "      <td>Clothing</td>\n",
       "      <td>Full-Finger Gloves, L</td>\n",
       "    </tr>\n",
       "    <tr>\n",
       "      <th>3</th>\n",
       "      <td>Clothing</td>\n",
       "      <td>Full-Finger Gloves, L</td>\n",
       "    </tr>\n",
       "    <tr>\n",
       "      <th>4</th>\n",
       "      <td>Clothing</td>\n",
       "      <td>Full-Finger Gloves, M</td>\n",
       "    </tr>\n",
       "  </tbody>\n",
       "</table>\n",
       "</div>"
      ],
      "text/plain": [
       "      Category                product\n",
       "0     Clothing           AWC Logo Cap\n",
       "1  Accessories             Cable Lock\n",
       "2     Clothing  Full-Finger Gloves, L\n",
       "3     Clothing  Full-Finger Gloves, L\n",
       "4     Clothing  Full-Finger Gloves, M"
      ]
     },
     "execution_count": 16,
     "metadata": {},
     "output_type": "execute_result"
    }
   ],
   "source": [
    "#df['product'][0:5]\n",
    "df[['Category','product']][0:5]"
   ]
  },
  {
   "cell_type": "code",
   "execution_count": 65,
   "id": "oriental-essex",
   "metadata": {},
   "outputs": [],
   "source": [
    "#how to limit columns from dataframe\n",
    "df = df[['Category','Sub-Category','product','Territory','Date','ListPrice','Quantity','Sales']]"
   ]
  },
  {
   "cell_type": "code",
   "execution_count": 66,
   "id": "transsexual-saying",
   "metadata": {},
   "outputs": [
    {
     "data": {
      "text/html": [
       "<div>\n",
       "<style scoped>\n",
       "    .dataframe tbody tr th:only-of-type {\n",
       "        vertical-align: middle;\n",
       "    }\n",
       "\n",
       "    .dataframe tbody tr th {\n",
       "        vertical-align: top;\n",
       "    }\n",
       "\n",
       "    .dataframe thead th {\n",
       "        text-align: right;\n",
       "    }\n",
       "</style>\n",
       "<table border=\"1\" class=\"dataframe\">\n",
       "  <thead>\n",
       "    <tr style=\"text-align: right;\">\n",
       "      <th></th>\n",
       "      <th>Category</th>\n",
       "      <th>Sub-Category</th>\n",
       "      <th>product</th>\n",
       "      <th>Territory</th>\n",
       "      <th>Date</th>\n",
       "      <th>ListPrice</th>\n",
       "      <th>Quantity</th>\n",
       "      <th>Sales</th>\n",
       "    </tr>\n",
       "  </thead>\n",
       "  <tbody>\n",
       "    <tr>\n",
       "      <th>0</th>\n",
       "      <td>Clothing</td>\n",
       "      <td>Caps</td>\n",
       "      <td>AWC Logo Cap</td>\n",
       "      <td>United Kingdom</td>\n",
       "      <td>2012-06-30</td>\n",
       "      <td>9</td>\n",
       "      <td>14</td>\n",
       "      <td>69</td>\n",
       "    </tr>\n",
       "    <tr>\n",
       "      <th>1</th>\n",
       "      <td>Accessories</td>\n",
       "      <td>Locks</td>\n",
       "      <td>Cable Lock</td>\n",
       "      <td>United Kingdom</td>\n",
       "      <td>2012-06-30</td>\n",
       "      <td>25</td>\n",
       "      <td>6</td>\n",
       "      <td>90</td>\n",
       "    </tr>\n",
       "    <tr>\n",
       "      <th>2</th>\n",
       "      <td>Clothing</td>\n",
       "      <td>Gloves</td>\n",
       "      <td>Full-Finger Gloves, L</td>\n",
       "      <td>United Kingdom</td>\n",
       "      <td>2012-06-30</td>\n",
       "      <td>38</td>\n",
       "      <td>8</td>\n",
       "      <td>182</td>\n",
       "    </tr>\n",
       "    <tr>\n",
       "      <th>3</th>\n",
       "      <td>Clothing</td>\n",
       "      <td>Gloves</td>\n",
       "      <td>Full-Finger Gloves, L</td>\n",
       "      <td>United Kingdom</td>\n",
       "      <td>2012-06-30</td>\n",
       "      <td>38</td>\n",
       "      <td>16</td>\n",
       "      <td>318</td>\n",
       "    </tr>\n",
       "    <tr>\n",
       "      <th>4</th>\n",
       "      <td>Clothing</td>\n",
       "      <td>Gloves</td>\n",
       "      <td>Full-Finger Gloves, M</td>\n",
       "      <td>United Kingdom</td>\n",
       "      <td>2012-06-30</td>\n",
       "      <td>38</td>\n",
       "      <td>7</td>\n",
       "      <td>160</td>\n",
       "    </tr>\n",
       "  </tbody>\n",
       "</table>\n",
       "</div>"
      ],
      "text/plain": [
       "      Category Sub-Category                product       Territory       Date  \\\n",
       "0     Clothing         Caps           AWC Logo Cap  United Kingdom 2012-06-30   \n",
       "1  Accessories        Locks             Cable Lock  United Kingdom 2012-06-30   \n",
       "2     Clothing       Gloves  Full-Finger Gloves, L  United Kingdom 2012-06-30   \n",
       "3     Clothing       Gloves  Full-Finger Gloves, L  United Kingdom 2012-06-30   \n",
       "4     Clothing       Gloves  Full-Finger Gloves, M  United Kingdom 2012-06-30   \n",
       "\n",
       "   ListPrice  Quantity  Sales  \n",
       "0          9        14     69  \n",
       "1         25         6     90  \n",
       "2         38         8    182  \n",
       "3         38        16    318  \n",
       "4         38         7    160  "
      ]
     },
     "execution_count": 66,
     "metadata": {},
     "output_type": "execute_result"
    }
   ],
   "source": [
    "df.head()"
   ]
  },
  {
   "cell_type": "code",
   "execution_count": 19,
   "id": "enhanced-smooth",
   "metadata": {},
   "outputs": [
    {
     "data": {
      "text/plain": [
       "Category                object\n",
       "Sub-Category            object\n",
       "product                 object\n",
       "Date            datetime64[ns]\n",
       "ListPrice              float64\n",
       "Quantity                 int64\n",
       "Sales                  float64\n",
       "dtype: object"
      ]
     },
     "execution_count": 19,
     "metadata": {},
     "output_type": "execute_result"
    }
   ],
   "source": [
    "df.dtypes"
   ]
  },
  {
   "cell_type": "code",
   "execution_count": 20,
   "id": "intensive-springer",
   "metadata": {},
   "outputs": [],
   "source": [
    "df['Date'] = pd.to_datetime(df['Date'])"
   ]
  },
  {
   "cell_type": "code",
   "execution_count": 31,
   "id": "composite-entity",
   "metadata": {},
   "outputs": [],
   "source": [
    "df['ListPrice'] = df['ListPrice'].astype(int)"
   ]
  },
  {
   "cell_type": "code",
   "execution_count": 22,
   "id": "exceptional-undergraduate",
   "metadata": {},
   "outputs": [
    {
     "data": {
      "text/plain": [
       "Category         True\n",
       "Sub-Category     True\n",
       "product          True\n",
       "Date            False\n",
       "ListPrice        True\n",
       "Quantity        False\n",
       "Sales           False\n",
       "dtype: bool"
      ]
     },
     "execution_count": 22,
     "metadata": {},
     "output_type": "execute_result"
    }
   ],
   "source": [
    "#Check for nulls\n",
    "df.isnull().any()"
   ]
  },
  {
   "cell_type": "code",
   "execution_count": 30,
   "id": "minus-bullet",
   "metadata": {},
   "outputs": [
    {
     "data": {
      "text/plain": [
       "Category         0\n",
       "Sub-Category     0\n",
       "product         39\n",
       "Date             0\n",
       "ListPrice        0\n",
       "Quantity         0\n",
       "Sales            0\n",
       "dtype: int64"
      ]
     },
     "execution_count": 30,
     "metadata": {},
     "output_type": "execute_result"
    }
   ],
   "source": [
    "#Get totals of missing values\n",
    "df.isnull().sum()"
   ]
  },
  {
   "cell_type": "code",
   "execution_count": 24,
   "id": "pediatric-continuity",
   "metadata": {},
   "outputs": [],
   "source": [
    "# filling a null values using fillna() \n",
    "df[\"Category\"].fillna(\"Unknown\", inplace = True) "
   ]
  },
  {
   "cell_type": "code",
   "execution_count": 27,
   "id": "removable-frontier",
   "metadata": {},
   "outputs": [],
   "source": [
    "# This will display the empty replaced with \"Unknown\" but it won't imact the dataframe.\n",
    "df[\"Sub-Category\"].fillna(\"Unknown\", inplace = True) "
   ]
  },
  {
   "cell_type": "code",
   "execution_count": 29,
   "id": "accepting-irrigation",
   "metadata": {},
   "outputs": [],
   "source": [
    "df[\"ListPrice\"].fillna(0, inplace=True)"
   ]
  },
  {
   "cell_type": "code",
   "execution_count": null,
   "id": "substantial-juice",
   "metadata": {},
   "outputs": [],
   "source": [
    "#Get total number of missing values for each column\n",
    "df.isnull().sum()"
   ]
  },
  {
   "cell_type": "code",
   "execution_count": null,
   "id": "emerging-translation",
   "metadata": {},
   "outputs": [],
   "source": [
    "#Fill missing values for numeric column with zero\n",
    "df['ListPrice'] = df['ListPrice'].astype(int)"
   ]
  },
  {
   "cell_type": "code",
   "execution_count": 34,
   "id": "controlled-netscape",
   "metadata": {},
   "outputs": [
    {
     "data": {
      "text/plain": [
       "array(['Clothing', 'Accessories', 'Components', 'Bikes', 'Unknown'],\n",
       "      dtype=object)"
      ]
     },
     "execution_count": 34,
     "metadata": {},
     "output_type": "execute_result"
    }
   ],
   "source": [
    "#List distince values for a column\n",
    "df['Category'].unique() "
   ]
  },
  {
   "cell_type": "code",
   "execution_count": 35,
   "id": "important-seventh",
   "metadata": {},
   "outputs": [
    {
     "data": {
      "text/plain": [
       "80487704.17918801"
      ]
     },
     "execution_count": 35,
     "metadata": {},
     "output_type": "execute_result"
    }
   ],
   "source": [
    "#get total for a numeric column\n",
    "df.Sales.sum()"
   ]
  },
  {
   "cell_type": "code",
   "execution_count": 36,
   "id": "literary-calculation",
   "metadata": {},
   "outputs": [
    {
     "data": {
      "text/plain": [
       "60880"
      ]
     },
     "execution_count": 36,
     "metadata": {},
     "output_type": "execute_result"
    }
   ],
   "source": [
    "#get total count\n",
    "df.Quantity.count()"
   ]
  },
  {
   "cell_type": "markdown",
   "id": "reliable-concern",
   "metadata": {},
   "source": [
    "### How to slice a dataframe wiht loc and iloc?"
   ]
  },
  {
   "cell_type": "code",
   "execution_count": 37,
   "id": "quantitative-distribution",
   "metadata": {},
   "outputs": [
    {
     "data": {
      "text/html": [
       "<div>\n",
       "<style scoped>\n",
       "    .dataframe tbody tr th:only-of-type {\n",
       "        vertical-align: middle;\n",
       "    }\n",
       "\n",
       "    .dataframe tbody tr th {\n",
       "        vertical-align: top;\n",
       "    }\n",
       "\n",
       "    .dataframe thead th {\n",
       "        text-align: right;\n",
       "    }\n",
       "</style>\n",
       "<table border=\"1\" class=\"dataframe\">\n",
       "  <thead>\n",
       "    <tr style=\"text-align: right;\">\n",
       "      <th></th>\n",
       "      <th>Category</th>\n",
       "      <th>Date</th>\n",
       "      <th>Sales</th>\n",
       "    </tr>\n",
       "  </thead>\n",
       "  <tbody>\n",
       "    <tr>\n",
       "      <th>10</th>\n",
       "      <td>Clothing</td>\n",
       "      <td>2012-06-30</td>\n",
       "      <td>42</td>\n",
       "    </tr>\n",
       "    <tr>\n",
       "      <th>11</th>\n",
       "      <td>Components</td>\n",
       "      <td>2012-06-30</td>\n",
       "      <td>826</td>\n",
       "    </tr>\n",
       "    <tr>\n",
       "      <th>12</th>\n",
       "      <td>Components</td>\n",
       "      <td>2012-06-30</td>\n",
       "      <td>150</td>\n",
       "    </tr>\n",
       "  </tbody>\n",
       "</table>\n",
       "</div>"
      ],
      "text/plain": [
       "      Category       Date  Sales\n",
       "10    Clothing 2012-06-30     42\n",
       "11  Components 2012-06-30    826\n",
       "12  Components 2012-06-30    150"
      ]
     },
     "execution_count": 37,
     "metadata": {},
     "output_type": "execute_result"
    }
   ],
   "source": [
    "df[['Category', 'Date','Sales']][10:13]"
   ]
  },
  {
   "cell_type": "code",
   "execution_count": 38,
   "id": "normal-emphasis",
   "metadata": {},
   "outputs": [
    {
     "data": {
      "text/plain": [
       "10      clothing\n",
       "11    components\n",
       "12    components\n",
       "Name: Category, dtype: object"
      ]
     },
     "execution_count": 38,
     "metadata": {},
     "output_type": "execute_result"
    }
   ],
   "source": [
    "df[10:13]['Category'].str.lower()"
   ]
  },
  {
   "cell_type": "code",
   "execution_count": 39,
   "id": "laughing-apple",
   "metadata": {},
   "outputs": [
    {
     "name": "stderr",
     "output_type": "stream",
     "text": [
      "C:\\Users\\hnawaz\\Anaconda3\\lib\\site-packages\\ipykernel_launcher.py:1: SettingWithCopyWarning: \n",
      "A value is trying to be set on a copy of a slice from a DataFrame.\n",
      "Try using .loc[row_indexer,col_indexer] = value instead\n",
      "\n",
      "See the caveats in the documentation: http://pandas.pydata.org/pandas-docs/stable/user_guide/indexing.html#returning-a-view-versus-a-copy\n",
      "  \"\"\"Entry point for launching an IPython kernel.\n"
     ]
    }
   ],
   "source": [
    "df[10:13]['Category'] = df[10:13]['Category'].str.lower()"
   ]
  },
  {
   "cell_type": "code",
   "execution_count": 40,
   "id": "laden-extent",
   "metadata": {},
   "outputs": [
    {
     "data": {
      "text/html": [
       "<div>\n",
       "<style scoped>\n",
       "    .dataframe tbody tr th:only-of-type {\n",
       "        vertical-align: middle;\n",
       "    }\n",
       "\n",
       "    .dataframe tbody tr th {\n",
       "        vertical-align: top;\n",
       "    }\n",
       "\n",
       "    .dataframe thead th {\n",
       "        text-align: right;\n",
       "    }\n",
       "</style>\n",
       "<table border=\"1\" class=\"dataframe\">\n",
       "  <thead>\n",
       "    <tr style=\"text-align: right;\">\n",
       "      <th></th>\n",
       "      <th>Category</th>\n",
       "      <th>Sub-Category</th>\n",
       "      <th>product</th>\n",
       "      <th>Date</th>\n",
       "      <th>ListPrice</th>\n",
       "      <th>Quantity</th>\n",
       "      <th>Sales</th>\n",
       "    </tr>\n",
       "  </thead>\n",
       "  <tbody>\n",
       "    <tr>\n",
       "      <th>0</th>\n",
       "      <td>Clothing</td>\n",
       "      <td>Caps</td>\n",
       "      <td>AWC Logo Cap</td>\n",
       "      <td>2012-06-30</td>\n",
       "      <td>8</td>\n",
       "      <td>14</td>\n",
       "      <td>69</td>\n",
       "    </tr>\n",
       "    <tr>\n",
       "      <th>1</th>\n",
       "      <td>Accessories</td>\n",
       "      <td>Locks</td>\n",
       "      <td>Cable Lock</td>\n",
       "      <td>2012-06-30</td>\n",
       "      <td>25</td>\n",
       "      <td>6</td>\n",
       "      <td>90</td>\n",
       "    </tr>\n",
       "    <tr>\n",
       "      <th>2</th>\n",
       "      <td>Clothing</td>\n",
       "      <td>Gloves</td>\n",
       "      <td>Full-Finger Gloves, L</td>\n",
       "      <td>2012-06-30</td>\n",
       "      <td>37</td>\n",
       "      <td>8</td>\n",
       "      <td>182</td>\n",
       "    </tr>\n",
       "    <tr>\n",
       "      <th>3</th>\n",
       "      <td>Clothing</td>\n",
       "      <td>Gloves</td>\n",
       "      <td>Full-Finger Gloves, L</td>\n",
       "      <td>2012-06-30</td>\n",
       "      <td>37</td>\n",
       "      <td>16</td>\n",
       "      <td>318</td>\n",
       "    </tr>\n",
       "    <tr>\n",
       "      <th>4</th>\n",
       "      <td>Clothing</td>\n",
       "      <td>Gloves</td>\n",
       "      <td>Full-Finger Gloves, M</td>\n",
       "      <td>2012-06-30</td>\n",
       "      <td>37</td>\n",
       "      <td>7</td>\n",
       "      <td>160</td>\n",
       "    </tr>\n",
       "  </tbody>\n",
       "</table>\n",
       "</div>"
      ],
      "text/plain": [
       "      Category Sub-Category                product       Date  ListPrice  \\\n",
       "0     Clothing         Caps           AWC Logo Cap 2012-06-30          8   \n",
       "1  Accessories        Locks             Cable Lock 2012-06-30         25   \n",
       "2     Clothing       Gloves  Full-Finger Gloves, L 2012-06-30         37   \n",
       "3     Clothing       Gloves  Full-Finger Gloves, L 2012-06-30         37   \n",
       "4     Clothing       Gloves  Full-Finger Gloves, M 2012-06-30         37   \n",
       "\n",
       "   Quantity  Sales  \n",
       "0        14     69  \n",
       "1         6     90  \n",
       "2         8    182  \n",
       "3        16    318  \n",
       "4         7    160  "
      ]
     },
     "execution_count": 40,
     "metadata": {},
     "output_type": "execute_result"
    }
   ],
   "source": [
    "df.head()"
   ]
  },
  {
   "cell_type": "code",
   "execution_count": 41,
   "id": "alleged-library",
   "metadata": {},
   "outputs": [
    {
     "data": {
      "text/plain": [
       "'Clothing'"
      ]
     },
     "execution_count": 41,
     "metadata": {},
     "output_type": "execute_result"
    }
   ],
   "source": [
    "df.loc[0,'Category']"
   ]
  },
  {
   "cell_type": "code",
   "execution_count": 58,
   "id": "several-symphony",
   "metadata": {},
   "outputs": [
    {
     "name": "stdout",
     "output_type": "stream",
     "text": [
      "10\n",
      "clothing\n",
      "11\n",
      "components\n",
      "12\n",
      "components\n"
     ]
    }
   ],
   "source": [
    "#Iterrate over rows.\n",
    "for index,row in df[10:13].iterrows():\n",
    "    print(index)\n",
    "    print(row['Category'])\n",
    "    df.loc[index, 'Category'] = row['Category'].title()"
   ]
  },
  {
   "cell_type": "code",
   "execution_count": 59,
   "id": "pleased-affairs",
   "metadata": {},
   "outputs": [
    {
     "data": {
      "text/plain": [
       "10      Clothing\n",
       "11    Components\n",
       "12    Components\n",
       "13    Components\n",
       "Name: Category, dtype: object"
      ]
     },
     "execution_count": 59,
     "metadata": {},
     "output_type": "execute_result"
    }
   ],
   "source": [
    "#Test above value change\n",
    "df.loc[10:13,'Category']"
   ]
  },
  {
   "cell_type": "code",
   "execution_count": 67,
   "id": "obvious-cricket",
   "metadata": {},
   "outputs": [],
   "source": [
    "#Example to add a new column using iterrow and loc.\n",
    "for index,row in df.iterrows():\n",
    "    if row['Territory'] in ('Central','Northeast','Northwest','Southeast','Southwest','Canada'):\n",
    "        df.loc[index,'Region'] = \"Americas\"\n",
    "    elif row['Territory'] in ('Germany','France','United Kingdom'):\n",
    "        df.loc[index,'Region'] = \"Europe\"\n",
    "    else:\n",
    "        df.loc[index,'Region'] = \"Australia\""
   ]
  },
  {
   "cell_type": "code",
   "execution_count": 70,
   "id": "elect-comedy",
   "metadata": {},
   "outputs": [
    {
     "data": {
      "text/html": [
       "<div>\n",
       "<style scoped>\n",
       "    .dataframe tbody tr th:only-of-type {\n",
       "        vertical-align: middle;\n",
       "    }\n",
       "\n",
       "    .dataframe tbody tr th {\n",
       "        vertical-align: top;\n",
       "    }\n",
       "\n",
       "    .dataframe thead th {\n",
       "        text-align: right;\n",
       "    }\n",
       "</style>\n",
       "<table border=\"1\" class=\"dataframe\">\n",
       "  <thead>\n",
       "    <tr style=\"text-align: right;\">\n",
       "      <th></th>\n",
       "      <th>Category</th>\n",
       "      <th>Sub-Category</th>\n",
       "      <th>product</th>\n",
       "      <th>Territory</th>\n",
       "      <th>Date</th>\n",
       "      <th>ListPrice</th>\n",
       "      <th>Quantity</th>\n",
       "      <th>Sales</th>\n",
       "      <th>Region</th>\n",
       "      <th>Region2</th>\n",
       "    </tr>\n",
       "  </thead>\n",
       "  <tbody>\n",
       "    <tr>\n",
       "      <th>0</th>\n",
       "      <td>Clothing</td>\n",
       "      <td>Caps</td>\n",
       "      <td>AWC Logo Cap</td>\n",
       "      <td>United Kingdom</td>\n",
       "      <td>2012-06-30</td>\n",
       "      <td>9</td>\n",
       "      <td>14</td>\n",
       "      <td>69</td>\n",
       "      <td>Europe</td>\n",
       "      <td>Europe</td>\n",
       "    </tr>\n",
       "    <tr>\n",
       "      <th>1</th>\n",
       "      <td>Accessories</td>\n",
       "      <td>Locks</td>\n",
       "      <td>Cable Lock</td>\n",
       "      <td>United Kingdom</td>\n",
       "      <td>2012-06-30</td>\n",
       "      <td>25</td>\n",
       "      <td>6</td>\n",
       "      <td>90</td>\n",
       "      <td>Europe</td>\n",
       "      <td>Europe</td>\n",
       "    </tr>\n",
       "    <tr>\n",
       "      <th>2</th>\n",
       "      <td>Clothing</td>\n",
       "      <td>Gloves</td>\n",
       "      <td>Full-Finger Gloves, L</td>\n",
       "      <td>United Kingdom</td>\n",
       "      <td>2012-06-30</td>\n",
       "      <td>38</td>\n",
       "      <td>8</td>\n",
       "      <td>182</td>\n",
       "      <td>Europe</td>\n",
       "      <td>Europe</td>\n",
       "    </tr>\n",
       "    <tr>\n",
       "      <th>3</th>\n",
       "      <td>Clothing</td>\n",
       "      <td>Gloves</td>\n",
       "      <td>Full-Finger Gloves, L</td>\n",
       "      <td>United Kingdom</td>\n",
       "      <td>2012-06-30</td>\n",
       "      <td>38</td>\n",
       "      <td>16</td>\n",
       "      <td>318</td>\n",
       "      <td>Europe</td>\n",
       "      <td>Europe</td>\n",
       "    </tr>\n",
       "    <tr>\n",
       "      <th>4</th>\n",
       "      <td>Clothing</td>\n",
       "      <td>Gloves</td>\n",
       "      <td>Full-Finger Gloves, M</td>\n",
       "      <td>United Kingdom</td>\n",
       "      <td>2012-06-30</td>\n",
       "      <td>38</td>\n",
       "      <td>7</td>\n",
       "      <td>160</td>\n",
       "      <td>Europe</td>\n",
       "      <td>Europe</td>\n",
       "    </tr>\n",
       "  </tbody>\n",
       "</table>\n",
       "</div>"
      ],
      "text/plain": [
       "      Category Sub-Category                product       Territory       Date  \\\n",
       "0     Clothing         Caps           AWC Logo Cap  United Kingdom 2012-06-30   \n",
       "1  Accessories        Locks             Cable Lock  United Kingdom 2012-06-30   \n",
       "2     Clothing       Gloves  Full-Finger Gloves, L  United Kingdom 2012-06-30   \n",
       "3     Clothing       Gloves  Full-Finger Gloves, L  United Kingdom 2012-06-30   \n",
       "4     Clothing       Gloves  Full-Finger Gloves, M  United Kingdom 2012-06-30   \n",
       "\n",
       "   ListPrice  Quantity  Sales  Region Region2  \n",
       "0          9        14     69  Europe  Europe  \n",
       "1         25         6     90  Europe  Europe  \n",
       "2         38         8    182  Europe  Europe  \n",
       "3         38        16    318  Europe  Europe  \n",
       "4         38         7    160  Europe  Europe  "
      ]
     },
     "execution_count": 70,
     "metadata": {},
     "output_type": "execute_result"
    }
   ],
   "source": [
    "df.head()"
   ]
  },
  {
   "cell_type": "code",
   "execution_count": 69,
   "id": "confused-ready",
   "metadata": {},
   "outputs": [],
   "source": [
    "#creating a new column\n",
    "df.loc[df.Territory.isin(['Central','Northeast','Northwest','Southeast','Southwest','Canada']), \"Region2\"] = \"Americas\"\n",
    "df.loc[df.Territory.isin(['Germany','France','United Kingdom']), \"Region2\"] = \"Europe\"\n",
    "df.loc[df.Territory.isin(['Australia']), \"Region2\"] = \"Australia\""
   ]
  },
  {
   "cell_type": "code",
   "execution_count": 71,
   "id": "complex-baptist",
   "metadata": {},
   "outputs": [
    {
     "data": {
      "text/plain": [
       "Territory       Region     Region2  \n",
       "Australia       Australia  Australia     1713\n",
       "Canada          Americas   Americas     11444\n",
       "Central         Americas   Americas      5812\n",
       "France          Europe     Europe        3530\n",
       "Germany         Europe     Europe        1864\n",
       "Northeast       Americas   Americas      5809\n",
       "Northwest       Americas   Americas      7872\n",
       "Southeast       Americas   Americas      5937\n",
       "Southwest       Americas   Americas     13379\n",
       "United Kingdom  Europe     Europe        3520\n",
       "dtype: int64"
      ]
     },
     "execution_count": 71,
     "metadata": {},
     "output_type": "execute_result"
    }
   ],
   "source": [
    "df.groupby(['Territory','Region', 'Region2']).size()"
   ]
  },
  {
   "cell_type": "code",
   "execution_count": 72,
   "id": "studied-desperate",
   "metadata": {},
   "outputs": [
    {
     "data": {
      "text/html": [
       "<div>\n",
       "<style scoped>\n",
       "    .dataframe tbody tr th:only-of-type {\n",
       "        vertical-align: middle;\n",
       "    }\n",
       "\n",
       "    .dataframe tbody tr th {\n",
       "        vertical-align: top;\n",
       "    }\n",
       "\n",
       "    .dataframe thead th {\n",
       "        text-align: right;\n",
       "    }\n",
       "</style>\n",
       "<table border=\"1\" class=\"dataframe\">\n",
       "  <thead>\n",
       "    <tr style=\"text-align: right;\">\n",
       "      <th></th>\n",
       "      <th>Category</th>\n",
       "      <th>Sub-Category</th>\n",
       "      <th>product</th>\n",
       "      <th>Territory</th>\n",
       "      <th>Date</th>\n",
       "      <th>ListPrice</th>\n",
       "      <th>Quantity</th>\n",
       "      <th>Sales</th>\n",
       "      <th>Region</th>\n",
       "      <th>Region2</th>\n",
       "    </tr>\n",
       "  </thead>\n",
       "  <tbody>\n",
       "    <tr>\n",
       "      <th>0</th>\n",
       "      <td>Clothing</td>\n",
       "      <td>Caps</td>\n",
       "      <td>AWC Logo Cap</td>\n",
       "      <td>United Kingdom</td>\n",
       "      <td>2012-06-30</td>\n",
       "      <td>9</td>\n",
       "      <td>14</td>\n",
       "      <td>69</td>\n",
       "      <td>Europe</td>\n",
       "      <td>Europe</td>\n",
       "    </tr>\n",
       "    <tr>\n",
       "      <th>1</th>\n",
       "      <td>Accessories</td>\n",
       "      <td>Locks</td>\n",
       "      <td>Cable Lock</td>\n",
       "      <td>United Kingdom</td>\n",
       "      <td>2012-06-30</td>\n",
       "      <td>25</td>\n",
       "      <td>6</td>\n",
       "      <td>90</td>\n",
       "      <td>Europe</td>\n",
       "      <td>Europe</td>\n",
       "    </tr>\n",
       "    <tr>\n",
       "      <th>2</th>\n",
       "      <td>Clothing</td>\n",
       "      <td>Gloves</td>\n",
       "      <td>Full-Finger Gloves, L</td>\n",
       "      <td>United Kingdom</td>\n",
       "      <td>2012-06-30</td>\n",
       "      <td>38</td>\n",
       "      <td>8</td>\n",
       "      <td>182</td>\n",
       "      <td>Europe</td>\n",
       "      <td>Europe</td>\n",
       "    </tr>\n",
       "    <tr>\n",
       "      <th>3</th>\n",
       "      <td>Clothing</td>\n",
       "      <td>Gloves</td>\n",
       "      <td>Full-Finger Gloves, L</td>\n",
       "      <td>United Kingdom</td>\n",
       "      <td>2012-06-30</td>\n",
       "      <td>38</td>\n",
       "      <td>16</td>\n",
       "      <td>318</td>\n",
       "      <td>Europe</td>\n",
       "      <td>Europe</td>\n",
       "    </tr>\n",
       "  </tbody>\n",
       "</table>\n",
       "</div>"
      ],
      "text/plain": [
       "      Category Sub-Category                product       Territory       Date  \\\n",
       "0     Clothing         Caps           AWC Logo Cap  United Kingdom 2012-06-30   \n",
       "1  Accessories        Locks             Cable Lock  United Kingdom 2012-06-30   \n",
       "2     Clothing       Gloves  Full-Finger Gloves, L  United Kingdom 2012-06-30   \n",
       "3     Clothing       Gloves  Full-Finger Gloves, L  United Kingdom 2012-06-30   \n",
       "\n",
       "   ListPrice  Quantity  Sales  Region Region2  \n",
       "0          9        14     69  Europe  Europe  \n",
       "1         25         6     90  Europe  Europe  \n",
       "2         38         8    182  Europe  Europe  \n",
       "3         38        16    318  Europe  Europe  "
      ]
     },
     "execution_count": 72,
     "metadata": {},
     "output_type": "execute_result"
    }
   ],
   "source": [
    "df.iloc[0:4]"
   ]
  },
  {
   "cell_type": "code",
   "execution_count": 87,
   "id": "stunning-alberta",
   "metadata": {},
   "outputs": [
    {
     "data": {
      "text/plain": [
       "'Locks'"
      ]
     },
     "execution_count": 87,
     "metadata": {},
     "output_type": "execute_result"
    }
   ],
   "source": [
    "#print out each row\n",
    "#df.iloc[0:1]\n",
    "#get multiple rows\n",
    "#df.iloc[0:2]\n",
    "#specific location in dataframe\n",
    "#row then columns\n",
    "#df.iloc[0,0]\n",
    "#df.iloc[1,0]\n",
    "df.iloc[1,1]"
   ]
  },
  {
   "cell_type": "code",
   "execution_count": 88,
   "id": "social-airline",
   "metadata": {},
   "outputs": [
    {
     "data": {
      "text/plain": [
       "'Locks'"
      ]
     },
     "execution_count": 88,
     "metadata": {},
     "output_type": "execute_result"
    }
   ],
   "source": [
    "#We can also use at to get a specific row\n",
    "df.at[1, 'Sub-Category']"
   ]
  },
  {
   "cell_type": "code",
   "execution_count": 89,
   "id": "hispanic-haven",
   "metadata": {},
   "outputs": [
    {
     "data": {
      "text/html": [
       "<div>\n",
       "<style scoped>\n",
       "    .dataframe tbody tr th:only-of-type {\n",
       "        vertical-align: middle;\n",
       "    }\n",
       "\n",
       "    .dataframe tbody tr th {\n",
       "        vertical-align: top;\n",
       "    }\n",
       "\n",
       "    .dataframe thead th {\n",
       "        text-align: right;\n",
       "    }\n",
       "</style>\n",
       "<table border=\"1\" class=\"dataframe\">\n",
       "  <thead>\n",
       "    <tr style=\"text-align: right;\">\n",
       "      <th></th>\n",
       "      <th>Category</th>\n",
       "      <th>Sales</th>\n",
       "    </tr>\n",
       "  </thead>\n",
       "  <tbody>\n",
       "    <tr>\n",
       "      <th>10</th>\n",
       "      <td>Clothing</td>\n",
       "      <td>42</td>\n",
       "    </tr>\n",
       "    <tr>\n",
       "      <th>11</th>\n",
       "      <td>Components</td>\n",
       "      <td>826</td>\n",
       "    </tr>\n",
       "    <tr>\n",
       "      <th>12</th>\n",
       "      <td>Components</td>\n",
       "      <td>150</td>\n",
       "    </tr>\n",
       "    <tr>\n",
       "      <th>13</th>\n",
       "      <td>Components</td>\n",
       "      <td>1,472</td>\n",
       "    </tr>\n",
       "    <tr>\n",
       "      <th>14</th>\n",
       "      <td>Components</td>\n",
       "      <td>736</td>\n",
       "    </tr>\n",
       "    <tr>\n",
       "      <th>15</th>\n",
       "      <td>Components</td>\n",
       "      <td>744</td>\n",
       "    </tr>\n",
       "  </tbody>\n",
       "</table>\n",
       "</div>"
      ],
      "text/plain": [
       "      Category  Sales\n",
       "10    Clothing     42\n",
       "11  Components    826\n",
       "12  Components    150\n",
       "13  Components  1,472\n",
       "14  Components    736\n",
       "15  Components    744"
      ]
     },
     "execution_count": 89,
     "metadata": {},
     "output_type": "execute_result"
    }
   ],
   "source": [
    "df.loc[10:15, ['Category','Sales']]"
   ]
  },
  {
   "cell_type": "code",
   "execution_count": 92,
   "id": "sublime-estate",
   "metadata": {},
   "outputs": [
    {
     "data": {
      "text/html": [
       "<div>\n",
       "<style scoped>\n",
       "    .dataframe tbody tr th:only-of-type {\n",
       "        vertical-align: middle;\n",
       "    }\n",
       "\n",
       "    .dataframe tbody tr th {\n",
       "        vertical-align: top;\n",
       "    }\n",
       "\n",
       "    .dataframe thead th {\n",
       "        text-align: right;\n",
       "    }\n",
       "</style>\n",
       "<table border=\"1\" class=\"dataframe\">\n",
       "  <thead>\n",
       "    <tr style=\"text-align: right;\">\n",
       "      <th></th>\n",
       "      <th>Category</th>\n",
       "      <th>Sales</th>\n",
       "    </tr>\n",
       "  </thead>\n",
       "  <tbody>\n",
       "    <tr>\n",
       "      <th>10</th>\n",
       "      <td>Clothing</td>\n",
       "      <td>42</td>\n",
       "    </tr>\n",
       "    <tr>\n",
       "      <th>11</th>\n",
       "      <td>Components</td>\n",
       "      <td>826</td>\n",
       "    </tr>\n",
       "    <tr>\n",
       "      <th>12</th>\n",
       "      <td>Components</td>\n",
       "      <td>150</td>\n",
       "    </tr>\n",
       "    <tr>\n",
       "      <th>13</th>\n",
       "      <td>Components</td>\n",
       "      <td>1,472</td>\n",
       "    </tr>\n",
       "    <tr>\n",
       "      <th>14</th>\n",
       "      <td>Components</td>\n",
       "      <td>736</td>\n",
       "    </tr>\n",
       "    <tr>\n",
       "      <th>15</th>\n",
       "      <td>Components</td>\n",
       "      <td>744</td>\n",
       "    </tr>\n",
       "  </tbody>\n",
       "</table>\n",
       "</div>"
      ],
      "text/plain": [
       "      Category  Sales\n",
       "10    Clothing     42\n",
       "11  Components    826\n",
       "12  Components    150\n",
       "13  Components  1,472\n",
       "14  Components    736\n",
       "15  Components    744"
      ]
     },
     "execution_count": 92,
     "metadata": {},
     "output_type": "execute_result"
    }
   ],
   "source": [
    "df.iloc[10:16, [0, 7]]"
   ]
  },
  {
   "cell_type": "code",
   "execution_count": 93,
   "id": "empirical-formation",
   "metadata": {},
   "outputs": [
    {
     "data": {
      "text/plain": [
       "7"
      ]
     },
     "execution_count": 93,
     "metadata": {},
     "output_type": "execute_result"
    }
   ],
   "source": [
    "df.columns.get_loc(\"Sales\")"
   ]
  },
  {
   "cell_type": "code",
   "execution_count": 95,
   "id": "secondary-newman",
   "metadata": {},
   "outputs": [
    {
     "name": "stdout",
     "output_type": "stream",
     "text": [
      "Columns Name: Category Index: 0\n",
      "Columns Name: Sub-Category Index: 1\n",
      "Columns Name: product Index: 2\n",
      "Columns Name: Territory Index: 3\n",
      "Columns Name: Date Index: 4\n",
      "Columns Name: ListPrice Index: 5\n",
      "Columns Name: Quantity Index: 6\n",
      "Columns Name: Sales Index: 7\n",
      "Columns Name: Region Index: 8\n",
      "Columns Name: Region2 Index: 9\n"
     ]
    }
   ],
   "source": [
    "#We can get the columns name and index in our dataset.\n",
    "for col in df.columns:\n",
    "    #print(  col )\n",
    "    #print(df.columns.get_loc(col))\n",
    "    print(\"Columns Name: {} Index: {}\".format(col, df.columns.get_loc(col)))"
   ]
  },
  {
   "cell_type": "markdown",
   "id": "systematic-worship",
   "metadata": {},
   "source": [
    "### How to add and delete column?"
   ]
  },
  {
   "cell_type": "code",
   "execution_count": 96,
   "id": "alien-uniform",
   "metadata": {},
   "outputs": [
    {
     "data": {
      "text/html": [
       "<div>\n",
       "<style scoped>\n",
       "    .dataframe tbody tr th:only-of-type {\n",
       "        vertical-align: middle;\n",
       "    }\n",
       "\n",
       "    .dataframe tbody tr th {\n",
       "        vertical-align: top;\n",
       "    }\n",
       "\n",
       "    .dataframe thead th {\n",
       "        text-align: right;\n",
       "    }\n",
       "</style>\n",
       "<table border=\"1\" class=\"dataframe\">\n",
       "  <thead>\n",
       "    <tr style=\"text-align: right;\">\n",
       "      <th></th>\n",
       "      <th>Category</th>\n",
       "      <th>Sub-Category</th>\n",
       "      <th>product</th>\n",
       "      <th>Territory</th>\n",
       "      <th>Date</th>\n",
       "      <th>ListPrice</th>\n",
       "      <th>Quantity</th>\n",
       "      <th>Sales</th>\n",
       "      <th>Region</th>\n",
       "      <th>Region2</th>\n",
       "      <th>Year</th>\n",
       "    </tr>\n",
       "  </thead>\n",
       "  <tbody>\n",
       "    <tr>\n",
       "      <th>0</th>\n",
       "      <td>Clothing</td>\n",
       "      <td>Caps</td>\n",
       "      <td>AWC Logo Cap</td>\n",
       "      <td>United Kingdom</td>\n",
       "      <td>2012-06-30</td>\n",
       "      <td>9</td>\n",
       "      <td>14</td>\n",
       "      <td>69</td>\n",
       "      <td>Europe</td>\n",
       "      <td>Europe</td>\n",
       "      <td>2012</td>\n",
       "    </tr>\n",
       "    <tr>\n",
       "      <th>1</th>\n",
       "      <td>Accessories</td>\n",
       "      <td>Locks</td>\n",
       "      <td>Cable Lock</td>\n",
       "      <td>United Kingdom</td>\n",
       "      <td>2012-06-30</td>\n",
       "      <td>25</td>\n",
       "      <td>6</td>\n",
       "      <td>90</td>\n",
       "      <td>Europe</td>\n",
       "      <td>Europe</td>\n",
       "      <td>2012</td>\n",
       "    </tr>\n",
       "    <tr>\n",
       "      <th>2</th>\n",
       "      <td>Clothing</td>\n",
       "      <td>Gloves</td>\n",
       "      <td>Full-Finger Gloves, L</td>\n",
       "      <td>United Kingdom</td>\n",
       "      <td>2012-06-30</td>\n",
       "      <td>38</td>\n",
       "      <td>8</td>\n",
       "      <td>182</td>\n",
       "      <td>Europe</td>\n",
       "      <td>Europe</td>\n",
       "      <td>2012</td>\n",
       "    </tr>\n",
       "    <tr>\n",
       "      <th>3</th>\n",
       "      <td>Clothing</td>\n",
       "      <td>Gloves</td>\n",
       "      <td>Full-Finger Gloves, L</td>\n",
       "      <td>United Kingdom</td>\n",
       "      <td>2012-06-30</td>\n",
       "      <td>38</td>\n",
       "      <td>16</td>\n",
       "      <td>318</td>\n",
       "      <td>Europe</td>\n",
       "      <td>Europe</td>\n",
       "      <td>2012</td>\n",
       "    </tr>\n",
       "    <tr>\n",
       "      <th>4</th>\n",
       "      <td>Clothing</td>\n",
       "      <td>Gloves</td>\n",
       "      <td>Full-Finger Gloves, M</td>\n",
       "      <td>United Kingdom</td>\n",
       "      <td>2012-06-30</td>\n",
       "      <td>38</td>\n",
       "      <td>7</td>\n",
       "      <td>160</td>\n",
       "      <td>Europe</td>\n",
       "      <td>Europe</td>\n",
       "      <td>2012</td>\n",
       "    </tr>\n",
       "  </tbody>\n",
       "</table>\n",
       "</div>"
      ],
      "text/plain": [
       "      Category Sub-Category                product       Territory       Date  \\\n",
       "0     Clothing         Caps           AWC Logo Cap  United Kingdom 2012-06-30   \n",
       "1  Accessories        Locks             Cable Lock  United Kingdom 2012-06-30   \n",
       "2     Clothing       Gloves  Full-Finger Gloves, L  United Kingdom 2012-06-30   \n",
       "3     Clothing       Gloves  Full-Finger Gloves, L  United Kingdom 2012-06-30   \n",
       "4     Clothing       Gloves  Full-Finger Gloves, M  United Kingdom 2012-06-30   \n",
       "\n",
       "   ListPrice  Quantity  Sales  Region Region2  Year  \n",
       "0          9        14     69  Europe  Europe  2012  \n",
       "1         25         6     90  Europe  Europe  2012  \n",
       "2         38         8    182  Europe  Europe  2012  \n",
       "3         38        16    318  Europe  Europe  2012  \n",
       "4         38         7    160  Europe  Europe  2012  "
      ]
     },
     "execution_count": 96,
     "metadata": {},
     "output_type": "execute_result"
    }
   ],
   "source": [
    "#Convert date column to datetime\n",
    "df['Date'] = pd.to_datetime(df['Date'])\n",
    "#Get year from datetime\n",
    "df['Year'] = df['Date'].dt.year\n",
    "df.head()"
   ]
  },
  {
   "cell_type": "code",
   "execution_count": 99,
   "id": "available-elephant",
   "metadata": {},
   "outputs": [],
   "source": [
    "#drop a a column\n",
    "#df.head()\n",
    "df.drop('Region2', axis=1, inplace=True)"
   ]
  },
  {
   "cell_type": "code",
   "execution_count": 101,
   "id": "muslim-value",
   "metadata": {},
   "outputs": [
    {
     "data": {
      "text/plain": [
       "(60880, 9)"
      ]
     },
     "execution_count": 101,
     "metadata": {},
     "output_type": "execute_result"
    }
   ],
   "source": [
    "df.shape"
   ]
  },
  {
   "cell_type": "markdown",
   "id": "persistent-pontiac",
   "metadata": {},
   "source": [
    "### How to summarize data?"
   ]
  },
  {
   "cell_type": "code",
   "execution_count": 102,
   "id": "precise-meditation",
   "metadata": {},
   "outputs": [
    {
     "data": {
      "text/plain": [
       "Category\n",
       "Bikes         66,302,382\n",
       "Components    11,799,077\n",
       "Clothing       1,777,841\n",
       "Accessories      571,298\n",
       "Name: Sales, dtype: float64"
      ]
     },
     "execution_count": 102,
     "metadata": {},
     "output_type": "execute_result"
    }
   ],
   "source": [
    "#group data by certain columns\n",
    "Category_sales = df.groupby('Category')['Sales'].sum().sort_values(ascending = False)\n",
    "Category_sales"
   ]
  },
  {
   "cell_type": "code",
   "execution_count": 103,
   "id": "fewer-coverage",
   "metadata": {},
   "outputs": [
    {
     "data": {
      "text/plain": [
       "product\n",
       "Mountain-200 Black, 38    3,105,727\n",
       "Mountain-200 Black, 42    2,646,353\n",
       "Mountain-200 Silver, 38   2,354,215\n",
       "Mountain-200 Silver, 42   2,181,044\n",
       "Mountain-200 Silver, 46   2,133,157\n",
       "Mountain-200 Black, 46    1,936,204\n",
       "Road-250 Black, 44        1,888,480\n",
       "Road-250 Black, 48        1,656,450\n",
       "Road-350-W Yellow, 48     1,380,254\n",
       "Touring-1000 Blue, 60     1,370,784\n",
       "Name: Sales, dtype: float64"
      ]
     },
     "execution_count": 103,
     "metadata": {},
     "output_type": "execute_result"
    }
   ],
   "source": [
    "Category_sales = df.groupby('product')['Sales'].sum().sort_values(ascending = False)\n",
    "Category_sales.head(10)"
   ]
  },
  {
   "cell_type": "code",
   "execution_count": 104,
   "id": "intense-fight",
   "metadata": {},
   "outputs": [
    {
     "data": {
      "text/plain": [
       "Bikes          24800\n",
       "Components     18683\n",
       "Clothing       12260\n",
       "Accessories     5098\n",
       "Name: Category, dtype: int64"
      ]
     },
     "execution_count": 104,
     "metadata": {},
     "output_type": "execute_result"
    }
   ],
   "source": [
    "#Transactions count by Category\n",
    "df.Category.value_counts()"
   ]
  },
  {
   "cell_type": "code",
   "execution_count": 105,
   "id": "mysterious-master",
   "metadata": {},
   "outputs": [
    {
     "data": {
      "text/html": [
       "<div>\n",
       "<style scoped>\n",
       "    .dataframe tbody tr th:only-of-type {\n",
       "        vertical-align: middle;\n",
       "    }\n",
       "\n",
       "    .dataframe tbody tr th {\n",
       "        vertical-align: top;\n",
       "    }\n",
       "\n",
       "    .dataframe thead th {\n",
       "        text-align: right;\n",
       "    }\n",
       "</style>\n",
       "<table border=\"1\" class=\"dataframe\">\n",
       "  <thead>\n",
       "    <tr style=\"text-align: right;\">\n",
       "      <th></th>\n",
       "      <th>Category</th>\n",
       "      <th>Sub-Category</th>\n",
       "      <th>product</th>\n",
       "      <th>Territory</th>\n",
       "      <th>Date</th>\n",
       "      <th>Quantity</th>\n",
       "      <th>Sales</th>\n",
       "      <th>Region</th>\n",
       "      <th>Year</th>\n",
       "    </tr>\n",
       "  </thead>\n",
       "  <tbody>\n",
       "    <tr>\n",
       "      <th>0</th>\n",
       "      <td>Clothing</td>\n",
       "      <td>Caps</td>\n",
       "      <td>AWC Logo Cap</td>\n",
       "      <td>United Kingdom</td>\n",
       "      <td>2012-06-30</td>\n",
       "      <td>14</td>\n",
       "      <td>69</td>\n",
       "      <td>Europe</td>\n",
       "      <td>2012</td>\n",
       "    </tr>\n",
       "    <tr>\n",
       "      <th>1</th>\n",
       "      <td>Accessories</td>\n",
       "      <td>Locks</td>\n",
       "      <td>Cable Lock</td>\n",
       "      <td>United Kingdom</td>\n",
       "      <td>2012-06-30</td>\n",
       "      <td>6</td>\n",
       "      <td>90</td>\n",
       "      <td>Europe</td>\n",
       "      <td>2012</td>\n",
       "    </tr>\n",
       "    <tr>\n",
       "      <th>2</th>\n",
       "      <td>Clothing</td>\n",
       "      <td>Gloves</td>\n",
       "      <td>Full-Finger Gloves, L</td>\n",
       "      <td>United Kingdom</td>\n",
       "      <td>2012-06-30</td>\n",
       "      <td>8</td>\n",
       "      <td>182</td>\n",
       "      <td>Europe</td>\n",
       "      <td>2012</td>\n",
       "    </tr>\n",
       "    <tr>\n",
       "      <th>3</th>\n",
       "      <td>Clothing</td>\n",
       "      <td>Gloves</td>\n",
       "      <td>Full-Finger Gloves, L</td>\n",
       "      <td>United Kingdom</td>\n",
       "      <td>2012-06-30</td>\n",
       "      <td>16</td>\n",
       "      <td>318</td>\n",
       "      <td>Europe</td>\n",
       "      <td>2012</td>\n",
       "    </tr>\n",
       "    <tr>\n",
       "      <th>4</th>\n",
       "      <td>Clothing</td>\n",
       "      <td>Gloves</td>\n",
       "      <td>Full-Finger Gloves, M</td>\n",
       "      <td>United Kingdom</td>\n",
       "      <td>2012-06-30</td>\n",
       "      <td>7</td>\n",
       "      <td>160</td>\n",
       "      <td>Europe</td>\n",
       "      <td>2012</td>\n",
       "    </tr>\n",
       "  </tbody>\n",
       "</table>\n",
       "</div>"
      ],
      "text/plain": [
       "      Category Sub-Category                product       Territory       Date  \\\n",
       "0     Clothing         Caps           AWC Logo Cap  United Kingdom 2012-06-30   \n",
       "1  Accessories        Locks             Cable Lock  United Kingdom 2012-06-30   \n",
       "2     Clothing       Gloves  Full-Finger Gloves, L  United Kingdom 2012-06-30   \n",
       "3     Clothing       Gloves  Full-Finger Gloves, L  United Kingdom 2012-06-30   \n",
       "4     Clothing       Gloves  Full-Finger Gloves, M  United Kingdom 2012-06-30   \n",
       "\n",
       "   Quantity  Sales  Region  Year  \n",
       "0        14     69  Europe  2012  \n",
       "1         6     90  Europe  2012  \n",
       "2         8    182  Europe  2012  \n",
       "3        16    318  Europe  2012  \n",
       "4         7    160  Europe  2012  "
      ]
     },
     "execution_count": 105,
     "metadata": {},
     "output_type": "execute_result"
    }
   ],
   "source": [
    "df.head()"
   ]
  },
  {
   "cell_type": "code",
   "execution_count": 106,
   "id": "hydraulic-playlist",
   "metadata": {},
   "outputs": [
    {
     "data": {
      "text/html": [
       "<div>\n",
       "<style scoped>\n",
       "    .dataframe tbody tr th:only-of-type {\n",
       "        vertical-align: middle;\n",
       "    }\n",
       "\n",
       "    .dataframe tbody tr th {\n",
       "        vertical-align: top;\n",
       "    }\n",
       "\n",
       "    .dataframe thead th {\n",
       "        text-align: right;\n",
       "    }\n",
       "</style>\n",
       "<table border=\"1\" class=\"dataframe\">\n",
       "  <thead>\n",
       "    <tr style=\"text-align: right;\">\n",
       "      <th>Year</th>\n",
       "      <th>2011</th>\n",
       "      <th>2012</th>\n",
       "      <th>2013</th>\n",
       "      <th>2014</th>\n",
       "    </tr>\n",
       "    <tr>\n",
       "      <th>Category</th>\n",
       "      <th></th>\n",
       "      <th></th>\n",
       "      <th></th>\n",
       "      <th></th>\n",
       "    </tr>\n",
       "  </thead>\n",
       "  <tbody>\n",
       "    <tr>\n",
       "      <th>Accessories</th>\n",
       "      <td>20,821</td>\n",
       "      <td>102,440</td>\n",
       "      <td>322,100</td>\n",
       "      <td>125,937</td>\n",
       "    </tr>\n",
       "    <tr>\n",
       "      <th>Bikes</th>\n",
       "      <td>8,082,527</td>\n",
       "      <td>22,594,916</td>\n",
       "      <td>26,032,638</td>\n",
       "      <td>9,592,301</td>\n",
       "    </tr>\n",
       "    <tr>\n",
       "      <th>Clothing</th>\n",
       "      <td>36,031</td>\n",
       "      <td>555,588</td>\n",
       "      <td>897,473</td>\n",
       "      <td>288,748</td>\n",
       "    </tr>\n",
       "    <tr>\n",
       "      <th>Components</th>\n",
       "      <td>639,173</td>\n",
       "      <td>3,880,758</td>\n",
       "      <td>5,609,918</td>\n",
       "      <td>1,669,228</td>\n",
       "    </tr>\n",
       "  </tbody>\n",
       "</table>\n",
       "</div>"
      ],
      "text/plain": [
       "Year             2011       2012       2013      2014\n",
       "Category                                             \n",
       "Accessories    20,821    102,440    322,100   125,937\n",
       "Bikes       8,082,527 22,594,916 26,032,638 9,592,301\n",
       "Clothing       36,031    555,588    897,473   288,748\n",
       "Components    639,173  3,880,758  5,609,918 1,669,228"
      ]
     },
     "execution_count": 106,
     "metadata": {},
     "output_type": "execute_result"
    }
   ],
   "source": [
    "#create a pivot table from dataframe\n",
    "df.pivot_table(index='Category',columns='Year',values='Sales',  aggfunc='sum') "
   ]
  },
  {
   "cell_type": "code",
   "execution_count": 107,
   "id": "divided-thong",
   "metadata": {},
   "outputs": [
    {
     "data": {
      "text/html": [
       "<div>\n",
       "<style scoped>\n",
       "    .dataframe tbody tr th:only-of-type {\n",
       "        vertical-align: middle;\n",
       "    }\n",
       "\n",
       "    .dataframe tbody tr th {\n",
       "        vertical-align: top;\n",
       "    }\n",
       "\n",
       "    .dataframe thead th {\n",
       "        text-align: right;\n",
       "    }\n",
       "</style>\n",
       "<table border=\"1\" class=\"dataframe\">\n",
       "  <thead>\n",
       "    <tr style=\"text-align: right;\">\n",
       "      <th></th>\n",
       "      <th>Category</th>\n",
       "      <th>Sub-Category</th>\n",
       "      <th>product</th>\n",
       "      <th>Territory</th>\n",
       "      <th>Date</th>\n",
       "      <th>Quantity</th>\n",
       "      <th>Sales</th>\n",
       "      <th>Region</th>\n",
       "      <th>Year</th>\n",
       "    </tr>\n",
       "  </thead>\n",
       "  <tbody>\n",
       "    <tr>\n",
       "      <th>0</th>\n",
       "      <td>Clothing</td>\n",
       "      <td>Caps</td>\n",
       "      <td>AWC Logo Cap</td>\n",
       "      <td>United Kingdom</td>\n",
       "      <td>2012-06-30</td>\n",
       "      <td>14</td>\n",
       "      <td>69</td>\n",
       "      <td>Europe</td>\n",
       "      <td>2012</td>\n",
       "    </tr>\n",
       "    <tr>\n",
       "      <th>1</th>\n",
       "      <td>Accessories</td>\n",
       "      <td>Locks</td>\n",
       "      <td>Cable Lock</td>\n",
       "      <td>United Kingdom</td>\n",
       "      <td>2012-06-30</td>\n",
       "      <td>6</td>\n",
       "      <td>90</td>\n",
       "      <td>Europe</td>\n",
       "      <td>2012</td>\n",
       "    </tr>\n",
       "    <tr>\n",
       "      <th>2</th>\n",
       "      <td>Clothing</td>\n",
       "      <td>Gloves</td>\n",
       "      <td>Full-Finger Gloves, L</td>\n",
       "      <td>United Kingdom</td>\n",
       "      <td>2012-06-30</td>\n",
       "      <td>8</td>\n",
       "      <td>182</td>\n",
       "      <td>Europe</td>\n",
       "      <td>2012</td>\n",
       "    </tr>\n",
       "    <tr>\n",
       "      <th>3</th>\n",
       "      <td>Clothing</td>\n",
       "      <td>Gloves</td>\n",
       "      <td>Full-Finger Gloves, L</td>\n",
       "      <td>United Kingdom</td>\n",
       "      <td>2012-06-30</td>\n",
       "      <td>16</td>\n",
       "      <td>318</td>\n",
       "      <td>Europe</td>\n",
       "      <td>2012</td>\n",
       "    </tr>\n",
       "    <tr>\n",
       "      <th>4</th>\n",
       "      <td>Clothing</td>\n",
       "      <td>Gloves</td>\n",
       "      <td>Full-Finger Gloves, M</td>\n",
       "      <td>United Kingdom</td>\n",
       "      <td>2012-06-30</td>\n",
       "      <td>7</td>\n",
       "      <td>160</td>\n",
       "      <td>Europe</td>\n",
       "      <td>2012</td>\n",
       "    </tr>\n",
       "  </tbody>\n",
       "</table>\n",
       "</div>"
      ],
      "text/plain": [
       "      Category Sub-Category                product       Territory       Date  \\\n",
       "0     Clothing         Caps           AWC Logo Cap  United Kingdom 2012-06-30   \n",
       "1  Accessories        Locks             Cable Lock  United Kingdom 2012-06-30   \n",
       "2     Clothing       Gloves  Full-Finger Gloves, L  United Kingdom 2012-06-30   \n",
       "3     Clothing       Gloves  Full-Finger Gloves, L  United Kingdom 2012-06-30   \n",
       "4     Clothing       Gloves  Full-Finger Gloves, M  United Kingdom 2012-06-30   \n",
       "\n",
       "   Quantity  Sales  Region  Year  \n",
       "0        14     69  Europe  2012  \n",
       "1         6     90  Europe  2012  \n",
       "2         8    182  Europe  2012  \n",
       "3        16    318  Europe  2012  \n",
       "4         7    160  Europe  2012  "
      ]
     },
     "execution_count": 107,
     "metadata": {},
     "output_type": "execute_result"
    }
   ],
   "source": [
    "#convert column datatype\n",
    "#df['Sales'] = df['Sales'].astype(int)\n",
    "df.head()"
   ]
  },
  {
   "cell_type": "code",
   "execution_count": 108,
   "id": "mathematical-lincoln",
   "metadata": {},
   "outputs": [],
   "source": [
    "df.to_excel('updateddf.xlsx', index=False)"
   ]
  },
  {
   "cell_type": "code",
   "execution_count": null,
   "id": "entertaining-award",
   "metadata": {},
   "outputs": [],
   "source": []
  }
 ],
 "metadata": {
  "kernelspec": {
   "display_name": "Python 3",
   "language": "python",
   "name": "python3"
  },
  "language_info": {
   "codemirror_mode": {
    "name": "ipython",
    "version": 3
   },
   "file_extension": ".py",
   "mimetype": "text/x-python",
   "name": "python",
   "nbconvert_exporter": "python",
   "pygments_lexer": "ipython3",
   "version": "3.7.3"
  }
 },
 "nbformat": 4,
 "nbformat_minor": 5
}
