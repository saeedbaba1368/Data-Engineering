{
 "cells": [
  {
   "cell_type": "markdown",
   "id": "bef0dc14",
   "metadata": {},
   "source": [
    "### Import libraries"
   ]
  },
  {
   "cell_type": "code",
   "execution_count": 1,
   "id": "141225b1",
   "metadata": {},
   "outputs": [],
   "source": [
    "import numpy as np \n",
    "import pandas as pd \n",
    "import matplotlib.pyplot as plt\n",
    "import seaborn as sns\n",
    "from collections import Counter\n",
    "%matplotlib inline\n",
    "plt.style.use('ggplot')"
   ]
  },
  {
   "cell_type": "markdown",
   "id": "0f58c96b",
   "metadata": {},
   "source": [
    "### Read data "
   ]
  },
  {
   "cell_type": "code",
   "execution_count": 2,
   "id": "f6f36bbc",
   "metadata": {},
   "outputs": [],
   "source": [
    "df = pd.read_csv('data/Social_Network_Ads.csv')"
   ]
  },
  {
   "cell_type": "code",
   "execution_count": 3,
   "id": "24253045",
   "metadata": {},
   "outputs": [
    {
     "data": {
      "text/html": [
       "<div>\n",
       "<style scoped>\n",
       "    .dataframe tbody tr th:only-of-type {\n",
       "        vertical-align: middle;\n",
       "    }\n",
       "\n",
       "    .dataframe tbody tr th {\n",
       "        vertical-align: top;\n",
       "    }\n",
       "\n",
       "    .dataframe thead th {\n",
       "        text-align: right;\n",
       "    }\n",
       "</style>\n",
       "<table border=\"1\" class=\"dataframe\">\n",
       "  <thead>\n",
       "    <tr style=\"text-align: right;\">\n",
       "      <th></th>\n",
       "      <th>User ID</th>\n",
       "      <th>Gender</th>\n",
       "      <th>Age</th>\n",
       "      <th>EstimatedSalary</th>\n",
       "      <th>Purchased</th>\n",
       "    </tr>\n",
       "  </thead>\n",
       "  <tbody>\n",
       "    <tr>\n",
       "      <th>0</th>\n",
       "      <td>15624510</td>\n",
       "      <td>Male</td>\n",
       "      <td>19</td>\n",
       "      <td>19000</td>\n",
       "      <td>0</td>\n",
       "    </tr>\n",
       "    <tr>\n",
       "      <th>1</th>\n",
       "      <td>15810944</td>\n",
       "      <td>Male</td>\n",
       "      <td>35</td>\n",
       "      <td>20000</td>\n",
       "      <td>0</td>\n",
       "    </tr>\n",
       "    <tr>\n",
       "      <th>2</th>\n",
       "      <td>15668575</td>\n",
       "      <td>Female</td>\n",
       "      <td>26</td>\n",
       "      <td>43000</td>\n",
       "      <td>0</td>\n",
       "    </tr>\n",
       "    <tr>\n",
       "      <th>3</th>\n",
       "      <td>15603246</td>\n",
       "      <td>Female</td>\n",
       "      <td>27</td>\n",
       "      <td>57000</td>\n",
       "      <td>0</td>\n",
       "    </tr>\n",
       "    <tr>\n",
       "      <th>4</th>\n",
       "      <td>15804002</td>\n",
       "      <td>Male</td>\n",
       "      <td>19</td>\n",
       "      <td>76000</td>\n",
       "      <td>0</td>\n",
       "    </tr>\n",
       "  </tbody>\n",
       "</table>\n",
       "</div>"
      ],
      "text/plain": [
       "    User ID  Gender  Age  EstimatedSalary  Purchased\n",
       "0  15624510    Male   19            19000          0\n",
       "1  15810944    Male   35            20000          0\n",
       "2  15668575  Female   26            43000          0\n",
       "3  15603246  Female   27            57000          0\n",
       "4  15804002    Male   19            76000          0"
      ]
     },
     "execution_count": 3,
     "metadata": {},
     "output_type": "execute_result"
    }
   ],
   "source": [
    "df.head()"
   ]
  },
  {
   "cell_type": "markdown",
   "id": "8813fc77",
   "metadata": {},
   "source": [
    "### Perform EDA"
   ]
  },
  {
   "cell_type": "code",
   "execution_count": null,
   "id": "ba59bc90",
   "metadata": {},
   "outputs": [],
   "source": [
    "df.info()"
   ]
  },
  {
   "cell_type": "code",
   "execution_count": null,
   "id": "85d0b672",
   "metadata": {},
   "outputs": [],
   "source": [
    "df.EstimatedSalary.unique()"
   ]
  },
  {
   "cell_type": "code",
   "execution_count": null,
   "id": "1999121d",
   "metadata": {},
   "outputs": [],
   "source": [
    "df.describe()"
   ]
  },
  {
   "cell_type": "code",
   "execution_count": null,
   "id": "ab315a99",
   "metadata": {},
   "outputs": [],
   "source": [
    "df.isnull().all()"
   ]
  },
  {
   "cell_type": "code",
   "execution_count": null,
   "id": "7d810950",
   "metadata": {},
   "outputs": [],
   "source": [
    "# Look at data distribution\n",
    "fig, axes = plt.subplots(2, 2, figsize=(15, 10))\n",
    "sns.boxplot(ax=axes[0,0],x= df['Age'])\n",
    "axes[0,0].set_title('Age Of People')\n",
    "sns.histplot(ax=axes[0,1],x='Age',data=df)\n",
    "axes[0,1].set_title('Distribution Of Ages')\n",
    "\n",
    "sns.boxplot(ax=axes[1,0],data = df['EstimatedSalary'])\n",
    "axes[1,0].set_title('Estimated Salary Of People')\n",
    "sns.histplot(ax=axes[1,1],x='EstimatedSalary',data=df)\n",
    "axes[1,1].set_title('Distribution Of Estimated Salary')\n",
    "plt.show()"
   ]
  },
  {
   "cell_type": "code",
   "execution_count": null,
   "id": "514db942",
   "metadata": {},
   "outputs": [],
   "source": [
    "fig ,axes = plt.subplots(1,2, figsize=(15,5))\n",
    "sns.countplot(ax=axes[0],x='Purchased',data=df)\n",
    "axes[0].set_title('Overall Number Of Purchases')\n",
    "sns.countplot(ax=axes[1],x='Purchased',hue='Gender',data=df)\n",
    "axes[1].set_title('Number Of Purchases By Gender')\n",
    "plt.show()"
   ]
  },
  {
   "cell_type": "code",
   "execution_count": 6,
   "id": "2c9835e2",
   "metadata": {},
   "outputs": [],
   "source": [
    "df.loc[(df.Age >= 18) & (df.Age < 26), 'AgeGroup'] = '18-25'\n",
    "df.loc[(df.Age >= 26) & (df.Age < 36), 'AgeGroup'] = '26-35'\n",
    "df.loc[(df.Age >= 36) & (df.Age < 46), 'AgeGroup'] = '36-45'\n",
    "df.loc[(df.Age >= 46) & (df.Age < 55), 'AgeGroup'] = '46-55'\n",
    "df.loc[(df.Age > 55) , 'AgeGroup'] = 'over-55'"
   ]
  },
  {
   "cell_type": "code",
   "execution_count": 7,
   "id": "b51a15f0",
   "metadata": {},
   "outputs": [],
   "source": [
    "df.loc[(df.EstimatedSalary >= 15000) & (df.Age <= 30000), 'SalaryGroup'] = '15-30K'\n",
    "df.loc[(df.EstimatedSalary > 30000) & (df.Age <= 50000), 'SalaryGroup'] = '31-50K'\n",
    "df.loc[(df.EstimatedSalary > 50000) & (df.Age <= 70000), 'SalaryGroup'] = '51-70K'\n",
    "df.loc[(df.EstimatedSalary > 70000) & (df.Age <= 90000), 'SalaryGroup'] = '71-90K'\n",
    "df.loc[(df.EstimatedSalary > 90000) & (df.Age <= 120000), 'SalaryGroup'] = '91-120K'\n",
    "df.loc[df.EstimatedSalary > 120000, 'SalaryGroup'] = '120K-Over'"
   ]
  },
  {
   "cell_type": "code",
   "execution_count": 8,
   "id": "a89e9a0f",
   "metadata": {},
   "outputs": [
    {
     "data": {
      "image/png": "[encoded data removed]",
      "text/plain": [
       "<Figure size 1080x360 with 2 Axes>"
      ]
     },
     "metadata": {},
     "output_type": "display_data"
    }
   ],
   "source": [
    "fig ,axes = plt.subplots(1,2, figsize=(15,5))\n",
    "sns.countplot(ax=axes[0],x='Purchased',hue='AgeGroup',data=df)\n",
    "axes[0].set_title('Number Of Purchases By Age')\n",
    "sns.countplot(ax=axes[1],x='Purchased',hue='SalaryGroup',data=df)\n",
    "axes[1].set_title('Number Of Purchases By Salary')\n",
    "plt.show()"
   ]
  },
  {
   "cell_type": "markdown",
   "id": "9c45be6f",
   "metadata": {
    "heading_collapsed": true
   },
   "source": [
    "### Plot logistic s-shape curve"
   ]
  },
  {
   "cell_type": "code",
   "execution_count": 4,
   "id": "59021ff6",
   "metadata": {
    "hidden": true
   },
   "outputs": [
    {
     "data": {
      "text/plain": [
       "<AxesSubplot:xlabel='Age', ylabel='Purchased'>"
      ]
     },
     "execution_count": 4,
     "metadata": {},
     "output_type": "execute_result"
    },
    {
     "data": {
      "image/png": "[encoded data removed]",
      "text/plain": [
       "<Figure size 864x432 with 1 Axes>"
      ]
     },
     "metadata": {},
     "output_type": "display_data"
    }
   ],
   "source": [
    "plt.figure(figsize=(12,6))\n",
    "sns.regplot(x=df['Age'], y=df['Purchased'], data=df, ci=None)"
   ]
  },
  {
   "cell_type": "code",
   "execution_count": 5,
   "id": "f1ede499",
   "metadata": {
    "hidden": true
   },
   "outputs": [
    {
     "data": {
      "text/plain": [
       "<AxesSubplot:xlabel='Age', ylabel='Purchased'>"
      ]
     },
     "execution_count": 5,
     "metadata": {},
     "output_type": "execute_result"
    },
    {
     "data": {
      "image/png": "[encoded data removed]",
      "text/plain": [
       "<Figure size 864x432 with 1 Axes>"
      ]
     },
     "metadata": {},
     "output_type": "display_data"
    }
   ],
   "source": [
    "plt.figure(figsize=(12,6))\n",
    "sns.regplot(x=df['Age'], y=df['Purchased'], data=df, logistic=True, ci=None)"
   ]
  },
  {
   "cell_type": "markdown",
   "id": "5dde85f3",
   "metadata": {},
   "source": [
    "### Let's cleanup and prepare data"
   ]
  },
  {
   "cell_type": "code",
   "execution_count": 9,
   "id": "98400194",
   "metadata": {},
   "outputs": [],
   "source": [
    "# Drop user ID. Plus Convert categorical to numeric. \n",
    "df.drop(columns=['User ID','AgeGroup','SalaryGroup'],axis = 1, inplace = True)\n",
    "label = {'Male': 0 ,\"Female\" : 1}\n",
    "df['Gender'].replace(label, inplace= True)"
   ]
  },
  {
   "cell_type": "code",
   "execution_count": 10,
   "id": "e810cebf",
   "metadata": {},
   "outputs": [],
   "source": [
    "# set inputs variables; X and y\n",
    "X = df.drop('Purchased',axis = 1)     \n",
    "y = df['Purchased']"
   ]
  },
  {
   "cell_type": "code",
   "execution_count": 11,
   "id": "9ef99f24",
   "metadata": {},
   "outputs": [
    {
     "data": {
      "text/html": [
       "<div>\n",
       "<style scoped>\n",
       "    .dataframe tbody tr th:only-of-type {\n",
       "        vertical-align: middle;\n",
       "    }\n",
       "\n",
       "    .dataframe tbody tr th {\n",
       "        vertical-align: top;\n",
       "    }\n",
       "\n",
       "    .dataframe thead th {\n",
       "        text-align: right;\n",
       "    }\n",
       "</style>\n",
       "<table border=\"1\" class=\"dataframe\">\n",
       "  <thead>\n",
       "    <tr style=\"text-align: right;\">\n",
       "      <th></th>\n",
       "      <th>Gender</th>\n",
       "      <th>Age</th>\n",
       "      <th>EstimatedSalary</th>\n",
       "    </tr>\n",
       "  </thead>\n",
       "  <tbody>\n",
       "    <tr>\n",
       "      <th>0</th>\n",
       "      <td>0</td>\n",
       "      <td>19</td>\n",
       "      <td>19000</td>\n",
       "    </tr>\n",
       "    <tr>\n",
       "      <th>1</th>\n",
       "      <td>0</td>\n",
       "      <td>35</td>\n",
       "      <td>20000</td>\n",
       "    </tr>\n",
       "    <tr>\n",
       "      <th>2</th>\n",
       "      <td>1</td>\n",
       "      <td>26</td>\n",
       "      <td>43000</td>\n",
       "    </tr>\n",
       "    <tr>\n",
       "      <th>3</th>\n",
       "      <td>1</td>\n",
       "      <td>27</td>\n",
       "      <td>57000</td>\n",
       "    </tr>\n",
       "    <tr>\n",
       "      <th>4</th>\n",
       "      <td>0</td>\n",
       "      <td>19</td>\n",
       "      <td>76000</td>\n",
       "    </tr>\n",
       "  </tbody>\n",
       "</table>\n",
       "</div>"
      ],
      "text/plain": [
       "   Gender  Age  EstimatedSalary\n",
       "0       0   19            19000\n",
       "1       0   35            20000\n",
       "2       1   26            43000\n",
       "3       1   27            57000\n",
       "4       0   19            76000"
      ]
     },
     "execution_count": 11,
     "metadata": {},
     "output_type": "execute_result"
    }
   ],
   "source": [
    "X.head()"
   ]
  },
  {
   "cell_type": "code",
   "execution_count": 12,
   "id": "b4021afc",
   "metadata": {},
   "outputs": [
    {
     "data": {
      "text/html": [
       "<div>\n",
       "<style scoped>\n",
       "    .dataframe tbody tr th:only-of-type {\n",
       "        vertical-align: middle;\n",
       "    }\n",
       "\n",
       "    .dataframe tbody tr th {\n",
       "        vertical-align: top;\n",
       "    }\n",
       "\n",
       "    .dataframe thead th {\n",
       "        text-align: right;\n",
       "    }\n",
       "</style>\n",
       "<table border=\"1\" class=\"dataframe\">\n",
       "  <thead>\n",
       "    <tr style=\"text-align: right;\">\n",
       "      <th></th>\n",
       "      <th>0</th>\n",
       "      <th>1</th>\n",
       "      <th>2</th>\n",
       "    </tr>\n",
       "  </thead>\n",
       "  <tbody>\n",
       "    <tr>\n",
       "      <th>0</th>\n",
       "      <td>-1.020204</td>\n",
       "      <td>-1.781797</td>\n",
       "      <td>-1.490046</td>\n",
       "    </tr>\n",
       "    <tr>\n",
       "      <th>1</th>\n",
       "      <td>-1.020204</td>\n",
       "      <td>-0.253587</td>\n",
       "      <td>-1.460681</td>\n",
       "    </tr>\n",
       "    <tr>\n",
       "      <th>2</th>\n",
       "      <td>0.980196</td>\n",
       "      <td>-1.113206</td>\n",
       "      <td>-0.785290</td>\n",
       "    </tr>\n",
       "    <tr>\n",
       "      <th>3</th>\n",
       "      <td>0.980196</td>\n",
       "      <td>-1.017692</td>\n",
       "      <td>-0.374182</td>\n",
       "    </tr>\n",
       "    <tr>\n",
       "      <th>4</th>\n",
       "      <td>-1.020204</td>\n",
       "      <td>-1.781797</td>\n",
       "      <td>0.183751</td>\n",
       "    </tr>\n",
       "  </tbody>\n",
       "</table>\n",
       "</div>"
      ],
      "text/plain": [
       "          0         1         2\n",
       "0 -1.020204 -1.781797 -1.490046\n",
       "1 -1.020204 -0.253587 -1.460681\n",
       "2  0.980196 -1.113206 -0.785290\n",
       "3  0.980196 -1.017692 -0.374182\n",
       "4 -1.020204 -1.781797  0.183751"
      ]
     },
     "execution_count": 12,
     "metadata": {},
     "output_type": "execute_result"
    }
   ],
   "source": [
    "# we have to scale the data for better result\n",
    "from sklearn.preprocessing import StandardScaler\n",
    "\n",
    "scaler = StandardScaler()\n",
    "d_scaled = scaler.fit_transform(X)\n",
    "data_scaled1 = pd.DataFrame(d_scaled)\n",
    "data_scaled1.head()"
   ]
  },
  {
   "cell_type": "code",
   "execution_count": 13,
   "id": "97ca0337",
   "metadata": {},
   "outputs": [],
   "source": [
    "#Split data into test and training dataset\n",
    "from sklearn.model_selection import train_test_split\n",
    "X_train,X_test,y_train,y_test = train_test_split(d_scaled,y,test_size=0.20,random_state=42)"
   ]
  },
  {
   "cell_type": "markdown",
   "id": "18d65036",
   "metadata": {},
   "source": [
    "### Create Logistic Regression model and train it"
   ]
  },
  {
   "cell_type": "code",
   "execution_count": 14,
   "id": "4cd243f3",
   "metadata": {},
   "outputs": [],
   "source": [
    "#build the model from logisticRegresion.\n",
    "from sklearn.linear_model import LogisticRegression\n",
    "#model object\n",
    "model = LogisticRegression(C=0.1,max_iter = 500)\n",
    "#train the model with train datasets\n",
    "model.fit(X_train,y_train)\n",
    "#Predict based on the test dataset\n",
    "y_pred = model.predict(X_test)"
   ]
  },
  {
   "cell_type": "code",
   "execution_count": null,
   "id": "3014340b",
   "metadata": {},
   "outputs": [],
   "source": [
    "print(f'Weight Coefficient : {model.coef_}')\n",
    "print(f'Bias : {model.intercept_}')"
   ]
  },
  {
   "cell_type": "markdown",
   "id": "9b088fd6",
   "metadata": {},
   "source": [
    "### Check Prediction Results"
   ]
  },
  {
   "cell_type": "code",
   "execution_count": 15,
   "id": "2a8084a7",
   "metadata": {},
   "outputs": [
    {
     "name": "stdout",
     "output_type": "stream",
     "text": [
      "Test accuracy: 0.8625\n",
      "Train accuracy: 0.8125\n"
     ]
    }
   ],
   "source": [
    "print(f'Test accuracy: {model.score(X_test,y_test)}')\n",
    "print(f'Train accuracy: {model.score(X_train,y_train)}')"
   ]
  },
  {
   "cell_type": "code",
   "execution_count": 18,
   "id": "d3c8ef1f",
   "metadata": {},
   "outputs": [],
   "source": [
    "from sklearn.metrics import accuracy_score, precision_score, recall_score, f1_score"
   ]
  },
  {
   "cell_type": "code",
   "execution_count": 19,
   "id": "12c1aa41",
   "metadata": {},
   "outputs": [
    {
     "data": {
      "text/plain": [
       "array([[50,  2],\n",
       "       [ 9, 19]], dtype=int64)"
      ]
     },
     "execution_count": 19,
     "metadata": {},
     "output_type": "execute_result"
    }
   ],
   "source": [
    "from sklearn.metrics import confusion_matrix\n",
    "\n",
    "#Check the prediction results with confusion matrix\n",
    "score = f1_score(y_test,y_pred)\n",
    "cm = confusion_matrix(y_test, y_pred)\n",
    "cm"
   ]
  },
  {
   "cell_type": "markdown",
   "id": "0cf77574",
   "metadata": {},
   "source": [
    "### Our model has 86 percent accuracy. This rate can be increased by changing some parameters."
   ]
  },
  {
   "cell_type": "code",
   "execution_count": 20,
   "id": "9fc01c89",
   "metadata": {},
   "outputs": [
    {
     "data": {
      "image/png": "[encoded data removed]",
      "text/plain": [
       "<Figure size 648x648 with 2 Axes>"
      ]
     },
     "metadata": {},
     "output_type": "display_data"
    }
   ],
   "source": [
    "plt.figure(figsize=(9,9))\n",
    "sns.heatmap(cm, annot=True, fmt=\".3f\", linewidths=.5, square = True, cmap = 'Blues_r');\n",
    "plt.ylabel('Actual label');\n",
    "plt.xlabel('Predicted label');\n",
    "all_sample_title = 'Accuracy Score: {0}'.format(score)\n",
    "plt.title(all_sample_title, size = 15);"
   ]
  },
  {
   "cell_type": "code",
   "execution_count": 21,
   "id": "5dfe2280",
   "metadata": {},
   "outputs": [
    {
     "data": {
      "image/png": "[encoded data removed]",
      "text/plain": [
       "<IPython.core.display.Image object>"
      ]
     },
     "execution_count": 21,
     "metadata": {},
     "output_type": "execute_result"
    }
   ],
   "source": [
    "# Get confusion matrix image\n",
    "from IPython.display import Image\n",
    "Image(filename=r'C:\\Users\\haq\\Videos\\thumbnails\\confusionmatrix.png') "
   ]
  },
  {
   "cell_type": "markdown",
   "id": "aaafdc9a",
   "metadata": {},
   "source": [
    "True Positive:\n",
    "Interpretation: You predicted positive and it’s true.\n",
    "\n",
    "True Negative:\n",
    "Interpretation: You predicted negative and it’s true.\n",
    "\n",
    "False Positive: (Type 1 Error )\n",
    "Interpretation: You predicted positive and it’s false.\n",
    "\n",
    "False Negative: (Type 2 Error)\n",
    "Interpretation: You predicted negative and it’s false."
   ]
  },
  {
   "cell_type": "code",
   "execution_count": null,
   "id": "a27cf2cf",
   "metadata": {},
   "outputs": [],
   "source": []
  }
 ],
 "metadata": {
  "kernelspec": {
   "display_name": "Python 3 (ipykernel)",
   "language": "python",
   "name": "python3"
  },
  "language_info": {
   "codemirror_mode": {
    "name": "ipython",
    "version": 3
   },
   "file_extension": ".py",
   "mimetype": "text/x-python",
   "name": "python",
   "nbconvert_exporter": "python",
   "pygments_lexer": "ipython3",
   "version": "3.9.7"
  }
 },
 "nbformat": 4,
 "nbformat_minor": 5
}
