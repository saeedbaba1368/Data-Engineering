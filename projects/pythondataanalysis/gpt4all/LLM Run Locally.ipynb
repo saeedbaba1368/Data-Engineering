{
 "cells": [
  {
   "cell_type": "code",
   "execution_count": 1,
   "id": "ba06a167",
   "metadata": {},
   "outputs": [],
   "source": [
    "from gpt4all import GPT4All"
   ]
  },
  {
   "cell_type": "code",
   "execution_count": 2,
   "id": "d1a786bc",
   "metadata": {},
   "outputs": [
    {
     "name": "stdout",
     "output_type": "stream",
     "text": [
      "Found model file.\n"
     ]
    }
   ],
   "source": [
    "gpt = GPT4All(\"ggml-gpt4all-l13b-snoozy.bin\")"
   ]
  },
  {
   "cell_type": "code",
   "execution_count": 3,
   "id": "5cac57d5",
   "metadata": {},
   "outputs": [],
   "source": [
    "messages = [{\"role\": \"user\", \"content\": \"What is the SQL SELECT command and provide an example of how to use it\"}]"
   ]
  },
  {
   "cell_type": "code",
   "execution_count": 4,
   "id": "46cfd210",
   "metadata": {},
   "outputs": [
    {
     "name": "stdout",
     "output_type": "stream",
     "text": [
      "### Instruction: \n",
      "            The prompt below is a question to answer, a task to complete, or a conversation \n",
      "            to respond to; decide which and write an appropriate response.\n",
      "            \n",
      "### Prompt: \n",
      "What is the SQL SELECT command and provide an example of how to use it\n",
      "### Response:\n",
      " The SQL SELECT command is used to retrieve data from a database table. It allows you to specify which columns and rows of data should be returned. Here is an example:```sqlSELECT * FROM customers;```This command will retrieve all columns and rows of data from the \"customers\" table.\n"
     ]
    }
   ],
   "source": [
    "response = gpt.chat_completion(messages)"
   ]
  },
  {
   "cell_type": "code",
   "execution_count": 8,
   "id": "ec2e0e07",
   "metadata": {},
   "outputs": [
    {
     "data": {
      "text/plain": [
       "' The SQL SELECT command is used to retrieve data from a database table. It allows you to specify which columns and rows of data should be returned. Here is an example:```sqlSELECT * FROM customers;```This command will retrieve all columns and rows of data from the \"customers\" table.'"
      ]
     },
     "execution_count": 8,
     "metadata": {},
     "output_type": "execute_result"
    }
   ],
   "source": [
    "response['choices'][0]['message']['content']"
   ]
  },
  {
   "cell_type": "code",
   "execution_count": null,
   "id": "90bff95f",
   "metadata": {},
   "outputs": [],
   "source": []
  }
 ],
 "metadata": {
  "kernelspec": {
   "display_name": "Python 3 (ipykernel)",
   "language": "python",
   "name": "python3"
  },
  "language_info": {
   "codemirror_mode": {
    "name": "ipython",
    "version": 3
   },
   "file_extension": ".py",
   "mimetype": "text/x-python",
   "name": "python",
   "nbconvert_exporter": "python",
   "pygments_lexer": "ipython3",
   "version": "3.9.13"
  }
 },
 "nbformat": 4,
 "nbformat_minor": 5
}
