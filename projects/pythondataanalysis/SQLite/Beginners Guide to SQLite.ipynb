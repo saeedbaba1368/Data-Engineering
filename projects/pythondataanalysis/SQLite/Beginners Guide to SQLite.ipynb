{
 "cells": [
  {
   "cell_type": "code",
   "execution_count": 1,
   "id": "partial-closing",
   "metadata": {},
   "outputs": [],
   "source": [
    "#import libraries\n",
    "import pandas as pd\n",
    "import sqlite3 as db"
   ]
  },
  {
   "cell_type": "code",
   "execution_count": 2,
   "id": "contained-kernel",
   "metadata": {},
   "outputs": [],
   "source": [
    "conn = db.connect('sqlite.db')"
   ]
  },
  {
   "cell_type": "code",
   "execution_count": 3,
   "id": "tender-willow",
   "metadata": {},
   "outputs": [],
   "source": [
    "cn = conn.cursor()"
   ]
  },
  {
   "cell_type": "code",
   "execution_count": null,
   "id": "broadband-tumor",
   "metadata": {},
   "outputs": [],
   "source": [
    "#DROP TABLE table_name;\n",
    "cn.execute(\"DROP TABLE employees\")"
   ]
  },
  {
   "cell_type": "code",
   "execution_count": null,
   "id": "moderate-stephen",
   "metadata": {},
   "outputs": [],
   "source": [
    "cn.execute(\"CREATE TABLE employees (empid INTEGER PRIMARY KEY, firstname NVARCHAR(50), lastname NVARCHAR(50))\")"
   ]
  },
  {
   "cell_type": "code",
   "execution_count": 4,
   "id": "alert-barrier",
   "metadata": {},
   "outputs": [
    {
     "name": "stdout",
     "output_type": "stream",
     "text": [
      "[('employees',)]\n"
     ]
    }
   ],
   "source": [
    "cn.execute(\"SELECT name FROM sqlite_master WHERE type='table';\")\n",
    "print(cn.fetchall())"
   ]
  },
  {
   "cell_type": "code",
   "execution_count": null,
   "id": "inclusive-looking",
   "metadata": {},
   "outputs": [],
   "source": [
    "cn.execute(\"INSERT INTO employees VALUES (1,'John','Doe')\")\n",
    "cn.execute(\"INSERT INTO employees VALUES (2,'Jason','Hale')\")\n",
    "cn.execute(\"INSERT INTO employees VALUES (3,'Sam','Billing')\")"
   ]
  },
  {
   "cell_type": "code",
   "execution_count": 5,
   "id": "hindu-vietnam",
   "metadata": {},
   "outputs": [
    {
     "name": "stdout",
     "output_type": "stream",
     "text": [
      "[(0, 1, 'John', 'Doe'), (1, 2, 'Jason', 'Hale'), (2, 3, 'Sam', 'Billing'), (3, 4, 'Gustavo', 'Achong'), (4, 5, 'Kim', 'Abercrombie'), (5, 6, 'Pilar', 'Bernard'), (6, 7, 'Frances', 'Adams'), (7, 8, 'Margaret', 'Smith'), (8, 9, 'Angela', 'Adams')]\n"
     ]
    }
   ],
   "source": [
    "cn.execute(\"SELECT * FROM employees;\")\n",
    "print(cn.fetchall())"
   ]
  },
  {
   "cell_type": "code",
   "execution_count": null,
   "id": "useful-alliance",
   "metadata": {},
   "outputs": [],
   "source": [
    "new_employees = [(4, 'Gustavo', 'Achong'),\n",
    " (5, 'Kim', 'Abercrombie'),\n",
    " (6, 'Pilar', 'Bernard'),\n",
    " (7, 'Frances', 'Adams'),\n",
    " (8, 'Margaret', 'Smith'),\n",
    " (9, 'Angela', 'Adams'),\n",
    " (10, 'Samuel', 'Agcaoili')]\n",
    "cn.executemany('INSERT INTO employees VALUES (?, ?, ?)', new_employees)"
   ]
  },
  {
   "cell_type": "code",
   "execution_count": 6,
   "id": "looking-advisory",
   "metadata": {},
   "outputs": [
    {
     "name": "stdout",
     "output_type": "stream",
     "text": [
      "[(0, 1, 'John', 'Doe'), (1, 2, 'Jason', 'Hale'), (2, 3, 'Sam', 'Billing'), (3, 4, 'Gustavo', 'Achong'), (4, 5, 'Kim', 'Abercrombie'), (5, 6, 'Pilar', 'Bernard'), (6, 7, 'Frances', 'Adams'), (7, 8, 'Margaret', 'Smith'), (8, 9, 'Angela', 'Adams')]\n"
     ]
    }
   ],
   "source": [
    "cn.execute(\"SELECT * FROM employees;\")\n",
    "print(cn.fetchall())"
   ]
  },
  {
   "cell_type": "code",
   "execution_count": null,
   "id": "featured-bleeding",
   "metadata": {},
   "outputs": [],
   "source": [
    "conn.commit()"
   ]
  },
  {
   "cell_type": "code",
   "execution_count": null,
   "id": "valid-registrar",
   "metadata": {},
   "outputs": [],
   "source": [
    "cn.close()\n",
    "conn.close()"
   ]
  },
  {
   "cell_type": "code",
   "execution_count": 7,
   "id": "average-latino",
   "metadata": {},
   "outputs": [],
   "source": [
    "con = db.connect('sqlite.db')\n",
    "df_employees = pd.read_sql_query('select * from employees', con)"
   ]
  },
  {
   "cell_type": "code",
   "execution_count": 8,
   "id": "accomplished-antigua",
   "metadata": {},
   "outputs": [
    {
     "data": {
      "text/html": [
       "<div>\n",
       "<style scoped>\n",
       "    .dataframe tbody tr th:only-of-type {\n",
       "        vertical-align: middle;\n",
       "    }\n",
       "\n",
       "    .dataframe tbody tr th {\n",
       "        vertical-align: top;\n",
       "    }\n",
       "\n",
       "    .dataframe thead th {\n",
       "        text-align: right;\n",
       "    }\n",
       "</style>\n",
       "<table border=\"1\" class=\"dataframe\">\n",
       "  <thead>\n",
       "    <tr style=\"text-align: right;\">\n",
       "      <th></th>\n",
       "      <th>index</th>\n",
       "      <th>empid</th>\n",
       "      <th>firstname</th>\n",
       "      <th>lastname</th>\n",
       "    </tr>\n",
       "  </thead>\n",
       "  <tbody>\n",
       "    <tr>\n",
       "      <th>0</th>\n",
       "      <td>0</td>\n",
       "      <td>1</td>\n",
       "      <td>John</td>\n",
       "      <td>Doe</td>\n",
       "    </tr>\n",
       "    <tr>\n",
       "      <th>1</th>\n",
       "      <td>1</td>\n",
       "      <td>2</td>\n",
       "      <td>Jason</td>\n",
       "      <td>Hale</td>\n",
       "    </tr>\n",
       "    <tr>\n",
       "      <th>2</th>\n",
       "      <td>2</td>\n",
       "      <td>3</td>\n",
       "      <td>Sam</td>\n",
       "      <td>Billing</td>\n",
       "    </tr>\n",
       "    <tr>\n",
       "      <th>3</th>\n",
       "      <td>3</td>\n",
       "      <td>4</td>\n",
       "      <td>Gustavo</td>\n",
       "      <td>Achong</td>\n",
       "    </tr>\n",
       "    <tr>\n",
       "      <th>4</th>\n",
       "      <td>4</td>\n",
       "      <td>5</td>\n",
       "      <td>Kim</td>\n",
       "      <td>Abercrombie</td>\n",
       "    </tr>\n",
       "    <tr>\n",
       "      <th>5</th>\n",
       "      <td>5</td>\n",
       "      <td>6</td>\n",
       "      <td>Pilar</td>\n",
       "      <td>Bernard</td>\n",
       "    </tr>\n",
       "    <tr>\n",
       "      <th>6</th>\n",
       "      <td>6</td>\n",
       "      <td>7</td>\n",
       "      <td>Frances</td>\n",
       "      <td>Adams</td>\n",
       "    </tr>\n",
       "    <tr>\n",
       "      <th>7</th>\n",
       "      <td>7</td>\n",
       "      <td>8</td>\n",
       "      <td>Margaret</td>\n",
       "      <td>Smith</td>\n",
       "    </tr>\n",
       "    <tr>\n",
       "      <th>8</th>\n",
       "      <td>8</td>\n",
       "      <td>9</td>\n",
       "      <td>Angela</td>\n",
       "      <td>Adams</td>\n",
       "    </tr>\n",
       "  </tbody>\n",
       "</table>\n",
       "</div>"
      ],
      "text/plain": [
       "   index  empid firstname     lastname\n",
       "0      0      1      John          Doe\n",
       "1      1      2     Jason         Hale\n",
       "2      2      3       Sam      Billing\n",
       "3      3      4   Gustavo       Achong\n",
       "4      4      5       Kim  Abercrombie\n",
       "5      5      6     Pilar      Bernard\n",
       "6      6      7   Frances        Adams\n",
       "7      7      8  Margaret        Smith\n",
       "8      8      9    Angela        Adams"
      ]
     },
     "execution_count": 8,
     "metadata": {},
     "output_type": "execute_result"
    }
   ],
   "source": [
    "df_employees"
   ]
  },
  {
   "cell_type": "code",
   "execution_count": 9,
   "id": "rolled-concert",
   "metadata": {},
   "outputs": [],
   "source": [
    "df_new = df_employees[:-1]"
   ]
  },
  {
   "cell_type": "code",
   "execution_count": null,
   "id": "lesser-compact",
   "metadata": {},
   "outputs": [],
   "source": [
    "df_new"
   ]
  },
  {
   "cell_type": "code",
   "execution_count": null,
   "id": "golden-actor",
   "metadata": {},
   "outputs": [],
   "source": [
    "df_new.to_sql(\"employees\", con, if_exists=\"replace\")"
   ]
  },
  {
   "cell_type": "code",
   "execution_count": null,
   "id": "labeled-oakland",
   "metadata": {},
   "outputs": [],
   "source": [
    "pd.read_sql_query ('select * from employees', con)"
   ]
  },
  {
   "cell_type": "code",
   "execution_count": 10,
   "id": "developing-dominican",
   "metadata": {},
   "outputs": [],
   "source": [
    "con.close()"
   ]
  },
  {
   "cell_type": "code",
   "execution_count": null,
   "id": "demographic-gravity",
   "metadata": {},
   "outputs": [],
   "source": [
    "#end of notebook"
   ]
  }
 ],
 "metadata": {
  "kernelspec": {
   "display_name": "Python 3",
   "language": "python",
   "name": "python3"
  },
  "language_info": {
   "codemirror_mode": {
    "name": "ipython",
    "version": 3
   },
   "file_extension": ".py",
   "mimetype": "text/x-python",
   "name": "python",
   "nbconvert_exporter": "python",
   "pygments_lexer": "ipython3",
   "version": "3.7.3"
  }
 },
 "nbformat": 4,
 "nbformat_minor": 5
}
