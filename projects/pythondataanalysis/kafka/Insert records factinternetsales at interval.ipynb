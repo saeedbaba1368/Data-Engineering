{
 "cells": [
  {
   "cell_type": "markdown",
   "id": "69c04aa0",
   "metadata": {},
   "source": [
    "### Import libs & db details"
   ]
  },
  {
   "cell_type": "code",
   "execution_count": 1,
   "id": "48f28def",
   "metadata": {},
   "outputs": [],
   "source": [
    "#import needed libraries\n",
    "from sqlalchemy import create_engine\n",
    "import pandas as pd\n",
    "import os\n",
    "import time\n",
    "#get password from environmnet var\n",
    "pwd = os.environ['PGPASS']\n",
    "uid = os.environ['PGUID']\n",
    "server = \"localhost\"\n",
    "db = \"AdventureWorks\"\n",
    "port = \"5432\"\n",
    "#\n",
    "engine = create_engine(f'postgresql://{uid}:{pwd}@{server}:{port}/{db}')"
   ]
  },
  {
   "cell_type": "markdown",
   "id": "8df55451",
   "metadata": {},
   "source": [
    "### Read data from histroy table"
   ]
  },
  {
   "cell_type": "code",
   "execution_count": 2,
   "id": "962e92e9",
   "metadata": {},
   "outputs": [
    {
     "data": {
      "text/html": [
       "<div>\n",
       "<style scoped>\n",
       "    .dataframe tbody tr th:only-of-type {\n",
       "        vertical-align: middle;\n",
       "    }\n",
       "\n",
       "    .dataframe tbody tr th {\n",
       "        vertical-align: top;\n",
       "    }\n",
       "\n",
       "    .dataframe thead th {\n",
       "        text-align: right;\n",
       "    }\n",
       "</style>\n",
       "<table border=\"1\" class=\"dataframe\">\n",
       "  <thead>\n",
       "    <tr style=\"text-align: right;\">\n",
       "      <th></th>\n",
       "      <th>productkey</th>\n",
       "      <th>customerkey</th>\n",
       "      <th>salesterritorykey</th>\n",
       "      <th>salesordernumber</th>\n",
       "      <th>totalproductcost</th>\n",
       "      <th>salesamount</th>\n",
       "    </tr>\n",
       "  </thead>\n",
       "  <tbody>\n",
       "    <tr>\n",
       "      <th>0</th>\n",
       "      <td>310</td>\n",
       "      <td>21768</td>\n",
       "      <td>6</td>\n",
       "      <td>SO43697</td>\n",
       "      <td>2171.2942</td>\n",
       "      <td>3578.2700</td>\n",
       "    </tr>\n",
       "    <tr>\n",
       "      <th>1</th>\n",
       "      <td>346</td>\n",
       "      <td>28389</td>\n",
       "      <td>7</td>\n",
       "      <td>SO43698</td>\n",
       "      <td>1912.1544</td>\n",
       "      <td>3399.9900</td>\n",
       "    </tr>\n",
       "    <tr>\n",
       "      <th>2</th>\n",
       "      <td>346</td>\n",
       "      <td>25863</td>\n",
       "      <td>1</td>\n",
       "      <td>SO43699</td>\n",
       "      <td>1912.1544</td>\n",
       "      <td>3399.9900</td>\n",
       "    </tr>\n",
       "    <tr>\n",
       "      <th>3</th>\n",
       "      <td>336</td>\n",
       "      <td>14501</td>\n",
       "      <td>4</td>\n",
       "      <td>SO43700</td>\n",
       "      <td>413.1463</td>\n",
       "      <td>699.0982</td>\n",
       "    </tr>\n",
       "    <tr>\n",
       "      <th>4</th>\n",
       "      <td>346</td>\n",
       "      <td>11003</td>\n",
       "      <td>9</td>\n",
       "      <td>SO43701</td>\n",
       "      <td>1912.1544</td>\n",
       "      <td>3399.9900</td>\n",
       "    </tr>\n",
       "  </tbody>\n",
       "</table>\n",
       "</div>"
      ],
      "text/plain": [
       "   productkey  customerkey  salesterritorykey salesordernumber  \\\n",
       "0         310        21768                  6          SO43697   \n",
       "1         346        28389                  7          SO43698   \n",
       "2         346        25863                  1          SO43699   \n",
       "3         336        14501                  4          SO43700   \n",
       "4         346        11003                  9          SO43701   \n",
       "\n",
       "   totalproductcost  salesamount  \n",
       "0         2171.2942    3578.2700  \n",
       "1         1912.1544    3399.9900  \n",
       "2         1912.1544    3399.9900  \n",
       "3          413.1463     699.0982  \n",
       "4         1912.1544    3399.9900  "
      ]
     },
     "execution_count": 2,
     "metadata": {},
     "output_type": "execute_result"
    }
   ],
   "source": [
    "df = pd.read_sql('Select * from public.factinternetsales', engine)\n",
    "df = df[['productkey', 'customerkey', 'salesterritorykey', 'salesordernumber', 'totalproductcost', 'salesamount']]\n",
    "df.head()"
   ]
  },
  {
   "cell_type": "markdown",
   "id": "f424d449",
   "metadata": {},
   "source": [
    "### Insert data into FactInernetSales"
   ]
  },
  {
   "cell_type": "code",
   "execution_count": null,
   "id": "27f982cd",
   "metadata": {},
   "outputs": [
    {
     "name": "stdout",
     "output_type": "stream",
     "text": [
      "0    Row Inserted SO43697 3578.27\n",
      "dtype: object\n"
     ]
    }
   ],
   "source": [
    "for index, row in df.head(1).iterrows():\n",
    "    mod = pd.DataFrame(row.to_frame().T)\n",
    "    mod.to_sql(f\"factinternetsales_streaming\", engine, if_exists='append', index=False)\n",
    "    print(\"Row Inserted \" + mod.salesordernumber.astype(str) + ' ' + mod.salesamount.astype(str).astype(str))\n",
    "    time.sleep(3)"
   ]
  },
  {
   "cell_type": "code",
   "execution_count": null,
   "id": "032036be",
   "metadata": {},
   "outputs": [],
   "source": []
  }
 ],
 "metadata": {
  "kernelspec": {
   "display_name": "Python 3 (ipykernel)",
   "language": "python",
   "name": "python3"
  },
  "language_info": {
   "codemirror_mode": {
    "name": "ipython",
    "version": 3
   },
   "file_extension": ".py",
   "mimetype": "text/x-python",
   "name": "python",
   "nbconvert_exporter": "python",
   "pygments_lexer": "ipython3",
   "version": "3.9.13"
  }
 },
 "nbformat": 4,
 "nbformat_minor": 5
}
