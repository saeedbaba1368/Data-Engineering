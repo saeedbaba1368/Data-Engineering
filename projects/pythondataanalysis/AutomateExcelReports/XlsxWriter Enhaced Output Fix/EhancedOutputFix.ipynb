{
 "cells": [
  {
   "cell_type": "code",
   "execution_count": 1,
   "id": "32f9a66c",
   "metadata": {},
   "outputs": [],
   "source": [
    "import pandas as pd\n",
    "import numpy as np\n",
    "from xlsxwriter.utility import xl_rowcol_to_cell"
   ]
  },
  {
   "cell_type": "code",
   "execution_count": 2,
   "id": "9e06958e",
   "metadata": {},
   "outputs": [],
   "source": [
    "df = pd.read_excel(\"G:\\\\repo\\\\sampledata.xlsx\")"
   ]
  },
  {
   "cell_type": "code",
   "execution_count": 3,
   "id": "27e6b570",
   "metadata": {},
   "outputs": [
    {
     "data": {
      "text/html": [
       "<div>\n",
       "<style scoped>\n",
       "    .dataframe tbody tr th:only-of-type {\n",
       "        vertical-align: middle;\n",
       "    }\n",
       "\n",
       "    .dataframe tbody tr th {\n",
       "        vertical-align: top;\n",
       "    }\n",
       "\n",
       "    .dataframe thead th {\n",
       "        text-align: right;\n",
       "    }\n",
       "</style>\n",
       "<table border=\"1\" class=\"dataframe\">\n",
       "  <thead>\n",
       "    <tr style=\"text-align: right;\">\n",
       "      <th></th>\n",
       "      <th>Category</th>\n",
       "      <th>Sub-Category</th>\n",
       "      <th>Product</th>\n",
       "      <th>Country</th>\n",
       "      <th>OrderDate</th>\n",
       "      <th>Cost</th>\n",
       "      <th>Discount</th>\n",
       "      <th>Sales</th>\n",
       "      <th>Net</th>\n",
       "    </tr>\n",
       "  </thead>\n",
       "  <tbody>\n",
       "    <tr>\n",
       "      <th>0</th>\n",
       "      <td>Clothing</td>\n",
       "      <td>Vests</td>\n",
       "      <td>Classic Vest, M</td>\n",
       "      <td>United States</td>\n",
       "      <td>2014-05-01</td>\n",
       "      <td>23.749</td>\n",
       "      <td>0</td>\n",
       "      <td>152.4</td>\n",
       "      <td>128.651</td>\n",
       "    </tr>\n",
       "    <tr>\n",
       "      <th>1</th>\n",
       "      <td>Clothing</td>\n",
       "      <td>Vests</td>\n",
       "      <td>Classic Vest, M</td>\n",
       "      <td>United States</td>\n",
       "      <td>2014-05-01</td>\n",
       "      <td>23.749</td>\n",
       "      <td>0</td>\n",
       "      <td>152.4</td>\n",
       "      <td>128.651</td>\n",
       "    </tr>\n",
       "    <tr>\n",
       "      <th>2</th>\n",
       "      <td>Clothing</td>\n",
       "      <td>Vests</td>\n",
       "      <td>Classic Vest, M</td>\n",
       "      <td>United States</td>\n",
       "      <td>2014-05-01</td>\n",
       "      <td>23.749</td>\n",
       "      <td>0</td>\n",
       "      <td>152.4</td>\n",
       "      <td>128.651</td>\n",
       "    </tr>\n",
       "    <tr>\n",
       "      <th>3</th>\n",
       "      <td>Clothing</td>\n",
       "      <td>Vests</td>\n",
       "      <td>Classic Vest, M</td>\n",
       "      <td>United States</td>\n",
       "      <td>2014-05-01</td>\n",
       "      <td>23.749</td>\n",
       "      <td>0</td>\n",
       "      <td>38.1</td>\n",
       "      <td>14.351</td>\n",
       "    </tr>\n",
       "    <tr>\n",
       "      <th>4</th>\n",
       "      <td>Clothing</td>\n",
       "      <td>Vests</td>\n",
       "      <td>Classic Vest, M</td>\n",
       "      <td>United States</td>\n",
       "      <td>2014-05-01</td>\n",
       "      <td>23.749</td>\n",
       "      <td>0</td>\n",
       "      <td>76.2</td>\n",
       "      <td>52.451</td>\n",
       "    </tr>\n",
       "    <tr>\n",
       "      <th>5</th>\n",
       "      <td>Clothing</td>\n",
       "      <td>Vests</td>\n",
       "      <td>Classic Vest, M</td>\n",
       "      <td>United States</td>\n",
       "      <td>2014-05-01</td>\n",
       "      <td>23.749</td>\n",
       "      <td>0</td>\n",
       "      <td>228.6</td>\n",
       "      <td>204.851</td>\n",
       "    </tr>\n",
       "    <tr>\n",
       "      <th>6</th>\n",
       "      <td>Clothing</td>\n",
       "      <td>Vests</td>\n",
       "      <td>Classic Vest, M</td>\n",
       "      <td>United States</td>\n",
       "      <td>2014-05-01</td>\n",
       "      <td>23.749</td>\n",
       "      <td>0</td>\n",
       "      <td>152.4</td>\n",
       "      <td>128.651</td>\n",
       "    </tr>\n",
       "    <tr>\n",
       "      <th>7</th>\n",
       "      <td>Clothing</td>\n",
       "      <td>Vests</td>\n",
       "      <td>Classic Vest, M</td>\n",
       "      <td>United States</td>\n",
       "      <td>2014-05-01</td>\n",
       "      <td>23.749</td>\n",
       "      <td>0</td>\n",
       "      <td>228.6</td>\n",
       "      <td>204.851</td>\n",
       "    </tr>\n",
       "    <tr>\n",
       "      <th>8</th>\n",
       "      <td>Clothing</td>\n",
       "      <td>Vests</td>\n",
       "      <td>Classic Vest, M</td>\n",
       "      <td>United States</td>\n",
       "      <td>2014-05-01</td>\n",
       "      <td>23.749</td>\n",
       "      <td>0</td>\n",
       "      <td>381.0</td>\n",
       "      <td>357.251</td>\n",
       "    </tr>\n",
       "    <tr>\n",
       "      <th>9</th>\n",
       "      <td>Clothing</td>\n",
       "      <td>Vests</td>\n",
       "      <td>Classic Vest, M</td>\n",
       "      <td>United States</td>\n",
       "      <td>2014-05-01</td>\n",
       "      <td>23.749</td>\n",
       "      <td>0</td>\n",
       "      <td>266.7</td>\n",
       "      <td>242.951</td>\n",
       "    </tr>\n",
       "    <tr>\n",
       "      <th>10</th>\n",
       "      <td>Clothing</td>\n",
       "      <td>Vests</td>\n",
       "      <td>Classic Vest, M</td>\n",
       "      <td>United States</td>\n",
       "      <td>2014-05-01</td>\n",
       "      <td>23.749</td>\n",
       "      <td>0</td>\n",
       "      <td>76.2</td>\n",
       "      <td>52.451</td>\n",
       "    </tr>\n",
       "    <tr>\n",
       "      <th>11</th>\n",
       "      <td>Clothing</td>\n",
       "      <td>Vests</td>\n",
       "      <td>Classic Vest, M</td>\n",
       "      <td>United States</td>\n",
       "      <td>2014-05-01</td>\n",
       "      <td>23.749</td>\n",
       "      <td>0</td>\n",
       "      <td>114.3</td>\n",
       "      <td>90.551</td>\n",
       "    </tr>\n",
       "    <tr>\n",
       "      <th>12</th>\n",
       "      <td>Clothing</td>\n",
       "      <td>Vests</td>\n",
       "      <td>Classic Vest, M</td>\n",
       "      <td>United States</td>\n",
       "      <td>2014-05-01</td>\n",
       "      <td>23.749</td>\n",
       "      <td>0</td>\n",
       "      <td>114.3</td>\n",
       "      <td>90.551</td>\n",
       "    </tr>\n",
       "    <tr>\n",
       "      <th>13</th>\n",
       "      <td>Clothing</td>\n",
       "      <td>Vests</td>\n",
       "      <td>Classic Vest, M</td>\n",
       "      <td>United States</td>\n",
       "      <td>2014-05-01</td>\n",
       "      <td>23.749</td>\n",
       "      <td>0</td>\n",
       "      <td>304.8</td>\n",
       "      <td>281.051</td>\n",
       "    </tr>\n",
       "    <tr>\n",
       "      <th>14</th>\n",
       "      <td>Clothing</td>\n",
       "      <td>Vests</td>\n",
       "      <td>Classic Vest, M</td>\n",
       "      <td>United States</td>\n",
       "      <td>2014-05-01</td>\n",
       "      <td>23.749</td>\n",
       "      <td>0</td>\n",
       "      <td>266.7</td>\n",
       "      <td>242.951</td>\n",
       "    </tr>\n",
       "  </tbody>\n",
       "</table>\n",
       "</div>"
      ],
      "text/plain": [
       "    Category Sub-Category          Product        Country   OrderDate    Cost  \\\n",
       "0   Clothing        Vests  Classic Vest, M  United States  2014-05-01  23.749   \n",
       "1   Clothing        Vests  Classic Vest, M  United States  2014-05-01  23.749   \n",
       "2   Clothing        Vests  Classic Vest, M  United States  2014-05-01  23.749   \n",
       "3   Clothing        Vests  Classic Vest, M  United States  2014-05-01  23.749   \n",
       "4   Clothing        Vests  Classic Vest, M  United States  2014-05-01  23.749   \n",
       "5   Clothing        Vests  Classic Vest, M  United States  2014-05-01  23.749   \n",
       "6   Clothing        Vests  Classic Vest, M  United States  2014-05-01  23.749   \n",
       "7   Clothing        Vests  Classic Vest, M  United States  2014-05-01  23.749   \n",
       "8   Clothing        Vests  Classic Vest, M  United States  2014-05-01  23.749   \n",
       "9   Clothing        Vests  Classic Vest, M  United States  2014-05-01  23.749   \n",
       "10  Clothing        Vests  Classic Vest, M  United States  2014-05-01  23.749   \n",
       "11  Clothing        Vests  Classic Vest, M  United States  2014-05-01  23.749   \n",
       "12  Clothing        Vests  Classic Vest, M  United States  2014-05-01  23.749   \n",
       "13  Clothing        Vests  Classic Vest, M  United States  2014-05-01  23.749   \n",
       "14  Clothing        Vests  Classic Vest, M  United States  2014-05-01  23.749   \n",
       "\n",
       "    Discount  Sales      Net  \n",
       "0          0  152.4  128.651  \n",
       "1          0  152.4  128.651  \n",
       "2          0  152.4  128.651  \n",
       "3          0   38.1   14.351  \n",
       "4          0   76.2   52.451  \n",
       "5          0  228.6  204.851  \n",
       "6          0  152.4  128.651  \n",
       "7          0  228.6  204.851  \n",
       "8          0  381.0  357.251  \n",
       "9          0  266.7  242.951  \n",
       "10         0   76.2   52.451  \n",
       "11         0  114.3   90.551  \n",
       "12         0  114.3   90.551  \n",
       "13         0  304.8  281.051  \n",
       "14         0  266.7  242.951  "
      ]
     },
     "execution_count": 3,
     "metadata": {},
     "output_type": "execute_result"
    }
   ],
   "source": [
    "# dataframe has fifteen rows. Index starts from zero\n",
    "df"
   ]
  },
  {
   "cell_type": "code",
   "execution_count": 4,
   "id": "182b8ad4",
   "metadata": {},
   "outputs": [],
   "source": [
    "startrowval = 2 # index starts from zero\n",
    "writer = pd.ExcelWriter(r'G:\\repo\\sample_enhanced_output.xlsx', engine='xlsxwriter')\n",
    "df.to_excel(writer, startrow=startrowval, index=False, sheet_name='report')\n",
    "#\n",
    "workbook = writer.book\n",
    "worksheet = writer.sheets['report']\n",
    "#Now we have the worksheet object. We can manipulate it \n",
    "worksheet.set_zoom(90)"
   ]
  },
  {
   "cell_type": "code",
   "execution_count": 5,
   "id": "6e3f015c",
   "metadata": {},
   "outputs": [],
   "source": [
    "#Set header formating\n",
    "header_format = workbook.add_format({\n",
    "        \"valign\": \"vcenter\",\n",
    "        \"align\": \"center\",\n",
    "        \"bg_color\": \"#951F06\",\n",
    "         \"bold\": True,\n",
    "        'font_color': '#FFFFFF'\n",
    "    })"
   ]
  },
  {
   "cell_type": "code",
   "execution_count": 6,
   "id": "1a3d1a2d",
   "metadata": {},
   "outputs": [],
   "source": [
    "#add title\n",
    "title = \"Monthly Sales Report \"\n",
    "#merge cells\n",
    "format = workbook.add_format()\n",
    "format.set_font_size(20)\n",
    "format.set_font_color(\"#333333\")\n",
    "#\n",
    "subheader = \"Sales report for Classic Vest, M\"\n",
    "worksheet.merge_range('A1:AS1', title, format)\n",
    "worksheet.merge_range('A2:AS2', subheader)\n",
    "worksheet.set_row(2, 15) # Set the header row height to 15\n",
    "# puting it all together\n",
    "# Write the column headers with the defined format.\n",
    "for col_num, value in enumerate(df.columns.values):\n",
    "    #print(col_num, value)\n",
    "    worksheet.write(startrowval, col_num, value, header_format)"
   ]
  },
  {
   "cell_type": "code",
   "execution_count": 7,
   "id": "c7c830fc",
   "metadata": {},
   "outputs": [],
   "source": [
    "# Add a number format for cells with money.\n",
    "money_fmt = workbook.add_format({'num_format': '$#,##0.00'})\n",
    "# Total formatting\n",
    "total_fmt = workbook.add_format({'align': 'right', 'num_format': '$#,##0',\n",
    "                                 'bold': True, 'bottom':6})"
   ]
  },
  {
   "cell_type": "code",
   "execution_count": 8,
   "id": "9e0eae29",
   "metadata": {},
   "outputs": [
    {
     "data": {
      "text/plain": [
       "0"
      ]
     },
     "execution_count": 8,
     "metadata": {},
     "output_type": "execute_result"
    }
   ],
   "source": [
    "# Adjust the column width.\n",
    "worksheet.set_column('A:F', 20)"
   ]
  },
  {
   "cell_type": "code",
   "execution_count": 9,
   "id": "7215d0a8",
   "metadata": {},
   "outputs": [
    {
     "data": {
      "text/plain": [
       "0"
      ]
     },
     "execution_count": 9,
     "metadata": {},
     "output_type": "execute_result"
    }
   ],
   "source": [
    "# numeric columns\n",
    "worksheet.set_column('F:I', 12, money_fmt)"
   ]
  },
  {
   "cell_type": "code",
   "execution_count": 10,
   "id": "d23acde9",
   "metadata": {},
   "outputs": [
    {
     "data": {
      "text/plain": [
       "17"
      ]
     },
     "execution_count": 10,
     "metadata": {},
     "output_type": "execute_result"
    }
   ],
   "source": [
    "number_rows = len(df.index) + startrowval\n",
    "number_rows"
   ]
  },
  {
   "cell_type": "code",
   "execution_count": 11,
   "id": "6ea6c4ce",
   "metadata": {},
   "outputs": [
    {
     "name": "stdout",
     "output_type": "stream",
     "text": [
      "F4\n",
      "F18\n",
      "=SUM(F4:F18)\n",
      "G4\n",
      "G18\n",
      "=SUM(G4:G18)\n",
      "H4\n",
      "H18\n",
      "=SUM(H4:H18)\n",
      "I4\n",
      "I18\n",
      "=SUM(I4:I18)\n"
     ]
    }
   ],
   "source": [
    "# Add total rows\n",
    "for column in range(5, 9):\n",
    "    # Determine where we will place the formula\n",
    "    cell_location = xl_rowcol_to_cell(number_rows+1, column)\n",
    "    # Get the range to use for the sum formula\n",
    "    start_range = xl_rowcol_to_cell(3, column)\n",
    "    print(start_range)\n",
    "    end_range = xl_rowcol_to_cell(number_rows, column)\n",
    "    print(end_range)\n",
    "    # Construct and write the formula\n",
    "    formula = \"=SUM({:s}:{:s})\".format(start_range, end_range)\n",
    "    print(formula)\n",
    "    worksheet.write_formula(cell_location, formula, total_fmt)"
   ]
  },
  {
   "cell_type": "code",
   "execution_count": 12,
   "id": "ae9a0dee",
   "metadata": {},
   "outputs": [
    {
     "data": {
      "text/plain": [
       "0"
      ]
     },
     "execution_count": 12,
     "metadata": {},
     "output_type": "execute_result"
    }
   ],
   "source": [
    "# Add a total label\n",
    "worksheet.write_string(number_rows+1, 4, \"Total\",total_fmt)"
   ]
  },
  {
   "cell_type": "code",
   "execution_count": 13,
   "id": "56f04110",
   "metadata": {},
   "outputs": [],
   "source": [
    "#Advance output\n",
    "writer.save()"
   ]
  },
  {
   "cell_type": "code",
   "execution_count": null,
   "id": "3e33a87c",
   "metadata": {},
   "outputs": [],
   "source": []
  }
 ],
 "metadata": {
  "kernelspec": {
   "display_name": "Python 3 (ipykernel)",
   "language": "python",
   "name": "python3"
  },
  "language_info": {
   "codemirror_mode": {
    "name": "ipython",
    "version": 3
   },
   "file_extension": ".py",
   "mimetype": "text/x-python",
   "name": "python",
   "nbconvert_exporter": "python",
   "pygments_lexer": "ipython3",
   "version": "3.9.7"
  }
 },
 "nbformat": 4,
 "nbformat_minor": 5
}
