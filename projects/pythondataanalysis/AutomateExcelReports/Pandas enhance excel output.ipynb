{
 "cells": [
  {
   "cell_type": "code",
   "execution_count": 1,
   "id": "alpine-jordan",
   "metadata": {},
   "outputs": [],
   "source": [
    "import pandas as pd\n",
    "import numpy as np\n",
    "from xlsxwriter.utility import xl_rowcol_to_cell"
   ]
  },
  {
   "cell_type": "code",
   "execution_count": null,
   "id": "dedicated-channel",
   "metadata": {},
   "outputs": [],
   "source": [
    "df = pd.read_excel(\"data\\AdvWorksData.xlsx\")"
   ]
  },
  {
   "cell_type": "code",
   "execution_count": null,
   "id": "rapid-mongolia",
   "metadata": {},
   "outputs": [],
   "source": [
    "df.head()"
   ]
  },
  {
   "cell_type": "code",
   "execution_count": null,
   "id": "capable-typing",
   "metadata": {},
   "outputs": [],
   "source": [
    "df = df[['productcategory','productsubcategory','product','Country','OrderDate','StandardCost','Discount','Sales']]"
   ]
  },
  {
   "cell_type": "code",
   "execution_count": null,
   "id": "descending-indonesia",
   "metadata": {},
   "outputs": [],
   "source": [
    "df.rename(columns={\"productcategory\": \"Category\",\"productsubcategory\": \"Sub-Category\",\"product\":\"Product\",\"StandardCost\": \"Cost\"}, inplace=True)"
   ]
  },
  {
   "cell_type": "code",
   "execution_count": null,
   "id": "finished-thought",
   "metadata": {},
   "outputs": [],
   "source": [
    "df = df[(df['Category']=='Clothing') & (df['Country']=='United States') & (df['Product']=='Classic Vest, M')]"
   ]
  },
  {
   "cell_type": "code",
   "execution_count": null,
   "id": "handy-consistency",
   "metadata": {},
   "outputs": [],
   "source": [
    "df= df[ (df['OrderDate'] == '2014-05-01')]"
   ]
  },
  {
   "cell_type": "code",
   "execution_count": null,
   "id": "subtle-alberta",
   "metadata": {},
   "outputs": [],
   "source": [
    "df.shape"
   ]
  },
  {
   "cell_type": "code",
   "execution_count": null,
   "id": "associate-basic",
   "metadata": {},
   "outputs": [],
   "source": [
    "#add a new column for Net Sales\n",
    "df['Net'] = df['Sales'] - (df['Cost']-df['Discount'])\n",
    "#convert datetime to date and string\n",
    "df['OrderDate'] = df['OrderDate'].astype(str)"
   ]
  },
  {
   "cell_type": "code",
   "execution_count": null,
   "id": "56529776",
   "metadata": {},
   "outputs": [],
   "source": [
    " df"
   ]
  },
  {
   "cell_type": "code",
   "execution_count": null,
   "id": "recorded-identifier",
   "metadata": {},
   "outputs": [],
   "source": [
    "df = df.reset_index(drop=True)\n",
    "df"
   ]
  },
  {
   "cell_type": "code",
   "execution_count": null,
   "id": "narrative-virginia",
   "metadata": {},
   "outputs": [],
   "source": [
    "df['OrderDate'] = df['OrderDate'].astype(str)"
   ]
  },
  {
   "cell_type": "markdown",
   "id": "suited-revelation",
   "metadata": {},
   "source": [
    "### Simple Outupt"
   ]
  },
  {
   "cell_type": "code",
   "execution_count": null,
   "id": "optical-damage",
   "metadata": {},
   "outputs": [],
   "source": [
    "#simpel output\n",
    "df.to_excel(r'G:\\repo\\sampledata.xlsx', index=False, sheet_name='report')"
   ]
  },
  {
   "cell_type": "markdown",
   "id": "desirable-stevens",
   "metadata": {},
   "source": [
    "### Get access to worksheet object"
   ]
  },
  {
   "cell_type": "code",
   "execution_count": null,
   "id": "attended-continuity",
   "metadata": {},
   "outputs": [],
   "source": [
    "startrowval = 2 # index starts from zero\n",
    "writer = pd.ExcelWriter(r'G:\\repo\\enhancedtest.xlsx', engine='xlsxwriter')\n",
    "df.to_excel(writer, startrow=startrowval, index=False, sheet_name='report')\n",
    "#\n",
    "workbook = writer.book\n",
    "worksheet = writer.sheets['report']"
   ]
  },
  {
   "cell_type": "code",
   "execution_count": null,
   "id": "signal-feeling",
   "metadata": {},
   "outputs": [],
   "source": [
    "#Now we have the worksheet object. We can manipulate it \n",
    "worksheet.set_zoom(90)"
   ]
  },
  {
   "cell_type": "code",
   "execution_count": null,
   "id": "junior-consciousness",
   "metadata": {},
   "outputs": [],
   "source": [
    "#Set header formating\n",
    "header_format = workbook.add_format({\n",
    "        \"valign\": \"vcenter\",\n",
    "        \"align\": \"center\",\n",
    "        \"bg_color\": \"#951F06\",\n",
    "         \"bold\": True,\n",
    "        'font_color': '#FFFFFF'\n",
    "    })"
   ]
  },
  {
   "cell_type": "code",
   "execution_count": null,
   "id": "fuzzy-scratch",
   "metadata": {},
   "outputs": [],
   "source": [
    "#add title\n",
    "title = \"Monthly Sales Report \"\n",
    "#merge cells\n",
    "format = workbook.add_format()\n",
    "format.set_font_size(20)\n",
    "format.set_font_color(\"#333333\")\n",
    "#\n",
    "subheader = \"Sales report for Classic Vest, M\"\n",
    "worksheet.merge_range('A1:AS1', title, format)\n",
    "worksheet.merge_range('A2:AS2', subheader)\n",
    "worksheet.set_row(2, 15) # Set the header row height to 15\n",
    "# puting it all together\n",
    "# Write the column headers with the defined format.\n",
    "for col_num, value in enumerate(df.columns.values):\n",
    "    #print(col_num, value)\n",
    "    worksheet.write(startrowval, col_num, value, header_format)"
   ]
  },
  {
   "cell_type": "code",
   "execution_count": null,
   "id": "solid-approach",
   "metadata": {},
   "outputs": [],
   "source": [
    "# Add a number format for cells with money.\n",
    "money_fmt = workbook.add_format({'num_format': '$#,##0.00'})"
   ]
  },
  {
   "cell_type": "code",
   "execution_count": null,
   "id": "frank-cincinnati",
   "metadata": {},
   "outputs": [],
   "source": [
    "# Total formatting\n",
    "total_fmt = workbook.add_format({'align': 'right', 'num_format': '$#,##0',\n",
    "                                 'bold': True, 'bottom':6})"
   ]
  },
  {
   "cell_type": "code",
   "execution_count": null,
   "id": "solid-photographer",
   "metadata": {},
   "outputs": [],
   "source": [
    "# Adjust the column width.\n",
    "worksheet.set_column('A:F', 20)"
   ]
  },
  {
   "cell_type": "code",
   "execution_count": null,
   "id": "adverse-therapist",
   "metadata": {
    "scrolled": true
   },
   "outputs": [],
   "source": [
    "# numeric columns\n",
    "worksheet.set_column('F:I', 12, money_fmt)"
   ]
  },
  {
   "cell_type": "code",
   "execution_count": null,
   "id": "assured-aircraft",
   "metadata": {},
   "outputs": [],
   "source": [
    "number_rows = len(df.index) + startrowval\n",
    "number_rows"
   ]
  },
  {
   "cell_type": "code",
   "execution_count": null,
   "id": "accompanied-ghana",
   "metadata": {},
   "outputs": [],
   "source": [
    "# Add total rows\n",
    "for column in range(5, 9):\n",
    "    # Determine where we will place the formula\n",
    "    cell_location = xl_rowcol_to_cell(number_rows+1, column)\n",
    "    # Get the range to use for the sum formula\n",
    "    start_range = xl_rowcol_to_cell(3, column)\n",
    "    print(start_range)\n",
    "    end_range = xl_rowcol_to_cell(number_rows, column)\n",
    "    print(end_range)\n",
    "    # Construct and write the formula\n",
    "    formula = \"=SUM({:s}:{:s})\".format(start_range, end_range)\n",
    "    print(formula)\n",
    "    worksheet.write_formula(cell_location, formula, total_fmt)"
   ]
  },
  {
   "cell_type": "code",
   "execution_count": null,
   "id": "accessible-channel",
   "metadata": {},
   "outputs": [],
   "source": [
    "# Add a total label\n",
    "worksheet.write_string(number_rows+1, 4, \"Total\",total_fmt)"
   ]
  },
  {
   "cell_type": "markdown",
   "id": "vocal-static",
   "metadata": {},
   "source": [
    "### Advance Outuput"
   ]
  },
  {
   "cell_type": "code",
   "execution_count": null,
   "id": "valid-female",
   "metadata": {},
   "outputs": [],
   "source": [
    "#Advance output\n",
    "writer.save()"
   ]
  },
  {
   "cell_type": "code",
   "execution_count": null,
   "id": "fatty-anger",
   "metadata": {},
   "outputs": [],
   "source": []
  },
  {
   "cell_type": "code",
   "execution_count": null,
   "id": "theoretical-reynolds",
   "metadata": {},
   "outputs": [],
   "source": []
  }
 ],
 "metadata": {
  "kernelspec": {
   "display_name": "Python 3 (ipykernel)",
   "language": "python",
   "name": "python3"
  },
  "language_info": {
   "codemirror_mode": {
    "name": "ipython",
    "version": 3
   },
   "file_extension": ".py",
   "mimetype": "text/x-python",
   "name": "python",
   "nbconvert_exporter": "python",
   "pygments_lexer": "ipython3",
   "version": "3.9.7"
  }
 },
 "nbformat": 4,
 "nbformat_minor": 5
}
