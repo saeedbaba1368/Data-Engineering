{
 "cells": [
  {
   "cell_type": "code",
   "execution_count": 1,
   "id": "neutral-brook",
   "metadata": {},
   "outputs": [],
   "source": [
    "import pyodbc\n",
    "import pandas as pd\n",
    "import os"
   ]
  },
  {
   "cell_type": "code",
   "execution_count": 2,
   "id": "expensive-combat",
   "metadata": {},
   "outputs": [],
   "source": [
    "connection = pyodbc.connect(\"Driver={SQL Server Native Client 11.0};\"\n",
    "                      \"Server=servername;\"\n",
    "                      \"Database=AdventureWorksDW2012;\"\n",
    "                      \"Trusted_Connection=yes;\"\n",
    ")\n",
    "\n",
    "df = pd.read_sql_query(\"select * FROM [AdventureWorks2012].[Sales].[vw_salesoverview] order by OrderDate\", connection)"
   ]
  },
  {
   "cell_type": "code",
   "execution_count": 6,
   "id": "fewer-hundred",
   "metadata": {},
   "outputs": [
    {
     "name": "stdout",
     "output_type": "stream",
     "text": [
      "<class 'pandas.core.frame.DataFrame'>\n",
      "RangeIndex: 60880 entries, 0 to 60879\n",
      "Data columns (total 20 columns):\n",
      "productcategory       60841 non-null object\n",
      "productsubcategory    60841 non-null object\n",
      "product               60841 non-null object\n",
      "saleterritory         60880 non-null object\n",
      "Country               60880 non-null object\n",
      "City                  60880 non-null object\n",
      "Sate                  60880 non-null object\n",
      "Customer              60880 non-null object\n",
      "Employee              60880 non-null object\n",
      "OrderCount            60880 non-null int64\n",
      "OrderDate             60880 non-null datetime64[ns]\n",
      "StandardCost          60841 non-null float64\n",
      "UnitPrice             60880 non-null float64\n",
      "UnitPriceDiscount     60880 non-null float64\n",
      "Discount              60880 non-null float64\n",
      "ListPrice             60841 non-null float64\n",
      "SaleswithStandard     60841 non-null float64\n",
      "NetSales              60841 non-null float64\n",
      "OrderQuantity         60880 non-null int64\n",
      "Sales                 60880 non-null float64\n",
      "dtypes: datetime64[ns](1), float64(8), int64(2), object(9)\n",
      "memory usage: 9.3+ MB\n"
     ]
    }
   ],
   "source": [
    "df.info()"
   ]
  },
  {
   "cell_type": "code",
   "execution_count": 7,
   "id": "electronic-montgomery",
   "metadata": {},
   "outputs": [
    {
     "data": {
      "text/plain": [
       "array(['Northwest', 'Canada', 'Central', 'Southwest', 'Northeast',\n",
       "       'Southeast', 'United Kingdom', 'France', 'Germany', 'Australia'],\n",
       "      dtype=object)"
      ]
     },
     "execution_count": 7,
     "metadata": {},
     "output_type": "execute_result"
    }
   ],
   "source": [
    "ls = df['saleterritory'].unique()\n",
    "ls"
   ]
  },
  {
   "cell_type": "code",
   "execution_count": 8,
   "id": "covered-newark",
   "metadata": {},
   "outputs": [
    {
     "name": "stdout",
     "output_type": "stream",
     "text": [
      "E:\\Shared\\reports\\Northwest\n",
      "{} file saved Northwest\n",
      "E:\\Shared\\reports\\Canada\n",
      "{} file saved Canada\n",
      "E:\\Shared\\reports\\Central\n",
      "{} file saved Central\n",
      "E:\\Shared\\reports\\Southwest\n",
      "{} file saved Southwest\n",
      "E:\\Shared\\reports\\Northeast\n",
      "{} file saved Northeast\n",
      "E:\\Shared\\reports\\Southeast\n",
      "{} file saved Southeast\n",
      "E:\\Shared\\reports\\United Kingdom\n",
      "{} file saved United Kingdom\n",
      "E:\\Shared\\reports\\France\n",
      "{} file saved France\n",
      "E:\\Shared\\reports\\Germany\n",
      "{} file saved Germany\n",
      "E:\\Shared\\reports\\Australia\n",
      "{} file saved Australia\n"
     ]
    }
   ],
   "source": [
    "base_dir = r\"E:\\Shared\\reports\"\n",
    "for x in ls:\n",
    "    print(base_dir + \"\\\\\" + x)\n",
    "    folders = base_dir + \"\\\\\" + x\n",
    "    if not os.path.exists(folders):\n",
    "        os.makedirs(folders)\n",
    "    df[df['saleterritory'] == x].to_excel(\"{}\\{}.xlsx\".format(folders, x), sheet_name=x, index=False)\n",
    "    print(\"{} file saved\", x)"
   ]
  },
  {
   "cell_type": "code",
   "execution_count": null,
   "id": "unusual-gender",
   "metadata": {},
   "outputs": [],
   "source": []
  }
 ],
 "metadata": {
  "kernelspec": {
   "display_name": "Python 3",
   "language": "python",
   "name": "python3"
  },
  "language_info": {
   "codemirror_mode": {
    "name": "ipython",
    "version": 3
   },
   "file_extension": ".py",
   "mimetype": "text/x-python",
   "name": "python",
   "nbconvert_exporter": "python",
   "pygments_lexer": "ipython3",
   "version": "3.7.3"
  }
 },
 "nbformat": 4,
 "nbformat_minor": 5
}
