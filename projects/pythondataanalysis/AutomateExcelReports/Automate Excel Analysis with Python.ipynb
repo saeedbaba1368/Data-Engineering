{
 "cells": [
  {
   "cell_type": "markdown",
   "id": "46d207bc",
   "metadata": {
    "heading_collapsed": true
   },
   "source": [
    "### Import Libraries and Data"
   ]
  },
  {
   "cell_type": "code",
   "execution_count": 1,
   "id": "3c5f3d18",
   "metadata": {
    "hidden": true
   },
   "outputs": [],
   "source": [
    "import pandas as pd\n",
    "import openpyxl\n",
    "from openpyxl import load_workbook\n",
    "from openpyxl.styles import Font\n",
    "from openpyxl.chart import BarChart, Reference\n",
    "import string\n",
    "from openpyxl.styles import numbers, Alignment, Border, Side\n",
    "from openpyxl.worksheet.dimensions import ColumnDimension, DimensionHolder\n",
    "from openpyxl.utils import get_column_letter"
   ]
  },
  {
   "cell_type": "code",
   "execution_count": 2,
   "id": "f6737390",
   "metadata": {
    "hidden": true
   },
   "outputs": [],
   "source": [
    "df = pd.read_csv('data\\AdvWorksData.csv', encoding=\"ISO-8859-1\")"
   ]
  },
  {
   "cell_type": "code",
   "execution_count": 3,
   "id": "17154882",
   "metadata": {
    "hidden": true
   },
   "outputs": [
    {
     "data": {
      "text/html": [
       "<div>\n",
       "<style scoped>\n",
       "    .dataframe tbody tr th:only-of-type {\n",
       "        vertical-align: middle;\n",
       "    }\n",
       "\n",
       "    .dataframe tbody tr th {\n",
       "        vertical-align: top;\n",
       "    }\n",
       "\n",
       "    .dataframe thead th {\n",
       "        text-align: right;\n",
       "    }\n",
       "</style>\n",
       "<table border=\"1\" class=\"dataframe\">\n",
       "  <thead>\n",
       "    <tr style=\"text-align: right;\">\n",
       "      <th></th>\n",
       "      <th>productcategory</th>\n",
       "      <th>Country</th>\n",
       "      <th>Sales</th>\n",
       "    </tr>\n",
       "  </thead>\n",
       "  <tbody>\n",
       "    <tr>\n",
       "      <th>0</th>\n",
       "      <td>Clothing</td>\n",
       "      <td>United Kingdom</td>\n",
       "      <td>68.786592</td>\n",
       "    </tr>\n",
       "    <tr>\n",
       "      <th>1</th>\n",
       "      <td>Accessories</td>\n",
       "      <td>United Kingdom</td>\n",
       "      <td>90.000000</td>\n",
       "    </tr>\n",
       "    <tr>\n",
       "      <th>2</th>\n",
       "      <td>Clothing</td>\n",
       "      <td>United Kingdom</td>\n",
       "      <td>182.352000</td>\n",
       "    </tr>\n",
       "    <tr>\n",
       "      <th>3</th>\n",
       "      <td>Clothing</td>\n",
       "      <td>United Kingdom</td>\n",
       "      <td>317.596400</td>\n",
       "    </tr>\n",
       "    <tr>\n",
       "      <th>4</th>\n",
       "      <td>Clothing</td>\n",
       "      <td>United Kingdom</td>\n",
       "      <td>159.558000</td>\n",
       "    </tr>\n",
       "    <tr>\n",
       "      <th>...</th>\n",
       "      <td>...</td>\n",
       "      <td>...</td>\n",
       "      <td>...</td>\n",
       "    </tr>\n",
       "    <tr>\n",
       "      <th>60875</th>\n",
       "      <td>Clothing</td>\n",
       "      <td>United States</td>\n",
       "      <td>335.952000</td>\n",
       "    </tr>\n",
       "    <tr>\n",
       "      <th>60876</th>\n",
       "      <td>Clothing</td>\n",
       "      <td>United States</td>\n",
       "      <td>251.964000</td>\n",
       "    </tr>\n",
       "    <tr>\n",
       "      <th>60877</th>\n",
       "      <td>Clothing</td>\n",
       "      <td>United States</td>\n",
       "      <td>125.982000</td>\n",
       "    </tr>\n",
       "    <tr>\n",
       "      <th>60878</th>\n",
       "      <td>Clothing</td>\n",
       "      <td>United States</td>\n",
       "      <td>209.970000</td>\n",
       "    </tr>\n",
       "    <tr>\n",
       "      <th>60879</th>\n",
       "      <td>Clothing</td>\n",
       "      <td>United States</td>\n",
       "      <td>125.982000</td>\n",
       "    </tr>\n",
       "  </tbody>\n",
       "</table>\n",
       "<p>60880 rows × 3 columns</p>\n",
       "</div>"
      ],
      "text/plain": [
       "      productcategory         Country       Sales\n",
       "0            Clothing  United Kingdom   68.786592\n",
       "1         Accessories  United Kingdom   90.000000\n",
       "2            Clothing  United Kingdom  182.352000\n",
       "3            Clothing  United Kingdom  317.596400\n",
       "4            Clothing  United Kingdom  159.558000\n",
       "...               ...             ...         ...\n",
       "60875        Clothing   United States  335.952000\n",
       "60876        Clothing   United States  251.964000\n",
       "60877        Clothing   United States  125.982000\n",
       "60878        Clothing   United States  209.970000\n",
       "60879        Clothing   United States  125.982000\n",
       "\n",
       "[60880 rows x 3 columns]"
      ]
     },
     "execution_count": 3,
     "metadata": {},
     "output_type": "execute_result"
    }
   ],
   "source": [
    "df = df[['productcategory', 'Country', 'Sales']]\n",
    "df"
   ]
  },
  {
   "cell_type": "markdown",
   "id": "5d82bebf",
   "metadata": {
    "heading_collapsed": true
   },
   "source": [
    "### Create Pivot Table"
   ]
  },
  {
   "cell_type": "code",
   "execution_count": 4,
   "id": "6d628f0a",
   "metadata": {
    "hidden": true
   },
   "outputs": [
    {
     "data": {
      "text/html": [
       "<div>\n",
       "<style scoped>\n",
       "    .dataframe tbody tr th:only-of-type {\n",
       "        vertical-align: middle;\n",
       "    }\n",
       "\n",
       "    .dataframe tbody tr th {\n",
       "        vertical-align: top;\n",
       "    }\n",
       "\n",
       "    .dataframe thead th {\n",
       "        text-align: right;\n",
       "    }\n",
       "</style>\n",
       "<table border=\"1\" class=\"dataframe\">\n",
       "  <thead>\n",
       "    <tr style=\"text-align: right;\">\n",
       "      <th>Country</th>\n",
       "      <th>Australia</th>\n",
       "      <th>Canada</th>\n",
       "      <th>France</th>\n",
       "      <th>Germany</th>\n",
       "      <th>United Kingdom</th>\n",
       "      <th>United States</th>\n",
       "    </tr>\n",
       "    <tr>\n",
       "      <th>productcategory</th>\n",
       "      <th></th>\n",
       "      <th></th>\n",
       "      <th></th>\n",
       "      <th></th>\n",
       "      <th></th>\n",
       "      <th></th>\n",
       "    </tr>\n",
       "  </thead>\n",
       "  <tbody>\n",
       "    <tr>\n",
       "      <th>Accessories</th>\n",
       "      <td>23948.0</td>\n",
       "      <td>118127.0</td>\n",
       "      <td>48032.0</td>\n",
       "      <td>35083.0</td>\n",
       "      <td>42593.0</td>\n",
       "      <td>303515.0</td>\n",
       "    </tr>\n",
       "    <tr>\n",
       "      <th>Bikes</th>\n",
       "      <td>1323821.0</td>\n",
       "      <td>11636381.0</td>\n",
       "      <td>3560666.0</td>\n",
       "      <td>1543016.0</td>\n",
       "      <td>3405747.0</td>\n",
       "      <td>44832752.0</td>\n",
       "    </tr>\n",
       "    <tr>\n",
       "      <th>Clothing</th>\n",
       "      <td>42916.0</td>\n",
       "      <td>378948.0</td>\n",
       "      <td>128092.0</td>\n",
       "      <td>71619.0</td>\n",
       "      <td>118829.0</td>\n",
       "      <td>1037437.0</td>\n",
       "    </tr>\n",
       "    <tr>\n",
       "      <th>Components</th>\n",
       "      <td>203651.0</td>\n",
       "      <td>2244470.0</td>\n",
       "      <td>870748.0</td>\n",
       "      <td>334270.0</td>\n",
       "      <td>711840.0</td>\n",
       "      <td>7434097.0</td>\n",
       "    </tr>\n",
       "  </tbody>\n",
       "</table>\n",
       "</div>"
      ],
      "text/plain": [
       "Country          Australia      Canada     France    Germany  United Kingdom  \\\n",
       "productcategory                                                                \n",
       "Accessories        23948.0    118127.0    48032.0    35083.0         42593.0   \n",
       "Bikes            1323821.0  11636381.0  3560666.0  1543016.0       3405747.0   \n",
       "Clothing           42916.0    378948.0   128092.0    71619.0        118829.0   \n",
       "Components        203651.0   2244470.0   870748.0   334270.0        711840.0   \n",
       "\n",
       "Country          United States  \n",
       "productcategory                 \n",
       "Accessories           303515.0  \n",
       "Bikes               44832752.0  \n",
       "Clothing             1037437.0  \n",
       "Components           7434097.0  "
      ]
     },
     "execution_count": 4,
     "metadata": {},
     "output_type": "execute_result"
    }
   ],
   "source": [
    "report_table = df.pivot_table(index='productcategory',\n",
    "                                      columns='Country',\n",
    "                                      values='Sales',\n",
    "                                      aggfunc='sum').round(0)\n",
    "report_table"
   ]
  },
  {
   "cell_type": "markdown",
   "id": "58f95a1c",
   "metadata": {},
   "source": [
    "### Create visualization"
   ]
  },
  {
   "cell_type": "code",
   "execution_count": 5,
   "id": "143cf1cb",
   "metadata": {},
   "outputs": [],
   "source": [
    "#Save the pivot table to workbook\n",
    "report_table.to_excel('Sales_Report1.xlsx',\n",
    "                      sheet_name='report',\n",
    "                      startrow=3)"
   ]
  },
  {
   "cell_type": "code",
   "execution_count": 6,
   "id": "b9599b37",
   "metadata": {},
   "outputs": [],
   "source": [
    "#Load the workbook\n",
    "wb = load_workbook('Sales_Report1.xlsx')\n",
    "ws = wb['report']\n",
    "#\n",
    "# cell references (from the spreadsheet) \n",
    "min_col = wb.active.min_column\n",
    "max_col = wb.active.max_column\n",
    "min_row = wb.active.min_row\n",
    "max_row = wb.active.max_row"
   ]
  },
  {
   "cell_type": "code",
   "execution_count": 7,
   "id": "ed1d81e1",
   "metadata": {},
   "outputs": [],
   "source": [
    "# barchart\n",
    "barchart = BarChart()\n",
    "barchart.height = 10 # default is 7.5\n",
    "barchart.width = 24 # default is 15\n",
    "#locate data and categories\n",
    "data = Reference(ws,\n",
    "                 min_col=min_col+1, #including col headers\n",
    "                 max_col=max_col,\n",
    "                 min_row=min_row,\n",
    "                 max_row=max_row) \n",
    "categories = Reference(ws,\n",
    "                       min_col=min_col,\n",
    "                       max_col=min_col,\n",
    "                       min_row=min_row+1, #exclude row headers\n",
    "                       max_row=max_row) \n",
    "# adding data and categories\n",
    "barchart.add_data(data, titles_from_data=True)\n",
    "barchart.set_categories(categories)\n",
    "# chart location\n",
    "ws.add_chart(barchart, \"A11\")\n",
    "barchart.title = 'Sales by Product line'\n"
   ]
  },
  {
   "cell_type": "code",
   "execution_count": 8,
   "id": "874c9b2b",
   "metadata": {},
   "outputs": [],
   "source": [
    "# set the width of columns\n",
    "dim_holder = DimensionHolder(worksheet=ws)\n",
    "\n",
    "for col in range(ws.min_column, ws.max_column + 1):\n",
    "    dim_holder[get_column_letter(col)] = ColumnDimension(ws, min=col, max=col, width=20)\n",
    "\n",
    "ws.column_dimensions = dim_holder"
   ]
  },
  {
   "cell_type": "code",
   "execution_count": 9,
   "id": "5d9e520d",
   "metadata": {},
   "outputs": [],
   "source": [
    "ws['A1'].value = 'Sales by Country'\n",
    "ws['A2'].value = 'BI Insights Inc'\n",
    "# Set title formatting\n",
    "work_sheet_a1 = ws['A1']\n",
    "work_sheet_a1.font = Font(size=23, underline='single', color='778899', bold=True) #italic=True\n",
    "ws.merge_cells(\"A1:G1\")\n",
    "# format numbers\n",
    "for r in range(5,10):\n",
    "    ws[f'B{r}'].number_format ='\"$\"#,##0_);(\"$\"#,##0)'\n",
    "    ws[f'C{r}'].number_format ='\"$\"#,##0_);(\"$\"#,##0)'\n",
    "    ws[f'D{r}'].number_format ='\"$\"#,##0_);(\"$\"#,##0)'\n",
    "    ws[f'E{r}'].number_format ='\"$\"#,##0_);(\"$\"#,##0)'\n",
    "    ws[f'F{r}'].number_format ='\"$\"#,##0_);(\"$\"#,##0)'\n",
    "    ws[f'G{r}'].number_format ='\"$\"#,##0_);(\"$\"#,##0)'"
   ]
  },
  {
   "cell_type": "code",
   "execution_count": 10,
   "id": "0d73cb4d",
   "metadata": {},
   "outputs": [
    {
     "name": "stdout",
     "output_type": "stream",
     "text": [
      "['A', 'B', 'C', 'D', 'E', 'F', 'G']\n"
     ]
    }
   ],
   "source": [
    "alphabet = list(string.ascii_uppercase)\n",
    "excl_col = alphabet[0:max_col]\n",
    "print(excl_col)"
   ]
  },
  {
   "cell_type": "code",
   "execution_count": 12,
   "id": "fedc203d",
   "metadata": {},
   "outputs": [],
   "source": [
    "# Style for the total row\n",
    "total_style = Font( bold =True)"
   ]
  },
  {
   "cell_type": "code",
   "execution_count": 13,
   "id": "8034e369",
   "metadata": {},
   "outputs": [],
   "source": [
    "# Add totals to columns B-G\n",
    "thin = Side(border_style=\"thin\", color=\"000000\")\n",
    "for i in excl_col:\n",
    "    if i!='A':\n",
    "        ws[f'{i}{max_row+1}'] = f'=SUM({i}{min_row+1}:{i}{max_row})'\n",
    "        ws[f'{i}{max_row+1}'].number_format ='\"$\"#,##0_);(\"$\"#,##0)'\n",
    "        ws[f'{i}{max_row+1}'].font = total_style\n",
    "# adding label\n",
    "ws[f'{excl_col[0]}{max_row+1}'] = 'Total'\n",
    "ws[f'A{max_row+1}'].font = Font(size=11, bold=True) #italic=True\n",
    "ws[f'A{max_row+1}'].alignment = Alignment(horizontal='center')\n",
    "ws[f'A{max_row+1}'].border = Border(top=thin, left=thin, right=thin, bottom=thin)"
   ]
  },
  {
   "cell_type": "code",
   "execution_count": 14,
   "id": "5bbff03b",
   "metadata": {},
   "outputs": [],
   "source": [
    "wb.save('Sales_Report1.xlsx')"
   ]
  },
  {
   "cell_type": "markdown",
   "id": "11ea5b48",
   "metadata": {
    "heading_collapsed": true
   },
   "source": [
    "### Convert the code to a funciton"
   ]
  },
  {
   "cell_type": "code",
   "execution_count": null,
   "id": "935de18e",
   "metadata": {
    "hidden": true
   },
   "outputs": [],
   "source": [
    "def automate_report(file_name):\n",
    "    df = pd.read_csv(file_name)\n",
    "    df = df[['productcategory', 'Country', 'Sales']]\n",
    "    report_table = df.pivot_table(index='productcategory',\n",
    "                                      columns='Country',\n",
    "                                      values='Sales',\n",
    "                                      aggfunc='sum').round(0)\n",
    "    #\n",
    "    report_table.to_excel('Sales_Report.xlsx',sheet_name='report', startrow=3)\n",
    "    #\n",
    "    wb = load_workbook('Sales_Report.xlsx')\n",
    "    ws = wb['report']\n",
    "    # cell references (original spreadsheet) \n",
    "    min_col = wb.active.min_column\n",
    "    max_col = wb.active.max_column\n",
    "    min_row = wb.active.min_row\n",
    "    max_row = wb.active.max_row\n",
    "    # barchart\n",
    "    barchart = BarChart()\n",
    "    barchart.height = 10 # default is 7.5\n",
    "    barchart.width = 24 # default is 15\n",
    "    #locate data and categories\n",
    "    data = Reference(ws, min_col=min_col+1, max_col=max_col, min_row=min_row, max_row=max_row) #including headers\n",
    "    categories = Reference(ws, min_col=min_col, max_col=min_col, min_row=min_row+1, max_row=max_row) #exclude headers\n",
    "    # adding data and categories\n",
    "    barchart.add_data(data, titles_from_data=True)\n",
    "    barchart.set_categories(categories)\n",
    "    # chart location\n",
    "    ws.add_chart(barchart, \"A11\")\n",
    "    barchart.title = 'Sales by Product line'\n",
    "    # Set column width\n",
    "    dim_holder = DimensionHolder(worksheet=ws)\n",
    "    for col in range(ws.min_column, ws.max_column + 1):\n",
    "        dim_holder[get_column_letter(col)] = ColumnDimension(ws, min=col, max=col, width=20)\n",
    "    #\n",
    "    ws.column_dimensions = dim_holder\n",
    "    # Set report title & subltitle\n",
    "    ws['A1'].value = 'Sales by Country'\n",
    "    ws['A2'].value = 'BI Insights Inc'\n",
    "    work_sheet_a1 = ws['A1']\n",
    "    work_sheet_a1.font = Font(size=23, underline='single', color='778899', bold=True) #italic=True\n",
    "    ws.merge_cells(\"A1:G1\")\n",
    "    # Set number formatting\n",
    "    for r in range(5,10):\n",
    "        ws[f'B{r}'].number_format ='\"$\"#,##0_);(\"$\"#,##0)'\n",
    "        ws[f'C{r}'].number_format ='\"$\"#,##0_);(\"$\"#,##0)'\n",
    "        ws[f'D{r}'].number_format ='\"$\"#,##0_);(\"$\"#,##0)'\n",
    "        ws[f'E{r}'].number_format ='\"$\"#,##0_);(\"$\"#,##0)'\n",
    "        ws[f'F{r}'].number_format ='\"$\"#,##0_);(\"$\"#,##0)'\n",
    "        ws[f'G{r}'].number_format ='\"$\"#,##0_);(\"$\"#,##0)'\n",
    "    # Get Excel Cols\n",
    "    alphabet = list(string.ascii_uppercase)\n",
    "    excl_col = alphabet[0:max_column]\n",
    "    # Add totals to columns B-G\n",
    "    thin = Side(border_style=\"thin\", color=\"000000\")\n",
    "    for i in excl_col:\n",
    "        if i!='A':\n",
    "            ws[f'{i}{max_row+1}'] = f'=SUM({i}{min_row+1}:{i}{max_row})'\n",
    "            ws[f'{i}{max_row+1}'].number_format ='\"$\"#,##0_);(\"$\"#,##0)'\n",
    "            #ws[f'{i}{max_row+1}'].border = Border(top=thin, left=thin, right=thin, bottom=thin)\n",
    "    # adding label\n",
    "    ws[f'{excl_col[0]}{max_row+1}'] = 'Total'\n",
    "    ws[f'A{max_row+1}'].font = Font(size=11, bold=True) #italic=True\n",
    "    ws[f'A{max_row+1}'].alignment = Alignment(horizontal='center')\n",
    "    ws[f'A{max_row+1}'].border = Border(top=thin, left=thin, right=thin, bottom=thin)\n",
    "    # save the file\n",
    "    wb.save('Sales_Report.xlsx')"
   ]
  },
  {
   "cell_type": "code",
   "execution_count": null,
   "id": "16c3c3d8",
   "metadata": {
    "hidden": true
   },
   "outputs": [],
   "source": [
    "automate_report('data\\AdvWorksData.csv')"
   ]
  }
 ],
 "metadata": {
  "kernelspec": {
   "display_name": "Python 3 (ipykernel)",
   "language": "python",
   "name": "python3"
  },
  "language_info": {
   "codemirror_mode": {
    "name": "ipython",
    "version": 3
   },
   "file_extension": ".py",
   "mimetype": "text/x-python",
   "name": "python",
   "nbconvert_exporter": "python",
   "pygments_lexer": "ipython3",
   "version": "3.9.13"
  }
 },
 "nbformat": 4,
 "nbformat_minor": 5
}
